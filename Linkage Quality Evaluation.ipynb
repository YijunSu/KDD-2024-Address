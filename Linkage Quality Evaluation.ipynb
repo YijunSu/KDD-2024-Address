{
 "cells": [
  {
   "cell_type": "markdown",
   "id": "7855d5b1",
   "metadata": {
    "pycharm": {
     "name": "#%% md\n"
    }
   },
   "source": [
    "* baselines\n",
    "    * Edit distance\n",
    "    * Q-gram\n",
    "    * Bloom filter\n",
    "    * Transformer + Sup. SimCSE\n",
    "    * GEAN + Sup. SimCSE"
   ]
  },
  {
   "cell_type": "markdown",
   "id": "ef14d2be",
   "metadata": {
    "pycharm": {
     "name": "#%% md\n"
    }
   },
   "source": [
    "# Edit distance"
   ]
  },
  {
   "cell_type": "code",
   "execution_count": 2,
   "id": "646379a4",
   "metadata": {
    "pycharm": {
     "name": "#%%\n"
    }
   },
   "outputs": [
    {
     "name": "stderr",
     "output_type": "stream",
     "text": [
      "/opt/conda/envs/main/lib/python3.8/site-packages/torchvision/io/image.py:13: UserWarning: Failed to load image Python extension: /opt/conda/envs/main/lib/python3.8/site-packages/torchvision/image.so: undefined symbol: _ZNK3c1010TensorImpl36is_contiguous_nondefault_policy_implENS_12MemoryFormatE\n",
      "  warn(f\"Failed to load image Python extension: {e}\")\n"
     ]
    }
   ],
   "source": [
    "import os\n",
    "import torch\n",
    "import warnings\n",
    "import torchmetrics\n",
    "import numpy as np\n",
    "from loguru import logger\n",
    "from torchmetrics.functional.regression import cosine_similarity\n",
    "\n",
    "from const import *\n",
    "from data import load_data, get_dataloader\n",
    "\n",
    "warnings.filterwarnings('ignore')\n",
    "start_threshold, end_threshold = 0.5, 0.851"
   ]
  },
  {
   "cell_type": "code",
   "execution_count": 3,
   "id": "c0b4da98",
   "metadata": {
    "pycharm": {
     "name": "#%%\n"
    }
   },
   "outputs": [
    {
     "name": "stderr",
     "output_type": "stream",
     "text": [
      "5000it [00:00, 59016.02it/s]\n"
     ]
    }
   ],
   "source": [
    "test_file_name = \"triplet_both_test_5k.txt\"\n",
    "test_file_path = os.path.join(data_dir, test_file_name)\n",
    "test_dl = get_dataloader(test_file_path, \"eval\", batch_size=128)"
   ]
  },
  {
   "cell_type": "code",
   "execution_count": 4,
   "id": "9ab3d83f",
   "metadata": {
    "pycharm": {
     "name": "#%%\n"
    }
   },
   "outputs": [],
   "source": [
    "import textdistance\n",
    "from pybloom import BloomFilter\n",
    "from torchmetrics.classification import BinaryROC\n",
    "\n",
    "\n",
    "def bloom_sorensen_similarity(text1, text2, q_gram_val=3):\n",
    "    bf1 = BloomFilter(64, 0.001)\n",
    "    bf2 =  BloomFilter(64, 0.001)\n",
    "    for token in textdistance.find_ngrams(text1, q_gram_val):\n",
    "        bf1.add(\"\".join(token))\n",
    "    for token in textdistance.find_ngrams(text2, q_gram_val):\n",
    "        bf2.add(\"\".join(token))\n",
    "    return 2 * (bf1.bitarray & bf2.bitarray).count(1) / (bf1.bitarray.count(1) + bf2.bitarray.count(1))\n",
    "\n",
    "\n",
    "def get_text_similarity(text_sim_func, eval_file_path):\n",
    "    text_labels = []\n",
    "    text_similarities = []\n",
    "    with open(eval_file_path, \"r\", encoding=\"utf8\") as f:\n",
    "        for i, line in enumerate(f):\n",
    "            line = line.strip().split(\"\\t\")\n",
    "            anchor, positive, negative = \"\".join(line[0].split(\" \")), \"\".join(line[2].split(\" \")), \"\".join(line[4].split(\" \"))\n",
    "            sim_match = text_sim_func(anchor, positive)\n",
    "            text_labels.append(1)\n",
    "            text_similarities.append(sim_match)\n",
    "            sim_nonmatch = text_sim_func(anchor, negative)\n",
    "            text_labels.append(0)\n",
    "            text_similarities.append(sim_nonmatch)\n",
    "    return text_labels, text_similarities\n",
    "\n",
    "\n",
    "def get_semantic_similarity(model, dev_dl):\n",
    "    device = torch.device('cuda' if torch.cuda.is_available() else 'cpu')\n",
    "    model.to(device)\n",
    "    model.eval()\n",
    "    # 计算pairs之间的相似度\n",
    "    y_prob = []\n",
    "    y_true = []\n",
    "    with torch.no_grad():\n",
    "        for batch_idx, source in enumerate(dev_dl):\n",
    "            real_batch_num = source.get('input_ids').shape[0]\n",
    "            input_ids = source.get('input_ids').view(real_batch_num * 3, -1).to(device)\n",
    "            attention_mask = source.get('attention_mask').view(real_batch_num * 3, -1).to(device)\n",
    "            token_type_ids = source.get('token_type_ids').view(real_batch_num * 3, -1).to(device)\n",
    "            out = model(input_ids, attention_mask, token_type_ids)\n",
    "            idx = torch.arange(out.shape[0], device=device).unsqueeze(1)\n",
    "            # 三元组 (anchor, positive, negetive)\n",
    "            anchor = out.index_select(0, torch.where(idx % 3 == 0)[0])\n",
    "            positive = out.index_select(0, torch.where(idx % 3 == 1)[0])\n",
    "            negative = out.index_select(0, torch.where(idx % 3 == 2)[0])\n",
    "\n",
    "            # y_true、y_pred、y_prob\n",
    "            sim_1 = cosine_similarity(anchor, positive, 'none')\n",
    "            sim_0 = cosine_similarity(anchor, negative, 'none')\n",
    "            y_prob.extend(sim_1)\n",
    "            y_prob.extend(sim_0)\n",
    "            y_true.extend([1] * len(sim_1))\n",
    "            y_true.extend([0] * len(sim_0))\n",
    "    y_prob = torch.tensor(y_prob).view(-1, 1).to(device)\n",
    "    y_true = torch.tensor(y_true).view(-1, 1).to(device)\n",
    "    return y_true, y_prob\n",
    "\n",
    "\n",
    "def get_roc(y_true, y_prob, roc_thresholds=20):\n",
    "    device = torch.device('cuda' if torch.cuda.is_available() else 'cpu')\n",
    "    y_prob = torch.tensor(y_prob).view(-1, 1).to(device)\n",
    "    y_true = torch.tensor(y_true).view(-1, 1).to(device)\n",
    "    ROC = BinaryROC(thresholds=roc_thresholds).to(device)\n",
    "    fpr, tpr, thresholds = ROC(y_prob, y_true)\n",
    "    ROC.reset()\n",
    "    return fpr.cpu(), tpr.cpu()"
   ]
  },
  {
   "cell_type": "markdown",
   "id": "2488d111",
   "metadata": {
    "pycharm": {
     "name": "#%% md\n"
    }
   },
   "source": [
    "# 数据集统计分析"
   ]
  },
  {
   "cell_type": "code",
   "execution_count": 39,
   "id": "c8369925",
   "metadata": {
    "pycharm": {
     "name": "#%%\n"
    }
   },
   "outputs": [],
   "source": [
    "def get_average_text_similarity(text_sim_func, eval_file_path):\n",
    "    avg_sim_pos = 0\n",
    "    avg_sim_neg = 0\n",
    "    sample_count = 0\n",
    "    with open(eval_file_path, \"r\", encoding=\"utf8\") as f:\n",
    "        for i, line in enumerate(f):\n",
    "            line = line.strip().split(\"\\t\")\n",
    "            anchor, positive, negative = \"\".join(line[0].split(\" \")), \"\".join(line[2].split(\" \")), \"\".join(line[4].split(\" \"))\n",
    "            sim_match = text_sim_func(anchor, positive)\n",
    "            avg_sim_pos += sim_match\n",
    "            sim_nonmatch = text_sim_func(anchor, negative)\n",
    "            avg_sim_neg += sim_nonmatch\n",
    "            sample_count += 1\n",
    "    return round(avg_sim_pos / sample_count, 4), round(avg_sim_neg / sample_count, 4)"
   ]
  },
  {
   "cell_type": "code",
   "execution_count": 40,
   "id": "061a0f0a",
   "metadata": {
    "pycharm": {
     "name": "#%%\n"
    }
   },
   "outputs": [],
   "source": [
    "RES_50K_PATH = os.path.join(data_dir, \"triplet_residence_train_50k.txt\")\n",
    "INS_50K_PATH = os.path.join(data_dir, \"triplet_institution_train_50k.txt\")\n",
    "RES_5K_PATH = os.path.join(data_dir, \"triplet_residence_dev_5k.txt\")\n",
    "INS_5K_PATH = os.path.join(data_dir, \"triplet_institution_dev_5k.txt\")\n",
    "TEST_5K_PATH = os.path.join(data_dir, \"triplet_both_test_5k.txt\")\n",
    "\n",
    "RES_50K_AVGSIM_POS, RES_50K_AVGSIM_NEG = get_average_text_similarity(textdistance.levenshtein.normalized_similarity, RES_50K_PATH)\n",
    "INS_50K_AVGSIM_POS, INS_50K_AVGSIM_NEG = get_average_text_similarity(textdistance.levenshtein.normalized_similarity, INS_50K_PATH)\n",
    "RES_5K_AVGSIM_POS, RES_5K_AVGSIM_NEG = get_average_text_similarity(textdistance.levenshtein.normalized_similarity, RES_5K_PATH)\n",
    "INS_5K_AVGSIM_POS, INS_5K_AVGSIM_NEG = get_average_text_similarity(textdistance.levenshtein.normalized_similarity, INS_5K_PATH)\n",
    "TEST_5K_AVGSIM_POS, TEST_5K_AVGSIM_NEG = get_average_text_similarity(textdistance.levenshtein.normalized_similarity, TEST_5K_PATH)"
   ]
  },
  {
   "cell_type": "code",
   "execution_count": 41,
   "id": "d9d38b64",
   "metadata": {
    "pycharm": {
     "name": "#%%\n"
    }
   },
   "outputs": [
    {
     "name": "stdout",
     "output_type": "stream",
     "text": [
      "RES-50K: 0.539 0.823 0.681 0.2839999999999999\n",
      "INS-50K 0.5568 0.8135 0.6851499999999999 0.25670000000000004\n",
      "RES-5K 0.542 0.8236 0.6828000000000001 0.28159999999999996\n",
      "INS-5K 0.5585 0.8127 0.6856 0.2542\n",
      "TEST-5K 0.5502 0.8183 0.68425 0.2681\n"
     ]
    }
   ],
   "source": [
    "print(\"RES-50K:\", RES_50K_AVGSIM_POS, RES_50K_AVGSIM_NEG, (RES_50K_AVGSIM_POS + RES_50K_AVGSIM_NEG) / 2, RES_50K_AVGSIM_NEG - RES_50K_AVGSIM_POS)\n",
    "print(\"INS-50K\", INS_50K_AVGSIM_POS, INS_50K_AVGSIM_NEG, (INS_50K_AVGSIM_POS + INS_50K_AVGSIM_NEG) / 2, INS_50K_AVGSIM_NEG - INS_50K_AVGSIM_POS)\n",
    "print(\"RES-5K\", RES_5K_AVGSIM_POS, RES_5K_AVGSIM_NEG, (RES_5K_AVGSIM_POS + RES_5K_AVGSIM_NEG) / 2, RES_5K_AVGSIM_NEG - RES_5K_AVGSIM_POS)\n",
    "print(\"INS-5K\", INS_5K_AVGSIM_POS, INS_5K_AVGSIM_NEG, (INS_5K_AVGSIM_POS + INS_5K_AVGSIM_NEG) / 2, INS_5K_AVGSIM_NEG- INS_5K_AVGSIM_POS)\n",
    "print(\"TEST-5K\", TEST_5K_AVGSIM_POS, TEST_5K_AVGSIM_NEG, (TEST_5K_AVGSIM_POS + TEST_5K_AVGSIM_NEG) / 2, TEST_5K_AVGSIM_NEG - TEST_5K_AVGSIM_POS)"
   ]
  },
  {
   "cell_type": "code",
   "execution_count": null,
   "id": "386d6870",
   "metadata": {
    "pycharm": {
     "name": "#%%\n"
    }
   },
   "outputs": [],
   "source": []
  },
  {
   "cell_type": "code",
   "execution_count": 5,
   "id": "4f55bacc",
   "metadata": {
    "pycharm": {
     "name": "#%%\n"
    }
   },
   "outputs": [],
   "source": [
    "y_true_lev, y_prob_lev = get_text_similarity(textdistance.levenshtein.normalized_similarity, test_file_path)\n",
    "fpr_lev, tpr_lev = get_roc(y_true_lev, y_prob_lev)"
   ]
  },
  {
   "cell_type": "code",
   "execution_count": 6,
   "id": "dfb4b883",
   "metadata": {
    "pycharm": {
     "name": "#%%\n"
    }
   },
   "outputs": [],
   "source": [
    "y_true_dice, y_prob_dice = get_text_similarity(textdistance.Sorensen(qval=3).normalized_similarity, test_file_path)\n",
    "fpr_dice, tpr_dice = get_roc(y_true_dice, y_prob_dice)"
   ]
  },
  {
   "cell_type": "code",
   "execution_count": 7,
   "id": "ef4fb731",
   "metadata": {
    "pycharm": {
     "name": "#%%\n"
    }
   },
   "outputs": [],
   "source": [
    "y_true_bloom, y_prob_bloom = get_text_similarity(bloom_sorensen_similarity, test_file_path)\n",
    "fpr_bloom, tpr_bloom = get_roc(y_true_bloom, y_prob_bloom)"
   ]
  },
  {
   "cell_type": "code",
   "execution_count": 8,
   "id": "fe82038c",
   "metadata": {
    "pycharm": {
     "name": "#%%\n"
    }
   },
   "outputs": [],
   "source": [
    "unsupSimTran_model_path = os.path.join(model_dir, \"2022-06-04/Federated/Transformer/Unsup-SimCSE/12:51:14-Federated_Transformer_Unsup-SimCSE-global.pt\")\n",
    "y_true_unsupSimTran, y_prob_unsupSimTran = get_semantic_similarity(torch.load(unsupSimTran_model_path), test_dl)"
   ]
  },
  {
   "cell_type": "code",
   "execution_count": 9,
   "id": "25dbeccb",
   "metadata": {
    "pycharm": {
     "name": "#%%\n"
    }
   },
   "outputs": [],
   "source": [
    "fpr_unsupSimTran, tpr_unsupSimTran = get_roc(y_true_unsupSimTran, y_prob_unsupSimTran)"
   ]
  },
  {
   "cell_type": "code",
   "execution_count": 10,
   "id": "b198e36f",
   "metadata": {
    "pycharm": {
     "name": "#%%\n"
    }
   },
   "outputs": [],
   "source": [
    "unsupSimGEAN_model_path = os.path.join(model_dir, \"2022-06-04/Federated/Transformer+GE-type+Entity-Pooler/Unsup-SimCSE/12:56:14-Federated_Transformer+GE-type+Entity-Pooler_Unsup-SimCSE-global.pt\")\n",
    "y_true_unsupSimGEAN, y_prob_unsupSimGEAN = get_semantic_similarity(torch.load(unsupSimGEAN_model_path), test_dl)"
   ]
  },
  {
   "cell_type": "code",
   "execution_count": 11,
   "id": "5571c9c6",
   "metadata": {
    "pycharm": {
     "name": "#%%\n"
    }
   },
   "outputs": [],
   "source": [
    "fpr_unsupSimGEAN, tpr_unsupSimGEAN = get_roc(y_true_unsupSimGEAN, y_prob_unsupSimGEAN)"
   ]
  },
  {
   "cell_type": "code",
   "execution_count": 12,
   "id": "494e1975",
   "metadata": {
    "pycharm": {
     "name": "#%%\n"
    }
   },
   "outputs": [],
   "source": [
    "supTripTran_model_path = os.path.join(model_dir, \"2022-05-30/Federated/Transformer/Sup-Triplet/22:24:51-Federated_Transformer_Sup-Triplet-global.pt\")\n",
    "y_true_supTripTran, y_prob_supTripTran = get_semantic_similarity(torch.load(supTripTran_model_path), test_dl)"
   ]
  },
  {
   "cell_type": "code",
   "execution_count": 13,
   "id": "371e1974",
   "metadata": {
    "pycharm": {
     "name": "#%%\n"
    }
   },
   "outputs": [],
   "source": [
    "fpr_supTripTran, tpr_supTripTran = get_roc(y_true_supTripTran, y_prob_supTripTran)"
   ]
  },
  {
   "cell_type": "code",
   "execution_count": 14,
   "id": "4ac68336",
   "metadata": {
    "pycharm": {
     "name": "#%%\n"
    }
   },
   "outputs": [],
   "source": [
    "supTripGEAN_model_path = os.path.join(model_dir, \"2022-06-04/Federated/Transformer+GE-type+Entity-Pooler/Sup-Triplet/12:45:15-Federated_Transformer+GE-type+Entity-Pooler_Sup-Triplet-global.pt\")\n",
    "y_true_supTripGEAN, y_prob_supTripGEAN = get_semantic_similarity(torch.load(supTripGEAN_model_path), test_dl)"
   ]
  },
  {
   "cell_type": "code",
   "execution_count": 15,
   "id": "0b62aaef",
   "metadata": {
    "pycharm": {
     "name": "#%%\n"
    }
   },
   "outputs": [],
   "source": [
    "fpr_supTripGEAN, tpr_supTripGEAN = get_roc(y_true_supTripGEAN, y_prob_supTripGEAN)"
   ]
  },
  {
   "cell_type": "code",
   "execution_count": 16,
   "id": "8593db5f",
   "metadata": {
    "pycharm": {
     "name": "#%%\n"
    }
   },
   "outputs": [],
   "source": [
    "supSimTran_model_path = os.path.join(model_dir, \"2022-06-03/Federated/Transformer/Sup-SimCSE/23:52:29-Federated_Transformer_Sup-SimCSE-global.pt\")\n",
    "y_true_supSimTran, y_prob_supSimTran = get_semantic_similarity(torch.load(supSimTran_model_path), test_dl)"
   ]
  },
  {
   "cell_type": "code",
   "execution_count": 17,
   "id": "ebd4042e",
   "metadata": {
    "pycharm": {
     "name": "#%%\n"
    }
   },
   "outputs": [],
   "source": [
    "fpr_supSimTran, tpr_supSimTran = get_roc(y_true_supSimTran, y_prob_supSimTran)"
   ]
  },
  {
   "cell_type": "code",
   "execution_count": 18,
   "id": "ddb43109",
   "metadata": {
    "pycharm": {
     "name": "#%%\n"
    }
   },
   "outputs": [],
   "source": [
    "supSimGEAN_model_path = os.path.join(model_dir, \"2022-06-03/Federated/Transformer+GE-type+Entity-Pooler/Sup-SimCSE/21:17:10-Federated_Transformer+GE-type+Entity-Pooler_Sup-SimCSE-global.pt\")\n",
    "y_true_supSimGEAN, y_prob_supSimGEAN = get_semantic_similarity(torch.load(supSimGEAN_model_path), test_dl)"
   ]
  },
  {
   "cell_type": "code",
   "execution_count": 19,
   "id": "0ff9280b",
   "metadata": {
    "pycharm": {
     "name": "#%%\n"
    }
   },
   "outputs": [],
   "source": [
    "fpr_supSimGEAN, tpr_supSimGEAN = get_roc(y_true_supSimGEAN, y_prob_supSimGEAN)"
   ]
  },
  {
   "cell_type": "code",
   "execution_count": null,
   "id": "1c5f652b",
   "metadata": {
    "pycharm": {
     "name": "#%%\n"
    }
   },
   "outputs": [],
   "source": []
  },
  {
   "cell_type": "code",
   "execution_count": null,
   "id": "438fa97d",
   "metadata": {
    "pycharm": {
     "name": "#%%\n"
    }
   },
   "outputs": [],
   "source": []
  },
  {
   "cell_type": "code",
   "execution_count": 20,
   "id": "ab920d6e",
   "metadata": {
    "pycharm": {
     "name": "#%%\n"
    }
   },
   "outputs": [],
   "source": [
    "import seaborn as sns\n",
    "import matplotlib as mpl\n",
    "import matplotlib.pyplot as plt\n",
    "from pylab import cm\n",
    "%matplotlib inline"
   ]
  },
  {
   "cell_type": "code",
   "execution_count": 26,
   "id": "eb9c0c62",
   "metadata": {
    "pycharm": {
     "name": "#%%\n"
    }
   },
   "outputs": [
    {
     "data": {
      "image/png": "[encoded data removed]",
      "text/plain": [
       "<Figure size 252x189 with 1 Axes>"
      ]
     },
     "metadata": {
      "needs_background": "light"
     },
     "output_type": "display_data"
    }
   ],
   "source": [
    "plt.style.use(['science', 'no-latex', 'grid', 'muted'])\n",
    "\n",
    "# sns.set(style=\"whitegrid\", color_codes=True)\n",
    "sns.set_palette(sns.color_palette(\"deep\"))\n",
    "# sns.despine(right=False, top=True)\n",
    "sns.set_context(\"paper\")\n",
    "\n",
    "# sns.lineplot(x=fpr_lev, y=tpr_lev, label=\"Levenshtein\", ls='-.', marker='.', color=\"k\")\n",
    "# sns.lineplot(x=fpr_dice, y=tpr_dice, label=\"Q-gram\", linestyle='-.', marker=\".\", color=\"purple\")\n",
    "# sns.lineplot(x=fpr_bloom, y=tpr_bloom, label=\"Bloom Filter\", ls='-.', marker='.', color=\"g\")\n",
    "# sns.lineplot(x=fpr_gean, y=tpr_gean, label=\"GEAN\", ls='-.', marker='.', color=\"r\")\n",
    "# sns.lineplot(x=fpr_trans, y=tpr_trans, label=\"Transformer\", ls='-.', marker='.', color=\"b\")\n",
    "\n",
    "sns.lineplot(x=fpr_lev, y=tpr_lev, label=\"Levenshtein\", ls='-.', marker='o')\n",
    "sns.lineplot(x=fpr_dice, y=tpr_dice, label=\"Q-gram\", linestyle='-.', marker='^')\n",
    "sns.lineplot(x=fpr_bloom, y=tpr_bloom, label=\"Bloom Filter\", ls='-.', marker='o')\n",
    "\n",
    "sns.lineplot(x=fpr_unsupSimTran, y=tpr_unsupSimTran, label=\"Transformer + Unsup. SimCSE\", ls='-.', marker='^')\n",
    "sns.lineplot(x=fpr_unsupSimGEAN, y=tpr_unsupSimGEAN, label=\"CN-GeoFormer + Unsup. SimCSE\", ls='-.', marker='o')\n",
    "\n",
    "sns.lineplot(x=fpr_supTripTran, y=tpr_supTripTran, label=\"Transformer + Sup. Triplet\", ls='-.', marker='^')\n",
    "sns.lineplot(x=fpr_supTripGEAN, y=tpr_supTripGEAN, label=\"CN-GeoFormer + Sup. Triplet\", ls='-.', marker='o')\n",
    "\n",
    "sns.lineplot(x=fpr_supSimTran, y=tpr_supSimTran, label=\"Transformer + Sup. SimCSE\", ls='-.', marker='^')\n",
    "sns.lineplot(x=fpr_supSimGEAN, y=tpr_supSimGEAN, label=\"CN-GeoFormer + Sup. SimCSE\", ls='-.', marker='o')\n",
    "\n",
    "\n",
    "plt.title(\"ROC Curve\")\n",
    "plt.xlabel(\"FPR\")\n",
    "plt.ylabel(\"TPR\")\n",
    "plt.legend(loc='best', framealpha=0.6, fontsize='xx-small')\n",
    "plt.savefig(\"figures/ROC curve for linkage quatity analysis.pdf\", dpi=300)"
   ]
  },
  {
   "cell_type": "code",
   "execution_count": null,
   "id": "2ad34575",
   "metadata": {
    "pycharm": {
     "name": "#%%\n"
    }
   },
   "outputs": [],
   "source": []
  }
 ],
 "metadata": {
  "kernelspec": {
   "display_name": "main",
   "language": "python",
   "name": "main"
  },
  "language_info": {
   "codemirror_mode": {
    "name": "ipython",
    "version": 3
   },
   "file_extension": ".py",
   "mimetype": "text/x-python",
   "name": "python",
   "nbconvert_exporter": "python",
   "pygments_lexer": "ipython3",
   "version": "3.8.13"
  }
 },
 "nbformat": 4,
 "nbformat_minor": 5
}