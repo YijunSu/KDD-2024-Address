{
 "cells": [
  {
   "cell_type": "code",
   "execution_count": 2,
   "id": "87073f21",
   "metadata": {
    "pycharm": {
     "name": "#%%\n"
    }
   },
   "outputs": [
    {
     "name": "stderr",
     "output_type": "stream",
     "text": [
      "/opt/conda/envs/main/lib/python3.8/site-packages/torchvision/io/image.py:13: UserWarning: Failed to load image Python extension: libtorch_cuda_cu.so: cannot open shared object file: No such file or directory\n",
      "  warn(f\"Failed to load image Python extension: {e}\")\n"
     ]
    }
   ],
   "source": [
    "import os\n",
    "import torch\n",
    "import warnings\n",
    "import torchmetrics\n",
    "import numpy as np\n",
    "from loguru import logger\n",
    "from torchmetrics.functional.regression import cosine_similarity\n",
    "\n",
    "from const import *\n",
    "from data import get_dataloader\n",
    "\n",
    "warnings.filterwarnings('ignore')\n",
    "start_threshold, end_threshold = 0.5, 0.851"
   ]
  },
  {
   "cell_type": "markdown",
   "id": "033ba1b0",
   "metadata": {
    "pycharm": {
     "name": "#%% md\n"
    }
   },
   "source": [
    "# 测试数据"
   ]
  },
  {
   "cell_type": "code",
   "execution_count": 3,
   "id": "d670af1f",
   "metadata": {
    "pycharm": {
     "name": "#%%\n"
    }
   },
   "outputs": [
    {
     "name": "stderr",
     "output_type": "stream",
     "text": [
      "Loading data from /home/chennanye/ICDM-2023-Address/federated_contrastive_learning/datasets/triplet_both_test_5k.txt: : 5000it [00:00, 139078.58it/s]\n"
     ]
    }
   ],
   "source": [
    "test_file_name = \"triplet_both_test_5k.txt\"\n",
    "test_file_path = os.path.join(data_dir, test_file_name)\n",
    "test_dl = get_dataloader(test_file_path, \"eval\", batch_size=128)"
   ]
  },
  {
   "cell_type": "code",
   "execution_count": 11,
   "id": "89361711",
   "metadata": {
    "pycharm": {
     "name": "#%%\n"
    }
   },
   "outputs": [],
   "source": [
    "def evaluate(model, dev_dl, start_threshold=0.50, end_threshold=1.01):\n",
    "    device = torch.device('cuda' if torch.cuda.is_available() else 'cpu')\n",
    "    model.to(device)\n",
    "    model.eval()\n",
    "    # 计算pairs之间的相似度\n",
    "    y_prob = []\n",
    "    y_true = []\n",
    "    with torch.no_grad():\n",
    "        for batch_idx, source in enumerate(dev_dl):\n",
    "            real_batch_num = source.get('input_ids').shape[0]\n",
    "            input_ids = source.get('input_ids').view(real_batch_num * 3, -1).to(device)\n",
    "            attention_mask = source.get('attention_mask').view(real_batch_num * 3, -1).to(device)\n",
    "            token_type_ids = source.get('token_type_ids').view(real_batch_num * 3, -1).to(device)\n",
    "            out = model(input_ids, attention_mask, token_type_ids)\n",
    "            idx = torch.arange(out.shape[0], device=device).unsqueeze(1)\n",
    "            # 三元组 (anchor, positive, negetive)\n",
    "            anchor = out.index_select(0, torch.where(idx % 3 == 0)[0])\n",
    "            positive = out.index_select(0, torch.where(idx % 3 == 1)[0])\n",
    "            negative = out.index_select(0, torch.where(idx % 3 == 2)[0])\n",
    "\n",
    "            # y_true、y_pred、y_prob\n",
    "            sim_1 = cosine_similarity(anchor, positive, 'none')\n",
    "            sim_0 = cosine_similarity(anchor, negative, 'none')\n",
    "            y_prob.extend(sim_1)\n",
    "            y_prob.extend(sim_0)\n",
    "            y_true.extend([1] * len(sim_1))\n",
    "            y_true.extend([0] * len(sim_0))\n",
    "    y_prob = torch.tensor(y_prob).view(-1, 1).to(device)\n",
    "    y_true = torch.tensor(y_true).view(-1, 1).to(device)\n",
    "    \n",
    "    max_f1 = 0\n",
    "    for threshold in np.arange(start_threshold, end_threshold, 0.01):\n",
    "        threshold = round(threshold, 2)\n",
    "        y_pred = torch.where(y_prob > threshold, 1, 0).to(device)\n",
    "        \n",
    "        Accuracy = torchmetrics.Accuracy(threshold=threshold).to(device)\n",
    "        Precision = torchmetrics.Precision(threshold=threshold, ignore_index=0).to(device)\n",
    "        Recall = torchmetrics.Recall(threshold=threshold, ignore_index=0).to(device)\n",
    "        F1Score = torchmetrics.F1Score(threshold=threshold, ignore_index=0).to(device)\n",
    "        AUROC = torchmetrics.AUROC().to(device)\n",
    "        SpearmanCorrCoef = torchmetrics.SpearmanCorrCoef().to(device)\n",
    "        \n",
    "        accuracy = round(Accuracy(y_pred, y_true).item(), 4)\n",
    "        precision = round(Precision(y_pred, y_true).item(), 4)\n",
    "        recall = round(Recall(y_pred, y_true).item(), 4)\n",
    "        f1 = round(F1Score(y_pred, y_true).item(), 4)\n",
    "        if f1 > max_f1:\n",
    "            max_f1 = f1\n",
    "        auroc = round(AUROC(y_prob, y_true).item(), 4)\n",
    "        spearman = round(SpearmanCorrCoef(y_prob, y_true.type(torch.float32)).item(), 4)\n",
    "        print(f\"Threshold {threshold:.2f}: accuracy={accuracy:.4f}, precision={precision:.4f}, recall={recall:.4f}, f1={f1:.4f}, auroc={auroc:.4f}, spearman={spearman:.4f}\")\n",
    "        Accuracy.reset(), Precision.reset(), Recall.reset(), F1Score.reset(), AUROC.reset(), SpearmanCorrCoef.reset()\n",
    "    print(f\"max_f1={max_f1}\")"
   ]
  },
  {
   "cell_type": "markdown",
   "id": "8a04fe0e",
   "metadata": {
    "pycharm": {
     "name": "#%% md\n"
    }
   },
   "source": [
    "# Residence"
   ]
  },
  {
   "cell_type": "markdown",
   "id": "146a1d9b",
   "metadata": {
    "pycharm": {
     "name": "#%% md\n"
    }
   },
   "source": [
    "## Transformer"
   ]
  },
  {
   "cell_type": "markdown",
   "id": "9aaadd6c",
   "metadata": {
    "pycharm": {
     "name": "#%% md\n"
    }
   },
   "source": [
    "### Residence_Transformer_Sup-SimCSE"
   ]
  },
  {
   "cell_type": "code",
   "execution_count": 43,
   "id": "d93a811d",
   "metadata": {
    "pycharm": {
     "name": "#%%\n"
    }
   },
   "outputs": [
    {
     "name": "stdout",
     "output_type": "stream",
     "text": [
      "Threshold 0.50: accuracy=0.6955, precision=0.6254, recall=0.9748, f1=0.7620, auroc=0.9194, spearman=0.7265\n",
      "Threshold 0.51: accuracy=0.7032, precision=0.6322, recall=0.9716, f1=0.7660, auroc=0.9194, spearman=0.7265\n",
      "Threshold 0.52: accuracy=0.7127, precision=0.6405, recall=0.9694, f1=0.7714, auroc=0.9194, spearman=0.7265\n",
      "Threshold 0.53: accuracy=0.7209, precision=0.6480, recall=0.9670, f1=0.7760, auroc=0.9194, spearman=0.7265\n",
      "Threshold 0.54: accuracy=0.7294, precision=0.6561, recall=0.9640, f1=0.7808, auroc=0.9194, spearman=0.7265\n",
      "Threshold 0.55: accuracy=0.7393, precision=0.6659, recall=0.9606, f1=0.7865, auroc=0.9194, spearman=0.7265\n",
      "Threshold 0.56: accuracy=0.7489, precision=0.6756, recall=0.9578, f1=0.7923, auroc=0.9194, spearman=0.7265\n",
      "Threshold 0.57: accuracy=0.7577, precision=0.6849, recall=0.9544, f1=0.7975, auroc=0.9194, spearman=0.7265\n",
      "Threshold 0.58: accuracy=0.7671, precision=0.6950, recall=0.9518, f1=0.8034, auroc=0.9194, spearman=0.7265\n",
      "Threshold 0.59: accuracy=0.7753, precision=0.7047, recall=0.9478, f1=0.8084, auroc=0.9194, spearman=0.7265\n",
      "Threshold 0.60: accuracy=0.7821, precision=0.7134, recall=0.9432, f1=0.8123, auroc=0.9194, spearman=0.7265\n",
      "Threshold 0.61: accuracy=0.7901, precision=0.7237, recall=0.9384, f1=0.8172, auroc=0.9194, spearman=0.7265\n",
      "Threshold 0.62: accuracy=0.7971, precision=0.7332, recall=0.9342, f1=0.8216, auroc=0.9194, spearman=0.7265\n",
      "Threshold 0.63: accuracy=0.8033, precision=0.7424, recall=0.9288, f1=0.8252, auroc=0.9194, spearman=0.7265\n",
      "Threshold 0.64: accuracy=0.8117, precision=0.7543, recall=0.9246, f1=0.8308, auroc=0.9194, spearman=0.7265\n",
      "Threshold 0.65: accuracy=0.8191, precision=0.7665, recall=0.9178, f1=0.8354, auroc=0.9194, spearman=0.7265\n",
      "Threshold 0.66: accuracy=0.8257, precision=0.7778, recall=0.9120, f1=0.8395, auroc=0.9194, spearman=0.7265\n",
      "Threshold 0.67: accuracy=0.8296, precision=0.7874, recall=0.9030, f1=0.8413, auroc=0.9194, spearman=0.7265\n",
      "Threshold 0.68: accuracy=0.8365, precision=0.8005, recall=0.8964, f1=0.8457, auroc=0.9194, spearman=0.7265\n",
      "Threshold 0.69: accuracy=0.8391, precision=0.8079, recall=0.8898, f1=0.8469, auroc=0.9194, spearman=0.7265\n",
      "Threshold 0.70: accuracy=0.8429, precision=0.8178, recall=0.8824, f1=0.8489, auroc=0.9194, spearman=0.7265\n",
      "Threshold 0.71: accuracy=0.8475, precision=0.8284, recall=0.8766, f1=0.8518, auroc=0.9194, spearman=0.7265\n",
      "Threshold 0.72: accuracy=0.8485, precision=0.8365, recall=0.8664, f1=0.8512, auroc=0.9194, spearman=0.7265\n",
      "Threshold 0.73: accuracy=0.8482, precision=0.8431, recall=0.8556, f1=0.8493, auroc=0.9194, spearman=0.7265\n",
      "Threshold 0.74: accuracy=0.8492, precision=0.8533, recall=0.8434, f1=0.8483, auroc=0.9194, spearman=0.7265\n",
      "Threshold 0.75: accuracy=0.8464, precision=0.8593, recall=0.8284, f1=0.8436, auroc=0.9194, spearman=0.7265\n",
      "Threshold 0.76: accuracy=0.8461, precision=0.8673, recall=0.8172, f1=0.8415, auroc=0.9194, spearman=0.7265\n",
      "Threshold 0.77: accuracy=0.8458, precision=0.8764, recall=0.8052, f1=0.8393, auroc=0.9194, spearman=0.7265\n",
      "Threshold 0.78: accuracy=0.8451, precision=0.8866, recall=0.7914, f1=0.8363, auroc=0.9194, spearman=0.7265\n",
      "Threshold 0.79: accuracy=0.8428, precision=0.8947, recall=0.7770, f1=0.8317, auroc=0.9194, spearman=0.7265\n",
      "Threshold 0.80: accuracy=0.8401, precision=0.9054, recall=0.7596, f1=0.8261, auroc=0.9194, spearman=0.7265\n",
      "Threshold 0.81: accuracy=0.8349, precision=0.9127, recall=0.7406, f1=0.8177, auroc=0.9194, spearman=0.7265\n",
      "Threshold 0.82: accuracy=0.8291, precision=0.9201, recall=0.7208, f1=0.8083, auroc=0.9194, spearman=0.7265\n",
      "Threshold 0.83: accuracy=0.8221, precision=0.9273, recall=0.6990, f1=0.7971, auroc=0.9194, spearman=0.7265\n",
      "Threshold 0.84: accuracy=0.8139, precision=0.9349, recall=0.6748, f1=0.7838, auroc=0.9194, spearman=0.7265\n",
      "Threshold 0.85: accuracy=0.8061, precision=0.9417, recall=0.6526, f1=0.7709, auroc=0.9194, spearman=0.7265\n",
      "Threshold 0.86: accuracy=0.7949, precision=0.9464, recall=0.6252, f1=0.7530, auroc=0.9194, spearman=0.7265\n",
      "Threshold 0.87: accuracy=0.7813, precision=0.9492, recall=0.5944, f1=0.7310, auroc=0.9194, spearman=0.7265\n",
      "Threshold 0.88: accuracy=0.7686, precision=0.9546, recall=0.5640, f1=0.7091, auroc=0.9194, spearman=0.7265\n",
      "Threshold 0.89: accuracy=0.7528, precision=0.9583, recall=0.5286, f1=0.6814, auroc=0.9194, spearman=0.7265\n",
      "Threshold 0.90: accuracy=0.7368, precision=0.9621, recall=0.4930, f1=0.6519, auroc=0.9194, spearman=0.7265\n",
      "Threshold 0.91: accuracy=0.7164, precision=0.9632, recall=0.4500, f1=0.6134, auroc=0.9194, spearman=0.7265\n",
      "Threshold 0.92: accuracy=0.6949, precision=0.9674, recall=0.4034, f1=0.5694, auroc=0.9194, spearman=0.7265\n",
      "Threshold 0.93: accuracy=0.6705, precision=0.9713, recall=0.3514, f1=0.5161, auroc=0.9194, spearman=0.7265\n",
      "Threshold 0.94: accuracy=0.6426, precision=0.9792, recall=0.2914, f1=0.4491, auroc=0.9194, spearman=0.7265\n",
      "Threshold 0.95: accuracy=0.6113, precision=0.9827, recall=0.2266, f1=0.3683, auroc=0.9194, spearman=0.7265\n",
      "Threshold 0.96: accuracy=0.5762, precision=0.9798, recall=0.1556, f1=0.2686, auroc=0.9194, spearman=0.7265\n",
      "Threshold 0.97: accuracy=0.5435, precision=0.9801, recall=0.0888, f1=0.1628, auroc=0.9194, spearman=0.7265\n",
      "Threshold 0.98: accuracy=0.5187, precision=0.9606, recall=0.0390, f1=0.0750, auroc=0.9194, spearman=0.7265\n",
      "Threshold 0.99: accuracy=0.5083, precision=0.9462, recall=0.0176, f1=0.0346, auroc=0.9194, spearman=0.7265\n",
      "Threshold 1.00: accuracy=0.5000, precision=0.0000, recall=0.0000, f1=0.0000, auroc=0.9194, spearman=0.7265\n"
     ]
    }
   ],
   "source": [
    "model_path = os.path.join(model_dir, \"2022-06-03/Residence/Transformer/Sup-SimCSE/13:13:04-Residence_Transformer_Sup-SimCSE.pt\")\n",
    "model = torch.load(model_path)\n",
    "evaluate(model, test_dl)"
   ]
  },
  {
   "cell_type": "markdown",
   "id": "d9fecd74",
   "metadata": {
    "pycharm": {
     "name": "#%% md\n"
    }
   },
   "source": [
    "### Residence_Transformer_Sup-Triplet"
   ]
  },
  {
   "cell_type": "code",
   "execution_count": 44,
   "id": "17abf243",
   "metadata": {
    "pycharm": {
     "name": "#%%\n"
    }
   },
   "outputs": [
    {
     "name": "stdout",
     "output_type": "stream",
     "text": [
      "Threshold 0.50: accuracy=0.5203, precision=0.5113, recall=0.9178, f1=0.6567, auroc=0.5189, spearman=0.0342\n",
      "Threshold 0.51: accuracy=0.5205, precision=0.5115, recall=0.9092, f1=0.6547, auroc=0.5189, spearman=0.0342\n",
      "Threshold 0.52: accuracy=0.5189, precision=0.5107, recall=0.9038, f1=0.6526, auroc=0.5189, spearman=0.0342\n",
      "Threshold 0.53: accuracy=0.5189, precision=0.5107, recall=0.9026, f1=0.6523, auroc=0.5189, spearman=0.0342\n",
      "Threshold 0.54: accuracy=0.5187, precision=0.5106, recall=0.9022, f1=0.6521, auroc=0.5189, spearman=0.0342\n",
      "Threshold 0.55: accuracy=0.5188, precision=0.5106, recall=0.9022, f1=0.6522, auroc=0.5189, spearman=0.0342\n",
      "Threshold 0.56: accuracy=0.5189, precision=0.5107, recall=0.9020, f1=0.6522, auroc=0.5189, spearman=0.0342\n",
      "Threshold 0.57: accuracy=0.5188, precision=0.5106, recall=0.9018, f1=0.6521, auroc=0.5189, spearman=0.0342\n",
      "Threshold 0.58: accuracy=0.5184, precision=0.5104, recall=0.9010, f1=0.6517, auroc=0.5189, spearman=0.0342\n",
      "Threshold 0.59: accuracy=0.5184, precision=0.5104, recall=0.9008, f1=0.6516, auroc=0.5189, spearman=0.0342\n",
      "Threshold 0.60: accuracy=0.5182, precision=0.5103, recall=0.9000, f1=0.6513, auroc=0.5189, spearman=0.0342\n",
      "Threshold 0.61: accuracy=0.5183, precision=0.5104, recall=0.9000, f1=0.6514, auroc=0.5189, spearman=0.0342\n",
      "Threshold 0.62: accuracy=0.5182, precision=0.5103, recall=0.8990, f1=0.6511, auroc=0.5189, spearman=0.0342\n",
      "Threshold 0.63: accuracy=0.5181, precision=0.5103, recall=0.8988, f1=0.6510, auroc=0.5189, spearman=0.0342\n",
      "Threshold 0.64: accuracy=0.5180, precision=0.5102, recall=0.8986, f1=0.6509, auroc=0.5189, spearman=0.0342\n",
      "Threshold 0.65: accuracy=0.5179, precision=0.5102, recall=0.8982, f1=0.6507, auroc=0.5189, spearman=0.0342\n",
      "Threshold 0.66: accuracy=0.5178, precision=0.5101, recall=0.8980, f1=0.6506, auroc=0.5189, spearman=0.0342\n",
      "Threshold 0.67: accuracy=0.5175, precision=0.5099, recall=0.8972, f1=0.6503, auroc=0.5189, spearman=0.0342\n",
      "Threshold 0.68: accuracy=0.5177, precision=0.5101, recall=0.8970, f1=0.6503, auroc=0.5189, spearman=0.0342\n",
      "Threshold 0.69: accuracy=0.5175, precision=0.5100, recall=0.8964, f1=0.6501, auroc=0.5189, spearman=0.0342\n",
      "Threshold 0.70: accuracy=0.5175, precision=0.5100, recall=0.8964, f1=0.6501, auroc=0.5189, spearman=0.0342\n",
      "Threshold 0.71: accuracy=0.5179, precision=0.5102, recall=0.8960, f1=0.6502, auroc=0.5189, spearman=0.0342\n",
      "Threshold 0.72: accuracy=0.5178, precision=0.5101, recall=0.8956, f1=0.6500, auroc=0.5189, spearman=0.0342\n",
      "Threshold 0.73: accuracy=0.5178, precision=0.5101, recall=0.8956, f1=0.6500, auroc=0.5189, spearman=0.0342\n",
      "Threshold 0.74: accuracy=0.5178, precision=0.5101, recall=0.8952, f1=0.6499, auroc=0.5189, spearman=0.0342\n",
      "Threshold 0.75: accuracy=0.5179, precision=0.5102, recall=0.8952, f1=0.6500, auroc=0.5189, spearman=0.0342\n",
      "Threshold 0.76: accuracy=0.5181, precision=0.5103, recall=0.8952, f1=0.6501, auroc=0.5189, spearman=0.0342\n",
      "Threshold 0.77: accuracy=0.5184, precision=0.5105, recall=0.8952, f1=0.6502, auroc=0.5189, spearman=0.0342\n",
      "Threshold 0.78: accuracy=0.5184, precision=0.5105, recall=0.8952, f1=0.6502, auroc=0.5189, spearman=0.0342\n",
      "Threshold 0.79: accuracy=0.5185, precision=0.5106, recall=0.8952, f1=0.6503, auroc=0.5189, spearman=0.0342\n",
      "Threshold 0.80: accuracy=0.5186, precision=0.5106, recall=0.8952, f1=0.6503, auroc=0.5189, spearman=0.0342\n",
      "Threshold 0.81: accuracy=0.5187, precision=0.5107, recall=0.8950, f1=0.6503, auroc=0.5189, spearman=0.0342\n",
      "Threshold 0.82: accuracy=0.5186, precision=0.5106, recall=0.8946, f1=0.6501, auroc=0.5189, spearman=0.0342\n",
      "Threshold 0.83: accuracy=0.5183, precision=0.5104, recall=0.8940, f1=0.6499, auroc=0.5189, spearman=0.0342\n",
      "Threshold 0.84: accuracy=0.5182, precision=0.5104, recall=0.8936, f1=0.6497, auroc=0.5189, spearman=0.0342\n",
      "Threshold 0.85: accuracy=0.5181, precision=0.5103, recall=0.8934, f1=0.6496, auroc=0.5189, spearman=0.0342\n",
      "Threshold 0.86: accuracy=0.5181, precision=0.5103, recall=0.8926, f1=0.6494, auroc=0.5189, spearman=0.0342\n",
      "Threshold 0.87: accuracy=0.5179, precision=0.5102, recall=0.8918, f1=0.6491, auroc=0.5189, spearman=0.0342\n",
      "Threshold 0.88: accuracy=0.5180, precision=0.5103, recall=0.8914, f1=0.6490, auroc=0.5189, spearman=0.0342\n",
      "Threshold 0.89: accuracy=0.5181, precision=0.5104, recall=0.8914, f1=0.6491, auroc=0.5189, spearman=0.0342\n",
      "Threshold 0.90: accuracy=0.5180, precision=0.5103, recall=0.8910, f1=0.6489, auroc=0.5189, spearman=0.0342\n",
      "Threshold 0.91: accuracy=0.5182, precision=0.5104, recall=0.8906, f1=0.6489, auroc=0.5189, spearman=0.0342\n",
      "Threshold 0.92: accuracy=0.5184, precision=0.5106, recall=0.8904, f1=0.6490, auroc=0.5189, spearman=0.0342\n",
      "Threshold 0.93: accuracy=0.5183, precision=0.5105, recall=0.8902, f1=0.6489, auroc=0.5189, spearman=0.0342\n",
      "Threshold 0.94: accuracy=0.5181, precision=0.5104, recall=0.8890, f1=0.6485, auroc=0.5189, spearman=0.0342\n",
      "Threshold 0.95: accuracy=0.5182, precision=0.5105, recall=0.8880, f1=0.6483, auroc=0.5189, spearman=0.0342\n",
      "Threshold 0.96: accuracy=0.5179, precision=0.5103, recall=0.8870, f1=0.6479, auroc=0.5189, spearman=0.0342\n",
      "Threshold 0.97: accuracy=0.5181, precision=0.5104, recall=0.8860, f1=0.6477, auroc=0.5189, spearman=0.0342\n",
      "Threshold 0.98: accuracy=0.5175, precision=0.5101, recall=0.8838, f1=0.6469, auroc=0.5189, spearman=0.0342\n",
      "Threshold 0.99: accuracy=0.5172, precision=0.5099, recall=0.8824, f1=0.6464, auroc=0.5189, spearman=0.0342\n",
      "Threshold 1.00: accuracy=0.4998, precision=0.4979, recall=0.0474, f1=0.0866, auroc=0.5189, spearman=0.0342\n"
     ]
    }
   ],
   "source": [
    "model_path = os.path.join(model_dir, \"2022-06-03/Residence/Transformer/Sup-Triplet/14:59:46-Residence_Transformer_Sup-Triplet.pt\")\n",
    "model = torch.load(model_path)\n",
    "evaluate(model, test_dl)"
   ]
  },
  {
   "cell_type": "markdown",
   "id": "c9b26dfb",
   "metadata": {
    "pycharm": {
     "name": "#%% md\n"
    }
   },
   "source": [
    "### Residence_Transformer_Unsup-SimCSE"
   ]
  },
  {
   "cell_type": "code",
   "execution_count": 45,
   "id": "97310066",
   "metadata": {
    "pycharm": {
     "name": "#%%\n"
    }
   },
   "outputs": [
    {
     "name": "stdout",
     "output_type": "stream",
     "text": [
      "Threshold 0.50: accuracy=0.4003, precision=0.2093, recall=0.0718, f1=0.1069, auroc=0.2847, spearman=-0.3730\n",
      "Threshold 0.51: accuracy=0.4039, precision=0.2047, recall=0.0666, f1=0.1005, auroc=0.2847, spearman=-0.3730\n",
      "Threshold 0.52: accuracy=0.4105, precision=0.2050, recall=0.0622, f1=0.0954, auroc=0.2847, spearman=-0.3730\n",
      "Threshold 0.53: accuracy=0.4149, precision=0.2031, recall=0.0582, f1=0.0905, auroc=0.2847, spearman=-0.3730\n",
      "Threshold 0.54: accuracy=0.4197, precision=0.2037, recall=0.0552, f1=0.0869, auroc=0.2847, spearman=-0.3730\n",
      "Threshold 0.55: accuracy=0.4240, precision=0.2017, recall=0.0514, f1=0.0819, auroc=0.2847, spearman=-0.3730\n",
      "Threshold 0.56: accuracy=0.4290, precision=0.2027, recall=0.0484, f1=0.0781, auroc=0.2847, spearman=-0.3730\n",
      "Threshold 0.57: accuracy=0.4333, precision=0.2009, recall=0.0448, f1=0.0733, auroc=0.2847, spearman=-0.3730\n",
      "Threshold 0.58: accuracy=0.4373, precision=0.2045, recall=0.0434, f1=0.0716, auroc=0.2847, spearman=-0.3730\n",
      "Threshold 0.59: accuracy=0.4409, precision=0.2048, recall=0.0410, f1=0.0683, auroc=0.2847, spearman=-0.3730\n",
      "Threshold 0.60: accuracy=0.4449, precision=0.2060, recall=0.0386, f1=0.0650, auroc=0.2847, spearman=-0.3730\n",
      "Threshold 0.61: accuracy=0.4491, precision=0.2071, recall=0.0360, f1=0.0613, auroc=0.2847, spearman=-0.3730\n",
      "Threshold 0.62: accuracy=0.4526, precision=0.2030, recall=0.0324, f1=0.0559, auroc=0.2847, spearman=-0.3730\n",
      "Threshold 0.63: accuracy=0.4560, precision=0.2059, recall=0.0308, f1=0.0536, auroc=0.2847, spearman=-0.3730\n",
      "Threshold 0.64: accuracy=0.4585, precision=0.2031, recall=0.0284, f1=0.0498, auroc=0.2847, spearman=-0.3730\n",
      "Threshold 0.65: accuracy=0.4604, precision=0.2009, recall=0.0266, f1=0.0470, auroc=0.2847, spearman=-0.3730\n",
      "Threshold 0.66: accuracy=0.4630, precision=0.1987, recall=0.0244, f1=0.0435, auroc=0.2847, spearman=-0.3730\n",
      "Threshold 0.67: accuracy=0.4672, precision=0.2040, recall=0.0226, f1=0.0407, auroc=0.2847, spearman=-0.3730\n",
      "Threshold 0.68: accuracy=0.4695, precision=0.2062, recall=0.0214, f1=0.0388, auroc=0.2847, spearman=-0.3730\n",
      "Threshold 0.69: accuracy=0.4712, precision=0.2012, recall=0.0194, f1=0.0354, auroc=0.2847, spearman=-0.3730\n",
      "Threshold 0.70: accuracy=0.4731, precision=0.1991, recall=0.0178, f1=0.0327, auroc=0.2847, spearman=-0.3730\n",
      "Threshold 0.71: accuracy=0.4744, precision=0.1893, recall=0.0156, f1=0.0288, auroc=0.2847, spearman=-0.3730\n",
      "Threshold 0.72: accuracy=0.4760, precision=0.1875, recall=0.0144, f1=0.0267, auroc=0.2847, spearman=-0.3730\n",
      "Threshold 0.73: accuracy=0.4783, precision=0.1926, recall=0.0136, f1=0.0254, auroc=0.2847, spearman=-0.3730\n",
      "Threshold 0.74: accuracy=0.4800, precision=0.1951, recall=0.0128, f1=0.0240, auroc=0.2847, spearman=-0.3730\n",
      "Threshold 0.75: accuracy=0.4809, precision=0.1889, recall=0.0116, f1=0.0219, auroc=0.2847, spearman=-0.3730\n",
      "Threshold 0.76: accuracy=0.4817, precision=0.1789, recall=0.0102, f1=0.0193, auroc=0.2847, spearman=-0.3730\n",
      "Threshold 0.77: accuracy=0.4823, precision=0.1734, recall=0.0094, f1=0.0178, auroc=0.2847, spearman=-0.3730\n",
      "Threshold 0.78: accuracy=0.4840, precision=0.1694, recall=0.0082, f1=0.0156, auroc=0.2847, spearman=-0.3730\n",
      "Threshold 0.79: accuracy=0.4856, precision=0.1667, recall=0.0072, f1=0.0138, auroc=0.2847, spearman=-0.3730\n",
      "Threshold 0.80: accuracy=0.4868, precision=0.1700, recall=0.0068, f1=0.0131, auroc=0.2847, spearman=-0.3730\n",
      "Threshold 0.81: accuracy=0.4876, precision=0.1630, recall=0.0060, f1=0.0116, auroc=0.2847, spearman=-0.3730\n",
      "Threshold 0.82: accuracy=0.4889, precision=0.1553, recall=0.0050, f1=0.0097, auroc=0.2847, spearman=-0.3730\n",
      "Threshold 0.83: accuracy=0.4895, precision=0.1523, recall=0.0046, f1=0.0089, auroc=0.2847, spearman=-0.3730\n",
      "Threshold 0.84: accuracy=0.4906, precision=0.1594, recall=0.0044, f1=0.0086, auroc=0.2847, spearman=-0.3730\n",
      "Threshold 0.85: accuracy=0.4911, precision=0.1440, recall=0.0036, f1=0.0070, auroc=0.2847, spearman=-0.3730\n",
      "Threshold 0.86: accuracy=0.4919, precision=0.1351, recall=0.0030, f1=0.0059, auroc=0.2847, spearman=-0.3730\n",
      "Threshold 0.87: accuracy=0.4931, precision=0.1443, recall=0.0028, f1=0.0055, auroc=0.2847, spearman=-0.3730\n",
      "Threshold 0.88: accuracy=0.4941, precision=0.1358, recall=0.0022, f1=0.0043, auroc=0.2847, spearman=-0.3730\n",
      "Threshold 0.89: accuracy=0.4949, precision=0.1194, recall=0.0016, f1=0.0032, auroc=0.2847, spearman=-0.3730\n",
      "Threshold 0.90: accuracy=0.4957, precision=0.1356, recall=0.0016, f1=0.0032, auroc=0.2847, spearman=-0.3730\n",
      "Threshold 0.91: accuracy=0.4965, precision=0.1429, recall=0.0014, f1=0.0028, auroc=0.2847, spearman=-0.3730\n",
      "Threshold 0.92: accuracy=0.4966, precision=0.0952, recall=0.0008, f1=0.0016, auroc=0.2847, spearman=-0.3730\n",
      "Threshold 0.93: accuracy=0.4973, precision=0.1143, recall=0.0008, f1=0.0016, auroc=0.2847, spearman=-0.3730\n",
      "Threshold 0.94: accuracy=0.4981, precision=0.0870, recall=0.0004, f1=0.0008, auroc=0.2847, spearman=-0.3730\n",
      "Threshold 0.95: accuracy=0.4985, precision=0.1053, recall=0.0004, f1=0.0008, auroc=0.2847, spearman=-0.3730\n",
      "Threshold 0.96: accuracy=0.4988, precision=0.1250, recall=0.0004, f1=0.0008, auroc=0.2847, spearman=-0.3730\n",
      "Threshold 0.97: accuracy=0.4992, precision=0.1000, recall=0.0002, f1=0.0004, auroc=0.2847, spearman=-0.3730\n",
      "Threshold 0.98: accuracy=0.4993, precision=0.0000, recall=0.0000, f1=0.0000, auroc=0.2847, spearman=-0.3730\n",
      "Threshold 0.99: accuracy=0.4994, precision=0.0000, recall=0.0000, f1=0.0000, auroc=0.2847, spearman=-0.3730\n",
      "Threshold 1.00: accuracy=0.5000, precision=0.0000, recall=0.0000, f1=0.0000, auroc=0.2847, spearman=-0.3730\n"
     ]
    }
   ],
   "source": [
    "model_path = os.path.join(model_dir, \"2022-06-04/Residence/Transformer/Unsup-SimCSE/01:24:49-Residence_Transformer_Unsup-SimCSE.pt\")\n",
    "model = torch.load(model_path)\n",
    "evaluate(model, test_dl)"
   ]
  },
  {
   "cell_type": "markdown",
   "id": "822e26f9",
   "metadata": {
    "pycharm": {
     "name": "#%% md\n"
    }
   },
   "source": [
    "## Transformer + GE-type"
   ]
  },
  {
   "cell_type": "markdown",
   "id": "097ff81f",
   "metadata": {
    "pycharm": {
     "name": "#%% md\n"
    }
   },
   "source": [
    "### Residence_Transformer+GE-type_Sup-SimCSE"
   ]
  },
  {
   "cell_type": "code",
   "execution_count": 4,
   "id": "c1aa5a5b",
   "metadata": {
    "pycharm": {
     "name": "#%%\n"
    }
   },
   "outputs": [
    {
     "name": "stderr",
     "output_type": "stream",
     "text": [
      "2022-06-04 00:15:17.533 | INFO     | __main__:<cell line: 4>:4 - model: \n",
      " GeographicalAttentionNetwork(\n",
      "  (pretrained_bert): BertModel(\n",
      "    (embeddings): BertEmbeddings(\n",
      "      (word_embeddings): Embedding(21128, 256, padding_idx=0)\n",
      "      (position_embeddings): Embedding(512, 256)\n",
      "      (token_type_embeddings): Embedding(16, 256)\n",
      "      (LayerNorm): LayerNorm((256,), eps=1e-12, elementwise_affine=True)\n",
      "      (dropout): Dropout(p=0.1, inplace=False)\n",
      "    )\n",
      "    (encoder): BertEncoder(\n",
      "      (layer): ModuleList(\n",
      "        (0): BertLayer(\n",
      "          (attention): BertAttention(\n",
      "            (self): BertSelfAttention(\n",
      "              (query): Linear(in_features=256, out_features=256, bias=True)\n",
      "              (key): Linear(in_features=256, out_features=256, bias=True)\n",
      "              (value): Linear(in_features=256, out_features=256, bias=True)\n",
      "              (dropout): Dropout(p=0.1, inplace=False)\n",
      "            )\n",
      "            (output): BertSelfOutput(\n",
      "              (dense): Linear(in_features=256, out_features=256, bias=True)\n",
      "              (LayerNorm): LayerNorm((256,), eps=1e-12, elementwise_affine=True)\n",
      "              (dropout): Dropout(p=0.1, inplace=False)\n",
      "            )\n",
      "          )\n",
      "          (intermediate): BertIntermediate(\n",
      "            (dense): Linear(in_features=256, out_features=1024, bias=True)\n",
      "            (intermediate_act_fn): GELUActivation()\n",
      "          )\n",
      "          (output): BertOutput(\n",
      "            (dense): Linear(in_features=1024, out_features=256, bias=True)\n",
      "            (LayerNorm): LayerNorm((256,), eps=1e-12, elementwise_affine=True)\n",
      "            (dropout): Dropout(p=0.1, inplace=False)\n",
      "          )\n",
      "        )\n",
      "        (1): BertLayer(\n",
      "          (attention): BertAttention(\n",
      "            (self): BertSelfAttention(\n",
      "              (query): Linear(in_features=256, out_features=256, bias=True)\n",
      "              (key): Linear(in_features=256, out_features=256, bias=True)\n",
      "              (value): Linear(in_features=256, out_features=256, bias=True)\n",
      "              (dropout): Dropout(p=0.1, inplace=False)\n",
      "            )\n",
      "            (output): BertSelfOutput(\n",
      "              (dense): Linear(in_features=256, out_features=256, bias=True)\n",
      "              (LayerNorm): LayerNorm((256,), eps=1e-12, elementwise_affine=True)\n",
      "              (dropout): Dropout(p=0.1, inplace=False)\n",
      "            )\n",
      "          )\n",
      "          (intermediate): BertIntermediate(\n",
      "            (dense): Linear(in_features=256, out_features=1024, bias=True)\n",
      "            (intermediate_act_fn): GELUActivation()\n",
      "          )\n",
      "          (output): BertOutput(\n",
      "            (dense): Linear(in_features=1024, out_features=256, bias=True)\n",
      "            (LayerNorm): LayerNorm((256,), eps=1e-12, elementwise_affine=True)\n",
      "            (dropout): Dropout(p=0.1, inplace=False)\n",
      "          )\n",
      "        )\n",
      "        (2): BertLayer(\n",
      "          (attention): BertAttention(\n",
      "            (self): BertSelfAttention(\n",
      "              (query): Linear(in_features=256, out_features=256, bias=True)\n",
      "              (key): Linear(in_features=256, out_features=256, bias=True)\n",
      "              (value): Linear(in_features=256, out_features=256, bias=True)\n",
      "              (dropout): Dropout(p=0.1, inplace=False)\n",
      "            )\n",
      "            (output): BertSelfOutput(\n",
      "              (dense): Linear(in_features=256, out_features=256, bias=True)\n",
      "              (LayerNorm): LayerNorm((256,), eps=1e-12, elementwise_affine=True)\n",
      "              (dropout): Dropout(p=0.1, inplace=False)\n",
      "            )\n",
      "          )\n",
      "          (intermediate): BertIntermediate(\n",
      "            (dense): Linear(in_features=256, out_features=1024, bias=True)\n",
      "            (intermediate_act_fn): GELUActivation()\n",
      "          )\n",
      "          (output): BertOutput(\n",
      "            (dense): Linear(in_features=1024, out_features=256, bias=True)\n",
      "            (LayerNorm): LayerNorm((256,), eps=1e-12, elementwise_affine=True)\n",
      "            (dropout): Dropout(p=0.1, inplace=False)\n",
      "          )\n",
      "        )\n",
      "        (3): BertLayer(\n",
      "          (attention): BertAttention(\n",
      "            (self): BertSelfAttention(\n",
      "              (query): Linear(in_features=256, out_features=256, bias=True)\n",
      "              (key): Linear(in_features=256, out_features=256, bias=True)\n",
      "              (value): Linear(in_features=256, out_features=256, bias=True)\n",
      "              (dropout): Dropout(p=0.1, inplace=False)\n",
      "            )\n",
      "            (output): BertSelfOutput(\n",
      "              (dense): Linear(in_features=256, out_features=256, bias=True)\n",
      "              (LayerNorm): LayerNorm((256,), eps=1e-12, elementwise_affine=True)\n",
      "              (dropout): Dropout(p=0.1, inplace=False)\n",
      "            )\n",
      "          )\n",
      "          (intermediate): BertIntermediate(\n",
      "            (dense): Linear(in_features=256, out_features=1024, bias=True)\n",
      "            (intermediate_act_fn): GELUActivation()\n",
      "          )\n",
      "          (output): BertOutput(\n",
      "            (dense): Linear(in_features=1024, out_features=256, bias=True)\n",
      "            (LayerNorm): LayerNorm((256,), eps=1e-12, elementwise_affine=True)\n",
      "            (dropout): Dropout(p=0.1, inplace=False)\n",
      "          )\n",
      "        )\n",
      "      )\n",
      "    )\n",
      "    (pooler): BertPooler(\n",
      "      (dense): Linear(in_features=256, out_features=256, bias=True)\n",
      "      (activation): Tanh()\n",
      "    )\n",
      "  )\n",
      ")\n",
      "2022-06-04 00:15:43.795 | INFO     | local_trainer:evaluate:229 - ------------------------------Evaluation------------------------------\n",
      "2022-06-04 00:15:43.796 | INFO     | local_trainer:evaluate:230 - All average metrics on evaluation dataset, criterion is <function simcse_sup_loss at 0x7fb0f01f0af0>, threshold is 0.6.\n",
      "2022-06-04 00:15:43.797 | INFO     | local_trainer:evaluate:231 - loss=0.15006297496147453, accuracy=0.7674000263214111, precision=0.6854883432388306, recall=0.9882000088691711, f1=0.8094691634178162, auroc=0.9578450322151184, spearman=0.7930108904838562\n",
      "2022-06-04 00:15:43.797 | INFO     | local_trainer:evaluate:232 - ------------------------------Evaluation------------------------------\n",
      "2022-06-04 00:16:09.940 | INFO     | local_trainer:evaluate:229 - ------------------------------Evaluation------------------------------\n",
      "2022-06-04 00:16:09.941 | INFO     | local_trainer:evaluate:230 - All average metrics on evaluation dataset, criterion is <function simcse_sup_loss at 0x7fb0f01f0af0>, threshold is 0.62.\n",
      "2022-06-04 00:16:09.942 | INFO     | local_trainer:evaluate:231 - loss=0.15006297496147453, accuracy=0.782800018787384, precision=0.7015967965126038, recall=0.9842000007629395, f1=0.819210946559906, auroc=0.9578450322151184, spearman=0.7930108904838562\n",
      "2022-06-04 00:16:09.943 | INFO     | local_trainer:evaluate:232 - ------------------------------Evaluation------------------------------\n",
      "2022-06-04 00:16:36.183 | INFO     | local_trainer:evaluate:229 - ------------------------------Evaluation------------------------------\n",
      "2022-06-04 00:16:36.185 | INFO     | local_trainer:evaluate:230 - All average metrics on evaluation dataset, criterion is <function simcse_sup_loss at 0x7fb0f01f0af0>, threshold is 0.64.\n",
      "2022-06-04 00:16:36.186 | INFO     | local_trainer:evaluate:231 - loss=0.15006297496147453, accuracy=0.7976999878883362, precision=0.7177124619483948, recall=0.9814000129699707, f1=0.8290953040122986, auroc=0.9578450322151184, spearman=0.7930108904838562\n",
      "2022-06-04 00:16:36.186 | INFO     | local_trainer:evaluate:232 - ------------------------------Evaluation------------------------------\n",
      "2022-06-04 00:17:02.403 | INFO     | local_trainer:evaluate:229 - ------------------------------Evaluation------------------------------\n",
      "2022-06-04 00:17:02.404 | INFO     | local_trainer:evaluate:230 - All average metrics on evaluation dataset, criterion is <function simcse_sup_loss at 0x7fb0f01f0af0>, threshold is 0.66.\n",
      "2022-06-04 00:17:02.405 | INFO     | local_trainer:evaluate:231 - loss=0.15006297496147453, accuracy=0.8131999969482422, precision=0.7352057695388794, recall=0.9789999723434448, f1=0.8397666811943054, auroc=0.9578450322151184, spearman=0.7930108904838562\n",
      "2022-06-04 00:17:02.405 | INFO     | local_trainer:evaluate:232 - ------------------------------Evaluation------------------------------\n",
      "2022-06-04 00:17:28.317 | INFO     | local_trainer:evaluate:229 - ------------------------------Evaluation------------------------------\n",
      "2022-06-04 00:17:28.318 | INFO     | local_trainer:evaluate:230 - All average metrics on evaluation dataset, criterion is <function simcse_sup_loss at 0x7fb0f01f0af0>, threshold is 0.68.\n",
      "2022-06-04 00:17:28.319 | INFO     | local_trainer:evaluate:231 - loss=0.15006297496147453, accuracy=0.8264999985694885, precision=0.7525916695594788, recall=0.9728000164031982, f1=0.8486434817314148, auroc=0.9578450322151184, spearman=0.7930108904838562\n",
      "2022-06-04 00:17:28.319 | INFO     | local_trainer:evaluate:232 - ------------------------------Evaluation------------------------------\n",
      "2022-06-04 00:17:54.236 | INFO     | local_trainer:evaluate:229 - ------------------------------Evaluation------------------------------\n",
      "2022-06-04 00:17:54.237 | INFO     | local_trainer:evaluate:230 - All average metrics on evaluation dataset, criterion is <function simcse_sup_loss at 0x7fb0f01f0af0>, threshold is 0.7000000000000001.\n",
      "2022-06-04 00:17:54.239 | INFO     | local_trainer:evaluate:231 - loss=0.15006297496147453, accuracy=0.8414999842643738, precision=0.7727200388908386, recall=0.9675999879837036, f1=0.8592487573623657, auroc=0.9578450322151184, spearman=0.7930108904838562\n",
      "2022-06-04 00:17:54.239 | INFO     | local_trainer:evaluate:232 - ------------------------------Evaluation------------------------------\n",
      "2022-06-04 00:18:20.257 | INFO     | local_trainer:evaluate:229 - ------------------------------Evaluation------------------------------\n",
      "2022-06-04 00:18:20.258 | INFO     | local_trainer:evaluate:230 - All average metrics on evaluation dataset, criterion is <function simcse_sup_loss at 0x7fb0f01f0af0>, threshold is 0.7200000000000001.\n",
      "2022-06-04 00:18:20.259 | INFO     | local_trainer:evaluate:231 - loss=0.15006297496147453, accuracy=0.8531000018119812, precision=0.7903305292129517, recall=0.9611999988555908, f1=0.8674307465553284, auroc=0.9578450322151184, spearman=0.7930108904838562\n",
      "2022-06-04 00:18:20.259 | INFO     | local_trainer:evaluate:232 - ------------------------------Evaluation------------------------------\n",
      "2022-06-04 00:18:46.237 | INFO     | local_trainer:evaluate:229 - ------------------------------Evaluation------------------------------\n",
      "2022-06-04 00:18:46.238 | INFO     | local_trainer:evaluate:230 - All average metrics on evaluation dataset, criterion is <function simcse_sup_loss at 0x7fb0f01f0af0>, threshold is 0.7400000000000001.\n",
      "2022-06-04 00:18:46.239 | INFO     | local_trainer:evaluate:231 - loss=0.15006297496147453, accuracy=0.866599977016449, precision=0.811734676361084, recall=0.9545999765396118, f1=0.877389669418335, auroc=0.9578450322151184, spearman=0.7930108904838562\n",
      "2022-06-04 00:18:46.239 | INFO     | local_trainer:evaluate:232 - ------------------------------Evaluation------------------------------\n",
      "2022-06-04 00:19:12.274 | INFO     | local_trainer:evaluate:229 - ------------------------------Evaluation------------------------------\n",
      "2022-06-04 00:19:12.275 | INFO     | local_trainer:evaluate:230 - All average metrics on evaluation dataset, criterion is <function simcse_sup_loss at 0x7fb0f01f0af0>, threshold is 0.7600000000000001.\n",
      "2022-06-04 00:19:12.276 | INFO     | local_trainer:evaluate:231 - loss=0.15006297496147453, accuracy=0.8752999901771545, precision=0.8299630880355835, recall=0.9440000057220459, f1=0.8833162188529968, auroc=0.9578450322151184, spearman=0.7930108904838562\n",
      "2022-06-04 00:19:12.276 | INFO     | local_trainer:evaluate:232 - ------------------------------Evaluation------------------------------\n",
      "2022-06-04 00:19:38.617 | INFO     | local_trainer:evaluate:229 - ------------------------------Evaluation------------------------------\n",
      "2022-06-04 00:19:38.619 | INFO     | local_trainer:evaluate:230 - All average metrics on evaluation dataset, criterion is <function simcse_sup_loss at 0x7fb0f01f0af0>, threshold is 0.7800000000000001.\n",
      "2022-06-04 00:19:38.620 | INFO     | local_trainer:evaluate:231 - loss=0.15006297496147453, accuracy=0.8841000199317932, precision=0.8481058478355408, recall=0.9358000159263611, f1=0.8897975087165833, auroc=0.9578450322151184, spearman=0.7930108904838562\n",
      "2022-06-04 00:19:38.626 | INFO     | local_trainer:evaluate:232 - ------------------------------Evaluation------------------------------\n",
      "2022-06-04 00:20:06.457 | INFO     | local_trainer:evaluate:229 - ------------------------------Evaluation------------------------------\n",
      "2022-06-04 00:20:06.458 | INFO     | local_trainer:evaluate:230 - All average metrics on evaluation dataset, criterion is <function simcse_sup_loss at 0x7fb0f01f0af0>, threshold is 0.8000000000000002.\n",
      "2022-06-04 00:20:06.459 | INFO     | local_trainer:evaluate:231 - loss=0.15006297496147453, accuracy=0.8924000263214111, precision=0.8681050539016724, recall=0.9254000186920166, f1=0.8958373665809631, auroc=0.9578450322151184, spearman=0.7930108904838562\n",
      "2022-06-04 00:20:06.460 | INFO     | local_trainer:evaluate:232 - ------------------------------Evaluation------------------------------\n",
      "2022-06-04 00:20:34.155 | INFO     | local_trainer:evaluate:229 - ------------------------------Evaluation------------------------------\n",
      "2022-06-04 00:20:34.156 | INFO     | local_trainer:evaluate:230 - All average metrics on evaluation dataset, criterion is <function simcse_sup_loss at 0x7fb0f01f0af0>, threshold is 0.8200000000000002.\n",
      "2022-06-04 00:20:34.157 | INFO     | local_trainer:evaluate:231 - loss=0.15006297496147453, accuracy=0.89410001039505, precision=0.8810675144195557, recall=0.9111999869346619, f1=0.8958804607391357, auroc=0.9578450322151184, spearman=0.7930108904838562\n",
      "2022-06-04 00:20:34.157 | INFO     | local_trainer:evaluate:232 - ------------------------------Evaluation------------------------------\n",
      "2022-06-04 00:21:00.864 | INFO     | local_trainer:evaluate:229 - ------------------------------Evaluation------------------------------\n",
      "2022-06-04 00:21:00.865 | INFO     | local_trainer:evaluate:230 - All average metrics on evaluation dataset, criterion is <function simcse_sup_loss at 0x7fb0f01f0af0>, threshold is 0.8400000000000002.\n",
      "2022-06-04 00:21:00.866 | INFO     | local_trainer:evaluate:231 - loss=0.15006297496147453, accuracy=0.8935999870300293, precision=0.8947051763534546, recall=0.8921999931335449, f1=0.8934508562088013, auroc=0.9578450322151184, spearman=0.7930108904838562\n",
      "2022-06-04 00:21:00.866 | INFO     | local_trainer:evaluate:232 - ------------------------------Evaluation------------------------------\n",
      "2022-06-04 00:21:26.747 | INFO     | local_trainer:evaluate:229 - ------------------------------Evaluation------------------------------\n",
      "2022-06-04 00:21:26.748 | INFO     | local_trainer:evaluate:230 - All average metrics on evaluation dataset, criterion is <function simcse_sup_loss at 0x7fb0f01f0af0>, threshold is 0.8600000000000002.\n",
      "2022-06-04 00:21:26.749 | INFO     | local_trainer:evaluate:231 - loss=0.15006297496147453, accuracy=0.8919000029563904, precision=0.9098514914512634, recall=0.8700000047683716, f1=0.8894796371459961, auroc=0.9578450322151184, spearman=0.7930108904838562\n",
      "2022-06-04 00:21:26.750 | INFO     | local_trainer:evaluate:232 - ------------------------------Evaluation------------------------------\n",
      "2022-06-04 00:21:52.664 | INFO     | local_trainer:evaluate:229 - ------------------------------Evaluation------------------------------\n",
      "2022-06-04 00:21:52.665 | INFO     | local_trainer:evaluate:230 - All average metrics on evaluation dataset, criterion is <function simcse_sup_loss at 0x7fb0f01f0af0>, threshold is 0.8800000000000002.\n",
      "2022-06-04 00:21:52.666 | INFO     | local_trainer:evaluate:231 - loss=0.15006297496147453, accuracy=0.8894000053405762, precision=0.9277240633964539, recall=0.8446000218391418, f1=0.8842127323150635, auroc=0.9578450322151184, spearman=0.7930108904838562\n",
      "2022-06-04 00:21:52.667 | INFO     | local_trainer:evaluate:232 - ------------------------------Evaluation------------------------------\n",
      "2022-06-04 00:22:19.411 | INFO     | local_trainer:evaluate:229 - ------------------------------Evaluation------------------------------\n",
      "2022-06-04 00:22:19.412 | INFO     | local_trainer:evaluate:230 - All average metrics on evaluation dataset, criterion is <function simcse_sup_loss at 0x7fb0f01f0af0>, threshold is 0.9000000000000002.\n",
      "2022-06-04 00:22:19.413 | INFO     | local_trainer:evaluate:231 - loss=0.15006297496147453, accuracy=0.8805999755859375, precision=0.9417362809181213, recall=0.8113999962806702, f1=0.8717232346534729, auroc=0.9578450322151184, spearman=0.7930108904838562\n",
      "2022-06-04 00:22:19.413 | INFO     | local_trainer:evaluate:232 - ------------------------------Evaluation------------------------------\n",
      "2022-06-04 00:22:45.926 | INFO     | local_trainer:evaluate:229 - ------------------------------Evaluation------------------------------\n",
      "2022-06-04 00:22:45.927 | INFO     | local_trainer:evaluate:230 - All average metrics on evaluation dataset, criterion is <function simcse_sup_loss at 0x7fb0f01f0af0>, threshold is 0.9200000000000003.\n",
      "2022-06-04 00:22:45.928 | INFO     | local_trainer:evaluate:231 - loss=0.15006297496147453, accuracy=0.8633000254631042, precision=0.9501858949661255, recall=0.7667999863624573, f1=0.8486994504928589, auroc=0.9578450322151184, spearman=0.7930108904838562\n",
      "2022-06-04 00:22:45.929 | INFO     | local_trainer:evaluate:232 - ------------------------------Evaluation------------------------------\n",
      "2022-06-04 00:23:12.501 | INFO     | local_trainer:evaluate:229 - ------------------------------Evaluation------------------------------\n",
      "2022-06-04 00:23:12.502 | INFO     | local_trainer:evaluate:230 - All average metrics on evaluation dataset, criterion is <function simcse_sup_loss at 0x7fb0f01f0af0>, threshold is 0.9400000000000003.\n",
      "2022-06-04 00:23:12.504 | INFO     | local_trainer:evaluate:231 - loss=0.15006297496147453, accuracy=0.836899995803833, precision=0.9644334316253662, recall=0.6995999813079834, f1=0.8109423518180847, auroc=0.9578450322151184, spearman=0.7930108904838562\n",
      "2022-06-04 00:23:12.504 | INFO     | local_trainer:evaluate:232 - ------------------------------Evaluation------------------------------\n",
      "2022-06-04 00:23:39.244 | INFO     | local_trainer:evaluate:229 - ------------------------------Evaluation------------------------------\n",
      "2022-06-04 00:23:39.245 | INFO     | local_trainer:evaluate:230 - All average metrics on evaluation dataset, criterion is <function simcse_sup_loss at 0x7fb0f01f0af0>, threshold is 0.9600000000000003.\n",
      "2022-06-04 00:23:39.246 | INFO     | local_trainer:evaluate:231 - loss=0.15006297496147453, accuracy=0.7937999963760376, precision=0.9741768836975098, recall=0.603600025177002, f1=0.7453691959381104, auroc=0.9578450322151184, spearman=0.7930108904838562\n",
      "2022-06-04 00:23:39.246 | INFO     | local_trainer:evaluate:232 - ------------------------------Evaluation------------------------------\n",
      "2022-06-04 00:24:05.898 | INFO     | local_trainer:evaluate:229 - ------------------------------Evaluation------------------------------\n",
      "2022-06-04 00:24:05.900 | INFO     | local_trainer:evaluate:230 - All average metrics on evaluation dataset, criterion is <function simcse_sup_loss at 0x7fb0f01f0af0>, threshold is 0.9800000000000003.\n",
      "2022-06-04 00:24:05.901 | INFO     | local_trainer:evaluate:231 - loss=0.15006297496147453, accuracy=0.720300018787384, precision=0.9884700775146484, recall=0.4458000063896179, f1=0.6144727468490601, auroc=0.9578450322151184, spearman=0.7930108904838562\n",
      "2022-06-04 00:24:05.901 | INFO     | local_trainer:evaluate:232 - ------------------------------Evaluation------------------------------\n",
      "2022-06-04 00:24:32.593 | INFO     | local_trainer:evaluate:229 - ------------------------------Evaluation------------------------------\n",
      "2022-06-04 00:24:32.594 | INFO     | local_trainer:evaluate:230 - All average metrics on evaluation dataset, criterion is <function simcse_sup_loss at 0x7fb0f01f0af0>, threshold is 1.0000000000000004.\n",
      "2022-06-04 00:24:32.595 | INFO     | local_trainer:evaluate:231 - loss=0.15006297496147453, accuracy=0.5, precision=0.0, recall=0.0, f1=0.0, auroc=0.9578450322151184, spearman=0.7930108904838562\n",
      "2022-06-04 00:24:32.596 | INFO     | local_trainer:evaluate:232 - ------------------------------Evaluation------------------------------\n"
     ]
    }
   ],
   "source": [
    "model_path = os.path.join(model_dir, \"2022-06-03/Residence/Transformer+GE-type/Sup-SimCSE/13:15:44-Residence_Transformer+GE-type_Sup-SimCSE.pt\")\n",
    "model = torch.load(model_path)\n",
    "\n",
    "for threshold in np.arange(start_threshold, end_threshold, 0.02):\n",
    "    evaluate(model, test_dl, criterion=simcse_sup_loss, threshold=threshold)"
   ]
  },
  {
   "cell_type": "markdown",
   "id": "0ddac732",
   "metadata": {
    "pycharm": {
     "name": "#%% md\n"
    }
   },
   "source": [
    "## Transformer + GE-type + Entity-Pooler"
   ]
  },
  {
   "cell_type": "markdown",
   "id": "e6ca2e4c",
   "metadata": {
    "pycharm": {
     "name": "#%% md\n"
    }
   },
   "source": [
    "### Residence_Transformer+GE-type+Entity-Pooler_Sup-SimCSE"
   ]
  },
  {
   "cell_type": "code",
   "execution_count": 8,
   "id": "32894faf",
   "metadata": {
    "pycharm": {
     "name": "#%%\n"
    }
   },
   "outputs": [
    {
     "name": "stdout",
     "output_type": "stream",
     "text": [
      "Threshold 0.50: accuracy=0.7764, precision=0.6932, recall=0.9918, f1=0.8160, auroc=0.9733, spearman=0.8198\n",
      "Threshold 0.51: accuracy=0.7843, precision=0.7012, recall=0.9908, f1=0.8212, auroc=0.9733, spearman=0.8198\n",
      "Threshold 0.52: accuracy=0.7915, precision=0.7088, recall=0.9896, f1=0.8260, auroc=0.9733, spearman=0.8198\n",
      "Threshold 0.53: accuracy=0.7984, precision=0.7163, recall=0.9882, f1=0.8306, auroc=0.9733, spearman=0.8198\n",
      "Threshold 0.54: accuracy=0.8055, precision=0.7240, recall=0.9874, f1=0.8354, auroc=0.9733, spearman=0.8198\n",
      "Threshold 0.55: accuracy=0.8131, precision=0.7324, recall=0.9868, f1=0.8408, auroc=0.9733, spearman=0.8198\n",
      "Threshold 0.56: accuracy=0.8204, precision=0.7410, recall=0.9852, f1=0.8458, auroc=0.9733, spearman=0.8198\n",
      "Threshold 0.57: accuracy=0.8278, precision=0.7495, recall=0.9846, f1=0.8511, auroc=0.9733, spearman=0.8198\n",
      "Threshold 0.58: accuracy=0.8368, precision=0.7606, recall=0.9830, f1=0.8576, auroc=0.9733, spearman=0.8198\n",
      "Threshold 0.59: accuracy=0.8433, precision=0.7693, recall=0.9808, f1=0.8622, auroc=0.9733, spearman=0.8198\n",
      "Threshold 0.60: accuracy=0.8496, precision=0.7778, recall=0.9788, f1=0.8668, auroc=0.9733, spearman=0.8198\n",
      "Threshold 0.61: accuracy=0.8551, precision=0.7859, recall=0.9762, f1=0.8708, auroc=0.9733, spearman=0.8198\n",
      "Threshold 0.62: accuracy=0.8624, precision=0.7962, recall=0.9742, f1=0.8762, auroc=0.9733, spearman=0.8198\n",
      "Threshold 0.63: accuracy=0.8683, precision=0.8047, recall=0.9726, f1=0.8807, auroc=0.9733, spearman=0.8198\n",
      "Threshold 0.64: accuracy=0.8748, precision=0.8144, recall=0.9708, f1=0.8858, auroc=0.9733, spearman=0.8198\n",
      "Threshold 0.65: accuracy=0.8804, precision=0.8231, recall=0.9690, f1=0.8901, auroc=0.9733, spearman=0.8198\n",
      "Threshold 0.66: accuracy=0.8857, precision=0.8324, recall=0.9658, f1=0.8942, auroc=0.9733, spearman=0.8198\n",
      "Threshold 0.67: accuracy=0.8903, precision=0.8408, recall=0.9630, f1=0.8977, auroc=0.9733, spearman=0.8198\n",
      "Threshold 0.68: accuracy=0.8962, precision=0.8507, recall=0.9610, f1=0.9025, auroc=0.9733, spearman=0.8198\n",
      "Threshold 0.69: accuracy=0.9011, precision=0.8597, recall=0.9586, f1=0.9065, auroc=0.9733, spearman=0.8198\n",
      "Threshold 0.70: accuracy=0.9060, precision=0.8696, recall=0.9552, f1=0.9104, auroc=0.9733, spearman=0.8198\n",
      "Threshold 0.71: accuracy=0.9089, precision=0.8777, recall=0.9502, f1=0.9125, auroc=0.9733, spearman=0.8198\n",
      "Threshold 0.72: accuracy=0.9119, precision=0.8849, recall=0.9470, f1=0.9149, auroc=0.9733, spearman=0.8198\n",
      "Threshold 0.73: accuracy=0.9145, precision=0.8919, recall=0.9434, f1=0.9169, auroc=0.9733, spearman=0.8198\n",
      "Threshold 0.74: accuracy=0.9166, precision=0.8990, recall=0.9386, f1=0.9184, auroc=0.9733, spearman=0.8198\n",
      "Threshold 0.75: accuracy=0.9174, precision=0.9046, recall=0.9332, f1=0.9187, auroc=0.9733, spearman=0.8198\n",
      "Threshold 0.76: accuracy=0.9194, precision=0.9118, recall=0.9286, f1=0.9201, auroc=0.9733, spearman=0.8198\n",
      "Threshold 0.77: accuracy=0.9198, precision=0.9176, recall=0.9224, f1=0.9200, auroc=0.9733, spearman=0.8198\n",
      "Threshold 0.78: accuracy=0.9210, precision=0.9241, recall=0.9174, f1=0.9207, auroc=0.9733, spearman=0.8198\n",
      "Threshold 0.79: accuracy=0.9203, precision=0.9284, recall=0.9108, f1=0.9195, auroc=0.9733, spearman=0.8198\n",
      "Threshold 0.80: accuracy=0.9200, precision=0.9344, recall=0.9034, f1=0.9186, auroc=0.9733, spearman=0.8198\n",
      "Threshold 0.81: accuracy=0.9191, precision=0.9398, recall=0.8956, f1=0.9172, auroc=0.9733, spearman=0.8198\n",
      "Threshold 0.82: accuracy=0.9174, precision=0.9452, recall=0.8862, f1=0.9147, auroc=0.9733, spearman=0.8198\n",
      "Threshold 0.83: accuracy=0.9162, precision=0.9514, recall=0.8772, f1=0.9128, auroc=0.9733, spearman=0.8198\n",
      "Threshold 0.84: accuracy=0.9132, precision=0.9563, recall=0.8660, f1=0.9089, auroc=0.9733, spearman=0.8198\n",
      "Threshold 0.85: accuracy=0.9064, precision=0.9591, recall=0.8490, f1=0.9007, auroc=0.9733, spearman=0.8198\n",
      "Threshold 0.86: accuracy=0.9016, precision=0.9642, recall=0.8342, f1=0.8945, auroc=0.9733, spearman=0.8198\n",
      "Threshold 0.87: accuracy=0.8960, precision=0.9672, recall=0.8198, f1=0.8874, auroc=0.9733, spearman=0.8198\n",
      "Threshold 0.88: accuracy=0.8894, precision=0.9710, recall=0.8028, f1=0.8789, auroc=0.9733, spearman=0.8198\n",
      "Threshold 0.89: accuracy=0.8824, precision=0.9749, recall=0.7850, f1=0.8697, auroc=0.9733, spearman=0.8198\n",
      "Threshold 0.90: accuracy=0.8714, precision=0.9784, recall=0.7596, f1=0.8552, auroc=0.9733, spearman=0.8198\n",
      "Threshold 0.91: accuracy=0.8601, precision=0.9813, recall=0.7342, f1=0.8399, auroc=0.9733, spearman=0.8198\n",
      "Threshold 0.92: accuracy=0.8449, precision=0.9829, recall=0.7020, f1=0.8190, auroc=0.9733, spearman=0.8198\n",
      "Threshold 0.93: accuracy=0.8268, precision=0.9849, recall=0.6638, f1=0.7931, auroc=0.9733, spearman=0.8198\n",
      "Threshold 0.94: accuracy=0.8103, precision=0.9877, recall=0.6284, f1=0.7681, auroc=0.9733, spearman=0.8198\n",
      "Threshold 0.95: accuracy=0.7882, precision=0.9898, recall=0.5824, f1=0.7333, auroc=0.9733, spearman=0.8198\n",
      "Threshold 0.96: accuracy=0.7587, precision=0.9909, recall=0.5222, f1=0.6840, auroc=0.9733, spearman=0.8198\n",
      "Threshold 0.97: accuracy=0.7207, precision=0.9924, recall=0.4448, f1=0.6143, auroc=0.9733, spearman=0.8198\n",
      "Threshold 0.98: accuracy=0.6674, precision=0.9941, recall=0.3368, f1=0.5031, auroc=0.9733, spearman=0.8198\n",
      "Threshold 0.99: accuracy=0.5797, precision=0.9975, recall=0.1598, f1=0.2755, auroc=0.9733, spearman=0.8198\n",
      "Threshold 1.00: accuracy=0.5000, precision=0.0000, recall=0.0000, f1=0.0000, auroc=0.9733, spearman=0.8198\n"
     ]
    }
   ],
   "source": [
    "model_path = os.path.join(model_dir, \"2022-06-04/Residence/Transformer+GE-type+Entity-Pooler/Sup-SimCSE/12:20:15-Residence_Transformer+GE-type+Entity-Pooler_Sup-SimCSE.pt\")\n",
    "model = torch.load(model_path)\n",
    "evaluate(model, test_dl)"
   ]
  },
  {
   "cell_type": "markdown",
   "id": "88df58f0",
   "metadata": {
    "pycharm": {
     "name": "#%% md\n"
    }
   },
   "source": [
    "### Residence_Transformer+GE-type+Entity-Pooler_Sup-Triplet"
   ]
  },
  {
   "cell_type": "code",
   "execution_count": 7,
   "id": "b4bd582a",
   "metadata": {
    "pycharm": {
     "name": "#%%\n"
    }
   },
   "outputs": [
    {
     "name": "stdout",
     "output_type": "stream",
     "text": [
      "Threshold 0.50: accuracy=0.8207, precision=0.8021, recall=0.8514, f1=0.8260, auroc=0.8977, spearman=0.6889\n",
      "Threshold 0.51: accuracy=0.8218, precision=0.8049, recall=0.8496, f1=0.8266, auroc=0.8977, spearman=0.6889\n",
      "Threshold 0.52: accuracy=0.8234, precision=0.8079, recall=0.8486, f1=0.8277, auroc=0.8977, spearman=0.6889\n",
      "Threshold 0.53: accuracy=0.8232, precision=0.8091, recall=0.8460, f1=0.8271, auroc=0.8977, spearman=0.6889\n",
      "Threshold 0.54: accuracy=0.8236, precision=0.8106, recall=0.8446, f1=0.8272, auroc=0.8977, spearman=0.6889\n",
      "Threshold 0.55: accuracy=0.8258, precision=0.8148, recall=0.8432, f1=0.8288, auroc=0.8977, spearman=0.6889\n",
      "Threshold 0.56: accuracy=0.8264, precision=0.8171, recall=0.8410, f1=0.8289, auroc=0.8977, spearman=0.6889\n",
      "Threshold 0.57: accuracy=0.8266, precision=0.8194, recall=0.8378, f1=0.8285, auroc=0.8977, spearman=0.6889\n",
      "Threshold 0.58: accuracy=0.8283, precision=0.8226, recall=0.8372, f1=0.8298, auroc=0.8977, spearman=0.6889\n",
      "Threshold 0.59: accuracy=0.8292, precision=0.8248, recall=0.8360, f1=0.8304, auroc=0.8977, spearman=0.6889\n",
      "Threshold 0.60: accuracy=0.8291, precision=0.8260, recall=0.8338, f1=0.8299, auroc=0.8977, spearman=0.6889\n",
      "Threshold 0.61: accuracy=0.8297, precision=0.8283, recall=0.8318, f1=0.8301, auroc=0.8977, spearman=0.6889\n",
      "Threshold 0.62: accuracy=0.8296, precision=0.8296, recall=0.8296, f1=0.8296, auroc=0.8977, spearman=0.6889\n",
      "Threshold 0.63: accuracy=0.8293, precision=0.8312, recall=0.8264, f1=0.8288, auroc=0.8977, spearman=0.6889\n",
      "Threshold 0.64: accuracy=0.8305, precision=0.8338, recall=0.8256, f1=0.8297, auroc=0.8977, spearman=0.6889\n",
      "Threshold 0.65: accuracy=0.8297, precision=0.8346, recall=0.8224, f1=0.8284, auroc=0.8977, spearman=0.6889\n",
      "Threshold 0.66: accuracy=0.8299, precision=0.8363, recall=0.8204, f1=0.8283, auroc=0.8977, spearman=0.6889\n",
      "Threshold 0.67: accuracy=0.8302, precision=0.8380, recall=0.8186, f1=0.8282, auroc=0.8977, spearman=0.6889\n",
      "Threshold 0.68: accuracy=0.8300, precision=0.8392, recall=0.8164, f1=0.8277, auroc=0.8977, spearman=0.6889\n",
      "Threshold 0.69: accuracy=0.8300, precision=0.8406, recall=0.8144, f1=0.8273, auroc=0.8977, spearman=0.6889\n",
      "Threshold 0.70: accuracy=0.8303, precision=0.8426, recall=0.8124, f1=0.8272, auroc=0.8977, spearman=0.6889\n",
      "Threshold 0.71: accuracy=0.8304, precision=0.8445, recall=0.8100, f1=0.8269, auroc=0.8977, spearman=0.6889\n",
      "Threshold 0.72: accuracy=0.8307, precision=0.8469, recall=0.8074, f1=0.8267, auroc=0.8977, spearman=0.6889\n",
      "Threshold 0.73: accuracy=0.8307, precision=0.8483, recall=0.8054, f1=0.8263, auroc=0.8977, spearman=0.6889\n",
      "Threshold 0.74: accuracy=0.8311, precision=0.8504, recall=0.8036, f1=0.8263, auroc=0.8977, spearman=0.6889\n",
      "Threshold 0.75: accuracy=0.8315, precision=0.8524, recall=0.8018, f1=0.8263, auroc=0.8977, spearman=0.6889\n",
      "Threshold 0.76: accuracy=0.8320, precision=0.8552, recall=0.7994, f1=0.8263, auroc=0.8977, spearman=0.6889\n",
      "Threshold 0.77: accuracy=0.8334, precision=0.8586, recall=0.7982, f1=0.8273, auroc=0.8977, spearman=0.6889\n",
      "Threshold 0.78: accuracy=0.8339, precision=0.8613, recall=0.7960, f1=0.8274, auroc=0.8977, spearman=0.6889\n",
      "Threshold 0.79: accuracy=0.8345, precision=0.8637, recall=0.7944, f1=0.8276, auroc=0.8977, spearman=0.6889\n",
      "Threshold 0.80: accuracy=0.8345, precision=0.8649, recall=0.7928, f1=0.8273, auroc=0.8977, spearman=0.6889\n",
      "Threshold 0.81: accuracy=0.8347, precision=0.8679, recall=0.7896, f1=0.8269, auroc=0.8977, spearman=0.6889\n",
      "Threshold 0.82: accuracy=0.8356, precision=0.8722, recall=0.7864, f1=0.8271, auroc=0.8977, spearman=0.6889\n",
      "Threshold 0.83: accuracy=0.8363, precision=0.8763, recall=0.7832, f1=0.8271, auroc=0.8977, spearman=0.6889\n",
      "Threshold 0.84: accuracy=0.8362, precision=0.8783, recall=0.7806, f1=0.8266, auroc=0.8977, spearman=0.6889\n",
      "Threshold 0.85: accuracy=0.8350, precision=0.8803, recall=0.7754, f1=0.8245, auroc=0.8977, spearman=0.6889\n",
      "Threshold 0.86: accuracy=0.8347, precision=0.8836, recall=0.7710, f1=0.8235, auroc=0.8977, spearman=0.6889\n",
      "Threshold 0.87: accuracy=0.8355, precision=0.8875, recall=0.7684, f1=0.8237, auroc=0.8977, spearman=0.6889\n",
      "Threshold 0.88: accuracy=0.8354, precision=0.8900, recall=0.7654, f1=0.8230, auroc=0.8977, spearman=0.6889\n",
      "Threshold 0.89: accuracy=0.8357, precision=0.8939, recall=0.7618, f1=0.8226, auroc=0.8977, spearman=0.6889\n",
      "Threshold 0.90: accuracy=0.8352, precision=0.8979, recall=0.7564, f1=0.8211, auroc=0.8977, spearman=0.6889\n",
      "Threshold 0.91: accuracy=0.8346, precision=0.9031, recall=0.7496, f1=0.8192, auroc=0.8977, spearman=0.6889\n",
      "Threshold 0.92: accuracy=0.8334, precision=0.9078, recall=0.7422, f1=0.8167, auroc=0.8977, spearman=0.6889\n",
      "Threshold 0.93: accuracy=0.8315, precision=0.9114, recall=0.7344, f1=0.8134, auroc=0.8977, spearman=0.6889\n",
      "Threshold 0.94: accuracy=0.8292, precision=0.9180, recall=0.7230, f1=0.8089, auroc=0.8977, spearman=0.6889\n",
      "Threshold 0.95: accuracy=0.8258, precision=0.9231, recall=0.7108, f1=0.8032, auroc=0.8977, spearman=0.6889\n",
      "Threshold 0.96: accuracy=0.8187, precision=0.9269, recall=0.6920, f1=0.7924, auroc=0.8977, spearman=0.6889\n",
      "Threshold 0.97: accuracy=0.8059, precision=0.9317, recall=0.6602, f1=0.7728, auroc=0.8977, spearman=0.6889\n",
      "Threshold 0.98: accuracy=0.7782, precision=0.9355, recall=0.5976, f1=0.7293, auroc=0.8977, spearman=0.6889\n",
      "Threshold 0.99: accuracy=0.7161, precision=0.9394, recall=0.4620, f1=0.6194, auroc=0.8977, spearman=0.6889\n",
      "Threshold 1.00: accuracy=0.5000, precision=0.0000, recall=0.0000, f1=0.0000, auroc=0.8977, spearman=0.6889\n"
     ]
    }
   ],
   "source": [
    "model_path = os.path.join(model_dir, \"2022-06-04/Residence/Transformer+GE-type+Entity-Pooler/Sup-Triplet/12:21:28-Residence_Transformer+GE-type+Entity-Pooler_Sup-Triplet.pt\")\n",
    "model = torch.load(model_path)\n",
    "evaluate(model, test_dl)"
   ]
  },
  {
   "cell_type": "markdown",
   "id": "f5c7a67d",
   "metadata": {
    "pycharm": {
     "name": "#%% md\n"
    }
   },
   "source": [
    "### Residence_Transformer+GE-type+Entity-Pooler_Unsup-SimCSE"
   ]
  },
  {
   "cell_type": "code",
   "execution_count": 49,
   "id": "092fafbc",
   "metadata": {
    "pycharm": {
     "name": "#%%\n"
    }
   },
   "outputs": [
    {
     "name": "stdout",
     "output_type": "stream",
     "text": [
      "Threshold 0.50: accuracy=0.3930, precision=0.2398, recall=0.0986, f1=0.1397, auroc=0.2925, spearman=-0.3594\n",
      "Threshold 0.51: accuracy=0.3957, precision=0.2343, recall=0.0920, f1=0.1321, auroc=0.2925, spearman=-0.3594\n",
      "Threshold 0.52: accuracy=0.3970, precision=0.2261, recall=0.0850, f1=0.1235, auroc=0.2925, spearman=-0.3594\n",
      "Threshold 0.53: accuracy=0.4002, precision=0.2219, recall=0.0796, f1=0.1172, auroc=0.2925, spearman=-0.3594\n",
      "Threshold 0.54: accuracy=0.4021, precision=0.2146, recall=0.0736, f1=0.1096, auroc=0.2925, spearman=-0.3594\n",
      "Threshold 0.55: accuracy=0.4059, precision=0.2112, recall=0.0688, f1=0.1038, auroc=0.2925, spearman=-0.3594\n",
      "Threshold 0.56: accuracy=0.4080, precision=0.2040, recall=0.0634, f1=0.0967, auroc=0.2925, spearman=-0.3594\n",
      "Threshold 0.57: accuracy=0.4114, precision=0.1999, recall=0.0590, f1=0.0911, auroc=0.2925, spearman=-0.3594\n",
      "Threshold 0.58: accuracy=0.4134, precision=0.1933, recall=0.0546, f1=0.0852, auroc=0.2925, spearman=-0.3594\n",
      "Threshold 0.59: accuracy=0.4165, precision=0.1914, recall=0.0518, f1=0.0815, auroc=0.2925, spearman=-0.3594\n",
      "Threshold 0.60: accuracy=0.4200, precision=0.1850, recall=0.0470, f1=0.0750, auroc=0.2925, spearman=-0.3594\n",
      "Threshold 0.61: accuracy=0.4227, precision=0.1819, recall=0.0442, f1=0.0711, auroc=0.2925, spearman=-0.3594\n",
      "Threshold 0.62: accuracy=0.4259, precision=0.1809, recall=0.0420, f1=0.0682, auroc=0.2925, spearman=-0.3594\n",
      "Threshold 0.63: accuracy=0.4276, precision=0.1703, recall=0.0374, f1=0.0613, auroc=0.2925, spearman=-0.3594\n",
      "Threshold 0.64: accuracy=0.4297, precision=0.1617, recall=0.0336, f1=0.0556, auroc=0.2925, spearman=-0.3594\n",
      "Threshold 0.65: accuracy=0.4330, precision=0.1561, recall=0.0304, f1=0.0509, auroc=0.2925, spearman=-0.3594\n",
      "Threshold 0.66: accuracy=0.4355, precision=0.1483, recall=0.0272, f1=0.0460, auroc=0.2925, spearman=-0.3594\n",
      "Threshold 0.67: accuracy=0.4381, precision=0.1397, recall=0.0240, f1=0.0410, auroc=0.2925, spearman=-0.3594\n",
      "Threshold 0.68: accuracy=0.4415, precision=0.1384, recall=0.0224, f1=0.0386, auroc=0.2925, spearman=-0.3594\n",
      "Threshold 0.69: accuracy=0.4440, precision=0.1345, recall=0.0206, f1=0.0357, auroc=0.2925, spearman=-0.3594\n",
      "Threshold 0.70: accuracy=0.4465, precision=0.1300, recall=0.0188, f1=0.0328, auroc=0.2925, spearman=-0.3594\n",
      "Threshold 0.71: accuracy=0.4478, precision=0.1195, recall=0.0164, f1=0.0288, auroc=0.2925, spearman=-0.3594\n",
      "Threshold 0.72: accuracy=0.4510, precision=0.1172, recall=0.0150, f1=0.0266, auroc=0.2925, spearman=-0.3594\n",
      "Threshold 0.73: accuracy=0.4532, precision=0.1087, recall=0.0130, f1=0.0232, auroc=0.2925, spearman=-0.3594\n",
      "Threshold 0.74: accuracy=0.4553, precision=0.1058, recall=0.0120, f1=0.0216, auroc=0.2925, spearman=-0.3594\n",
      "Threshold 0.75: accuracy=0.4567, precision=0.0983, recall=0.0106, f1=0.0191, auroc=0.2925, spearman=-0.3594\n",
      "Threshold 0.76: accuracy=0.4581, precision=0.0900, recall=0.0092, f1=0.0167, auroc=0.2925, spearman=-0.3594\n",
      "Threshold 0.77: accuracy=0.4597, precision=0.0776, recall=0.0074, f1=0.0135, auroc=0.2925, spearman=-0.3594\n",
      "Threshold 0.78: accuracy=0.4625, precision=0.0787, recall=0.0070, f1=0.0129, auroc=0.2925, spearman=-0.3594\n",
      "Threshold 0.79: accuracy=0.4639, precision=0.0773, recall=0.0066, f1=0.0122, auroc=0.2925, spearman=-0.3594\n",
      "Threshold 0.80: accuracy=0.4646, precision=0.0662, recall=0.0054, f1=0.0100, auroc=0.2925, spearman=-0.3594\n",
      "Threshold 0.81: accuracy=0.4669, precision=0.0539, recall=0.0040, f1=0.0074, auroc=0.2925, spearman=-0.3594\n",
      "Threshold 0.82: accuracy=0.4687, precision=0.0516, recall=0.0036, f1=0.0067, auroc=0.2925, spearman=-0.3594\n",
      "Threshold 0.83: accuracy=0.4718, precision=0.0566, recall=0.0036, f1=0.0068, auroc=0.2925, spearman=-0.3594\n",
      "Threshold 0.84: accuracy=0.4730, precision=0.0439, recall=0.0026, f1=0.0049, auroc=0.2925, spearman=-0.3594\n",
      "Threshold 0.85: accuracy=0.4748, precision=0.0401, recall=0.0022, f1=0.0042, auroc=0.2925, spearman=-0.3594\n",
      "Threshold 0.86: accuracy=0.4758, precision=0.0346, recall=0.0018, f1=0.0034, auroc=0.2925, spearman=-0.3594\n",
      "Threshold 0.87: accuracy=0.4774, precision=0.0292, recall=0.0014, f1=0.0027, auroc=0.2925, spearman=-0.3594\n",
      "Threshold 0.88: accuracy=0.4783, precision=0.0220, recall=0.0010, f1=0.0019, auroc=0.2925, spearman=-0.3594\n",
      "Threshold 0.89: accuracy=0.4796, precision=0.0189, recall=0.0008, f1=0.0015, auroc=0.2925, spearman=-0.3594\n",
      "Threshold 0.90: accuracy=0.4810, precision=0.0202, recall=0.0008, f1=0.0015, auroc=0.2925, spearman=-0.3594\n",
      "Threshold 0.91: accuracy=0.4828, precision=0.0222, recall=0.0008, f1=0.0015, auroc=0.2925, spearman=-0.3594\n",
      "Threshold 0.92: accuracy=0.4845, precision=0.0186, recall=0.0006, f1=0.0012, auroc=0.2925, spearman=-0.3594\n",
      "Threshold 0.93: accuracy=0.4857, precision=0.0201, recall=0.0006, f1=0.0012, auroc=0.2925, spearman=-0.3594\n",
      "Threshold 0.94: accuracy=0.4871, precision=0.0150, recall=0.0004, f1=0.0008, auroc=0.2925, spearman=-0.3594\n",
      "Threshold 0.95: accuracy=0.4887, precision=0.0000, recall=0.0000, f1=0.0000, auroc=0.2925, spearman=-0.3594\n",
      "Threshold 0.96: accuracy=0.4905, precision=0.0000, recall=0.0000, f1=0.0000, auroc=0.2925, spearman=-0.3594\n",
      "Threshold 0.97: accuracy=0.4923, precision=0.0000, recall=0.0000, f1=0.0000, auroc=0.2925, spearman=-0.3594\n",
      "Threshold 0.98: accuracy=0.4941, precision=0.0000, recall=0.0000, f1=0.0000, auroc=0.2925, spearman=-0.3594\n",
      "Threshold 0.99: accuracy=0.4963, precision=0.0000, recall=0.0000, f1=0.0000, auroc=0.2925, spearman=-0.3594\n",
      "Threshold 1.00: accuracy=0.5000, precision=0.0000, recall=0.0000, f1=0.0000, auroc=0.2925, spearman=-0.3594\n"
     ]
    }
   ],
   "source": [
    "model_path = os.path.join(model_dir, \"2022-06-04/Residence/Transformer+GE-type+Entity-Pooler/Unsup-SimCSE/01:25:40-Residence_Transformer+GE-type+Entity-Pooler_Unsup-SimCSE.pt\")\n",
    "model = torch.load(model_path)\n",
    "evaluate(model, test_dl)"
   ]
  },
  {
   "cell_type": "markdown",
   "id": "ad33f572",
   "metadata": {
    "pycharm": {
     "name": "#%% md\n"
    }
   },
   "source": [
    "# Institution"
   ]
  },
  {
   "cell_type": "markdown",
   "id": "0d890223",
   "metadata": {
    "pycharm": {
     "name": "#%% md\n"
    }
   },
   "source": [
    "## Transformer"
   ]
  },
  {
   "cell_type": "markdown",
   "id": "8e710d74",
   "metadata": {
    "pycharm": {
     "name": "#%% md\n"
    }
   },
   "source": [
    "### Institution_Transformer_Sup-SimCSE"
   ]
  },
  {
   "cell_type": "code",
   "execution_count": 50,
   "id": "7cb87b1d",
   "metadata": {
    "pycharm": {
     "name": "#%%\n"
    }
   },
   "outputs": [
    {
     "name": "stdout",
     "output_type": "stream",
     "text": [
      "Threshold 0.50: accuracy=0.6713, precision=0.6056, recall=0.9826, f1=0.7493, auroc=0.9199, spearman=0.7273\n",
      "Threshold 0.51: accuracy=0.6824, precision=0.6141, recall=0.9816, f1=0.7555, auroc=0.9199, spearman=0.7273\n",
      "Threshold 0.52: accuracy=0.6908, precision=0.6209, recall=0.9798, f1=0.7601, auroc=0.9199, spearman=0.7273\n",
      "Threshold 0.53: accuracy=0.6992, precision=0.6282, recall=0.9762, f1=0.7644, auroc=0.9199, spearman=0.7273\n",
      "Threshold 0.54: accuracy=0.7080, precision=0.6358, recall=0.9736, f1=0.7693, auroc=0.9199, spearman=0.7273\n",
      "Threshold 0.55: accuracy=0.7176, precision=0.6442, recall=0.9722, f1=0.7749, auroc=0.9199, spearman=0.7273\n",
      "Threshold 0.56: accuracy=0.7273, precision=0.6529, recall=0.9704, f1=0.7806, auroc=0.9199, spearman=0.7273\n",
      "Threshold 0.57: accuracy=0.7358, precision=0.6608, recall=0.9688, f1=0.7857, auroc=0.9199, spearman=0.7273\n",
      "Threshold 0.58: accuracy=0.7441, precision=0.6693, recall=0.9650, f1=0.7904, auroc=0.9199, spearman=0.7273\n",
      "Threshold 0.59: accuracy=0.7551, precision=0.6804, recall=0.9620, f1=0.7971, auroc=0.9199, spearman=0.7273\n",
      "Threshold 0.60: accuracy=0.7643, precision=0.6903, recall=0.9586, f1=0.8026, auroc=0.9199, spearman=0.7273\n",
      "Threshold 0.61: accuracy=0.7719, precision=0.6991, recall=0.9548, f1=0.8072, auroc=0.9199, spearman=0.7273\n",
      "Threshold 0.62: accuracy=0.7807, precision=0.7093, recall=0.9512, f1=0.8126, auroc=0.9199, spearman=0.7273\n",
      "Threshold 0.63: accuracy=0.7875, precision=0.7182, recall=0.9464, f1=0.8166, auroc=0.9199, spearman=0.7273\n",
      "Threshold 0.64: accuracy=0.7965, precision=0.7302, recall=0.9406, f1=0.8221, auroc=0.9199, spearman=0.7273\n",
      "Threshold 0.65: accuracy=0.8044, precision=0.7413, recall=0.9352, f1=0.8270, auroc=0.9199, spearman=0.7273\n",
      "Threshold 0.66: accuracy=0.8110, precision=0.7509, recall=0.9308, f1=0.8312, auroc=0.9199, spearman=0.7273\n",
      "Threshold 0.67: accuracy=0.8149, precision=0.7586, recall=0.9238, f1=0.8331, auroc=0.9199, spearman=0.7273\n",
      "Threshold 0.68: accuracy=0.8219, precision=0.7701, recall=0.9178, f1=0.8375, auroc=0.9199, spearman=0.7273\n",
      "Threshold 0.69: accuracy=0.8298, precision=0.7829, recall=0.9126, f1=0.8428, auroc=0.9199, spearman=0.7273\n",
      "Threshold 0.70: accuracy=0.8340, precision=0.7933, recall=0.9034, f1=0.8448, auroc=0.9199, spearman=0.7273\n",
      "Threshold 0.71: accuracy=0.8388, precision=0.8054, recall=0.8934, f1=0.8471, auroc=0.9199, spearman=0.7273\n",
      "Threshold 0.72: accuracy=0.8441, precision=0.8173, recall=0.8864, f1=0.8504, auroc=0.9199, spearman=0.7273\n",
      "Threshold 0.73: accuracy=0.8472, precision=0.8279, recall=0.8766, f1=0.8516, auroc=0.9199, spearman=0.7273\n",
      "Threshold 0.74: accuracy=0.8506, precision=0.8379, recall=0.8694, f1=0.8534, auroc=0.9199, spearman=0.7273\n",
      "Threshold 0.75: accuracy=0.8511, precision=0.8467, recall=0.8574, f1=0.8520, auroc=0.9199, spearman=0.7273\n",
      "Threshold 0.76: accuracy=0.8516, precision=0.8547, recall=0.8472, f1=0.8509, auroc=0.9199, spearman=0.7273\n",
      "Threshold 0.77: accuracy=0.8498, precision=0.8627, recall=0.8320, f1=0.8471, auroc=0.9199, spearman=0.7273\n",
      "Threshold 0.78: accuracy=0.8501, precision=0.8746, recall=0.8174, f1=0.8450, auroc=0.9199, spearman=0.7273\n",
      "Threshold 0.79: accuracy=0.8489, precision=0.8852, recall=0.8018, f1=0.8414, auroc=0.9199, spearman=0.7273\n",
      "Threshold 0.80: accuracy=0.8466, precision=0.8937, recall=0.7868, f1=0.8368, auroc=0.9199, spearman=0.7273\n",
      "Threshold 0.81: accuracy=0.8408, precision=0.9017, recall=0.7650, f1=0.8277, auroc=0.9199, spearman=0.7273\n",
      "Threshold 0.82: accuracy=0.8351, precision=0.9082, recall=0.7456, f1=0.8189, auroc=0.9199, spearman=0.7273\n",
      "Threshold 0.83: accuracy=0.8285, precision=0.9145, recall=0.7248, f1=0.8087, auroc=0.9199, spearman=0.7273\n",
      "Threshold 0.84: accuracy=0.8177, precision=0.9201, recall=0.6958, f1=0.7924, auroc=0.9199, spearman=0.7273\n",
      "Threshold 0.85: accuracy=0.8081, precision=0.9261, recall=0.6696, f1=0.7772, auroc=0.9199, spearman=0.7273\n",
      "Threshold 0.86: accuracy=0.7989, precision=0.9356, recall=0.6420, f1=0.7615, auroc=0.9199, spearman=0.7273\n",
      "Threshold 0.87: accuracy=0.7868, precision=0.9410, recall=0.6120, f1=0.7416, auroc=0.9199, spearman=0.7273\n",
      "Threshold 0.88: accuracy=0.7753, precision=0.9465, recall=0.5836, f1=0.7220, auroc=0.9199, spearman=0.7273\n",
      "Threshold 0.89: accuracy=0.7594, precision=0.9535, recall=0.5454, f1=0.6939, auroc=0.9199, spearman=0.7273\n",
      "Threshold 0.90: accuracy=0.7434, precision=0.9579, recall=0.5092, f1=0.6649, auroc=0.9199, spearman=0.7273\n",
      "Threshold 0.91: accuracy=0.7212, precision=0.9582, recall=0.4626, f1=0.6240, auroc=0.9199, spearman=0.7273\n",
      "Threshold 0.92: accuracy=0.6984, precision=0.9627, recall=0.4128, f1=0.5778, auroc=0.9199, spearman=0.7273\n",
      "Threshold 0.93: accuracy=0.6712, precision=0.9652, recall=0.3552, f1=0.5193, auroc=0.9199, spearman=0.7273\n",
      "Threshold 0.94: accuracy=0.6415, precision=0.9701, recall=0.2920, f1=0.4489, auroc=0.9199, spearman=0.7273\n",
      "Threshold 0.95: accuracy=0.6082, precision=0.9688, recall=0.2236, f1=0.3633, auroc=0.9199, spearman=0.7273\n",
      "Threshold 0.96: accuracy=0.5698, precision=0.9604, recall=0.1456, f1=0.2529, auroc=0.9199, spearman=0.7273\n",
      "Threshold 0.97: accuracy=0.5405, precision=0.9510, recall=0.0854, f1=0.1567, auroc=0.9199, spearman=0.7273\n",
      "Threshold 0.98: accuracy=0.5146, precision=0.9398, recall=0.0312, f1=0.0604, auroc=0.9199, spearman=0.7273\n",
      "Threshold 0.99: accuracy=0.5052, precision=0.9483, recall=0.0110, f1=0.0217, auroc=0.9199, spearman=0.7273\n",
      "Threshold 1.00: accuracy=0.5000, precision=0.0000, recall=0.0000, f1=0.0000, auroc=0.9199, spearman=0.7273\n"
     ]
    }
   ],
   "source": [
    "model_path = os.path.join(model_dir, \"2022-06-03/Institution/Transformer/Sup-SimCSE/13:18:53-Institution_Transformer_Sup-SimCSE.pt\")\n",
    "model = torch.load(model_path)\n",
    "evaluate(model, test_dl)"
   ]
  },
  {
   "cell_type": "markdown",
   "id": "a2b00b4d",
   "metadata": {
    "pycharm": {
     "name": "#%% md\n"
    }
   },
   "source": [
    "### Institution_Transformer_Sup-Triplet"
   ]
  },
  {
   "cell_type": "code",
   "execution_count": 51,
   "id": "33d9e6a4",
   "metadata": {
    "pycharm": {
     "name": "#%%\n"
    }
   },
   "outputs": [
    {
     "name": "stdout",
     "output_type": "stream",
     "text": [
      "Threshold 0.50: accuracy=0.5000, precision=0.5000, recall=1.0000, f1=0.6667, auroc=0.5020, spearman=0.0040\n",
      "Threshold 0.51: accuracy=0.5000, precision=0.5000, recall=1.0000, f1=0.6667, auroc=0.5020, spearman=0.0040\n",
      "Threshold 0.52: accuracy=0.5000, precision=0.5000, recall=1.0000, f1=0.6667, auroc=0.5020, spearman=0.0040\n",
      "Threshold 0.53: accuracy=0.5000, precision=0.5000, recall=1.0000, f1=0.6667, auroc=0.5020, spearman=0.0040\n",
      "Threshold 0.54: accuracy=0.5000, precision=0.5000, recall=1.0000, f1=0.6667, auroc=0.5020, spearman=0.0040\n",
      "Threshold 0.55: accuracy=0.5000, precision=0.5000, recall=1.0000, f1=0.6667, auroc=0.5020, spearman=0.0040\n",
      "Threshold 0.56: accuracy=0.5000, precision=0.5000, recall=1.0000, f1=0.6667, auroc=0.5020, spearman=0.0040\n",
      "Threshold 0.57: accuracy=0.5000, precision=0.5000, recall=1.0000, f1=0.6667, auroc=0.5020, spearman=0.0040\n",
      "Threshold 0.58: accuracy=0.5000, precision=0.5000, recall=1.0000, f1=0.6667, auroc=0.5020, spearman=0.0040\n",
      "Threshold 0.59: accuracy=0.5000, precision=0.5000, recall=1.0000, f1=0.6667, auroc=0.5020, spearman=0.0040\n",
      "Threshold 0.60: accuracy=0.5000, precision=0.5000, recall=1.0000, f1=0.6667, auroc=0.5020, spearman=0.0040\n",
      "Threshold 0.61: accuracy=0.5000, precision=0.5000, recall=1.0000, f1=0.6667, auroc=0.5020, spearman=0.0040\n",
      "Threshold 0.62: accuracy=0.5000, precision=0.5000, recall=1.0000, f1=0.6667, auroc=0.5020, spearman=0.0040\n",
      "Threshold 0.63: accuracy=0.5000, precision=0.5000, recall=1.0000, f1=0.6667, auroc=0.5020, spearman=0.0040\n",
      "Threshold 0.64: accuracy=0.5000, precision=0.5000, recall=1.0000, f1=0.6667, auroc=0.5020, spearman=0.0040\n",
      "Threshold 0.65: accuracy=0.5000, precision=0.5000, recall=1.0000, f1=0.6667, auroc=0.5020, spearman=0.0040\n",
      "Threshold 0.66: accuracy=0.5000, precision=0.5000, recall=1.0000, f1=0.6667, auroc=0.5020, spearman=0.0040\n",
      "Threshold 0.67: accuracy=0.5000, precision=0.5000, recall=1.0000, f1=0.6667, auroc=0.5020, spearman=0.0040\n",
      "Threshold 0.68: accuracy=0.5000, precision=0.5000, recall=1.0000, f1=0.6667, auroc=0.5020, spearman=0.0040\n",
      "Threshold 0.69: accuracy=0.5000, precision=0.5000, recall=1.0000, f1=0.6667, auroc=0.5020, spearman=0.0040\n",
      "Threshold 0.70: accuracy=0.5000, precision=0.5000, recall=1.0000, f1=0.6667, auroc=0.5020, spearman=0.0040\n",
      "Threshold 0.71: accuracy=0.5000, precision=0.5000, recall=1.0000, f1=0.6667, auroc=0.5020, spearman=0.0040\n",
      "Threshold 0.72: accuracy=0.5000, precision=0.5000, recall=1.0000, f1=0.6667, auroc=0.5020, spearman=0.0040\n",
      "Threshold 0.73: accuracy=0.5000, precision=0.5000, recall=1.0000, f1=0.6667, auroc=0.5020, spearman=0.0040\n",
      "Threshold 0.74: accuracy=0.5000, precision=0.5000, recall=1.0000, f1=0.6667, auroc=0.5020, spearman=0.0040\n",
      "Threshold 0.75: accuracy=0.5000, precision=0.5000, recall=1.0000, f1=0.6667, auroc=0.5020, spearman=0.0040\n",
      "Threshold 0.76: accuracy=0.5000, precision=0.5000, recall=1.0000, f1=0.6667, auroc=0.5020, spearman=0.0040\n",
      "Threshold 0.77: accuracy=0.5000, precision=0.5000, recall=1.0000, f1=0.6667, auroc=0.5020, spearman=0.0040\n",
      "Threshold 0.78: accuracy=0.5000, precision=0.5000, recall=1.0000, f1=0.6667, auroc=0.5020, spearman=0.0040\n",
      "Threshold 0.79: accuracy=0.5000, precision=0.5000, recall=1.0000, f1=0.6667, auroc=0.5020, spearman=0.0040\n",
      "Threshold 0.80: accuracy=0.5000, precision=0.5000, recall=1.0000, f1=0.6667, auroc=0.5020, spearman=0.0040\n",
      "Threshold 0.81: accuracy=0.5000, precision=0.5000, recall=1.0000, f1=0.6667, auroc=0.5020, spearman=0.0040\n",
      "Threshold 0.82: accuracy=0.5000, precision=0.5000, recall=1.0000, f1=0.6667, auroc=0.5020, spearman=0.0040\n",
      "Threshold 0.83: accuracy=0.5000, precision=0.5000, recall=1.0000, f1=0.6667, auroc=0.5020, spearman=0.0040\n",
      "Threshold 0.84: accuracy=0.5000, precision=0.5000, recall=1.0000, f1=0.6667, auroc=0.5020, spearman=0.0040\n",
      "Threshold 0.85: accuracy=0.5000, precision=0.5000, recall=1.0000, f1=0.6667, auroc=0.5020, spearman=0.0040\n",
      "Threshold 0.86: accuracy=0.5000, precision=0.5000, recall=1.0000, f1=0.6667, auroc=0.5020, spearman=0.0040\n",
      "Threshold 0.87: accuracy=0.5000, precision=0.5000, recall=1.0000, f1=0.6667, auroc=0.5020, spearman=0.0040\n",
      "Threshold 0.88: accuracy=0.5000, precision=0.5000, recall=1.0000, f1=0.6667, auroc=0.5020, spearman=0.0040\n",
      "Threshold 0.89: accuracy=0.5000, precision=0.5000, recall=1.0000, f1=0.6667, auroc=0.5020, spearman=0.0040\n",
      "Threshold 0.90: accuracy=0.5000, precision=0.5000, recall=1.0000, f1=0.6667, auroc=0.5020, spearman=0.0040\n",
      "Threshold 0.91: accuracy=0.5000, precision=0.5000, recall=1.0000, f1=0.6667, auroc=0.5020, spearman=0.0040\n",
      "Threshold 0.92: accuracy=0.5000, precision=0.5000, recall=1.0000, f1=0.6667, auroc=0.5020, spearman=0.0040\n",
      "Threshold 0.93: accuracy=0.5000, precision=0.5000, recall=1.0000, f1=0.6667, auroc=0.5020, spearman=0.0040\n",
      "Threshold 0.94: accuracy=0.5000, precision=0.5000, recall=1.0000, f1=0.6667, auroc=0.5020, spearman=0.0040\n",
      "Threshold 0.95: accuracy=0.5000, precision=0.5000, recall=1.0000, f1=0.6667, auroc=0.5020, spearman=0.0040\n",
      "Threshold 0.96: accuracy=0.5000, precision=0.5000, recall=1.0000, f1=0.6667, auroc=0.5020, spearman=0.0040\n",
      "Threshold 0.97: accuracy=0.5000, precision=0.5000, recall=1.0000, f1=0.6667, auroc=0.5020, spearman=0.0040\n",
      "Threshold 0.98: accuracy=0.5000, precision=0.5000, recall=1.0000, f1=0.6667, auroc=0.5020, spearman=0.0040\n",
      "Threshold 0.99: accuracy=0.5000, precision=0.5000, recall=1.0000, f1=0.6667, auroc=0.5020, spearman=0.0040\n",
      "Threshold 1.00: accuracy=0.5024, precision=0.5035, recall=0.3468, f1=0.4107, auroc=0.5020, spearman=0.0040\n"
     ]
    }
   ],
   "source": [
    "model_path = os.path.join(model_dir, \"2022-06-04/Institution/Transformer/Sup-Triplet/00:40:36-Institution_Transformer_Sup-Triplet.pt\")\n",
    "model = torch.load(model_path)\n",
    "evaluate(model, test_dl)"
   ]
  },
  {
   "cell_type": "markdown",
   "id": "4ebe696d",
   "metadata": {
    "pycharm": {
     "name": "#%% md\n"
    }
   },
   "source": [
    "### Institution_Transformer_Unsup-SimCSE"
   ]
  },
  {
   "cell_type": "code",
   "execution_count": 52,
   "id": "848f986f",
   "metadata": {
    "pycharm": {
     "name": "#%%\n"
    }
   },
   "outputs": [
    {
     "name": "stdout",
     "output_type": "stream",
     "text": [
      "Threshold 0.50: accuracy=0.3910, precision=0.2141, recall=0.0816, f1=0.1182, auroc=0.2785, spearman=-0.3836\n",
      "Threshold 0.51: accuracy=0.3978, precision=0.2120, recall=0.0752, f1=0.1110, auroc=0.2785, spearman=-0.3836\n",
      "Threshold 0.52: accuracy=0.4030, precision=0.2120, recall=0.0714, f1=0.1068, auroc=0.2785, spearman=-0.3836\n",
      "Threshold 0.53: accuracy=0.4077, precision=0.2085, recall=0.0660, f1=0.1003, auroc=0.2785, spearman=-0.3836\n",
      "Threshold 0.54: accuracy=0.4101, precision=0.2001, recall=0.0600, f1=0.0923, auroc=0.2785, spearman=-0.3836\n",
      "Threshold 0.55: accuracy=0.4155, precision=0.1997, recall=0.0562, f1=0.0877, auroc=0.2785, spearman=-0.3836\n",
      "Threshold 0.56: accuracy=0.4198, precision=0.1962, recall=0.0518, f1=0.0820, auroc=0.2785, spearman=-0.3836\n",
      "Threshold 0.57: accuracy=0.4248, precision=0.1953, recall=0.0482, f1=0.0773, auroc=0.2785, spearman=-0.3836\n",
      "Threshold 0.58: accuracy=0.4283, precision=0.1928, recall=0.0450, f1=0.0730, auroc=0.2785, spearman=-0.3836\n",
      "Threshold 0.59: accuracy=0.4323, precision=0.1869, recall=0.0404, f1=0.0664, auroc=0.2785, spearman=-0.3836\n",
      "Threshold 0.60: accuracy=0.4354, precision=0.1827, recall=0.0372, f1=0.0618, auroc=0.2785, spearman=-0.3836\n",
      "Threshold 0.61: accuracy=0.4395, precision=0.1799, recall=0.0340, f1=0.0572, auroc=0.2785, spearman=-0.3836\n",
      "Threshold 0.62: accuracy=0.4430, precision=0.1805, recall=0.0322, f1=0.0547, auroc=0.2785, spearman=-0.3836\n",
      "Threshold 0.63: accuracy=0.4460, precision=0.1786, recall=0.0300, f1=0.0514, auroc=0.2785, spearman=-0.3836\n",
      "Threshold 0.64: accuracy=0.4485, precision=0.1686, recall=0.0262, f1=0.0454, auroc=0.2785, spearman=-0.3836\n",
      "Threshold 0.65: accuracy=0.4508, precision=0.1649, recall=0.0242, f1=0.0422, auroc=0.2785, spearman=-0.3836\n",
      "Threshold 0.66: accuracy=0.4547, precision=0.1693, recall=0.0232, f1=0.0408, auroc=0.2785, spearman=-0.3836\n",
      "Threshold 0.67: accuracy=0.4567, precision=0.1622, recall=0.0208, f1=0.0369, auroc=0.2785, spearman=-0.3836\n",
      "Threshold 0.68: accuracy=0.4608, precision=0.1689, recall=0.0200, f1=0.0358, auroc=0.2785, spearman=-0.3836\n",
      "Threshold 0.69: accuracy=0.4637, precision=0.1706, recall=0.0188, f1=0.0339, auroc=0.2785, spearman=-0.3836\n",
      "Threshold 0.70: accuracy=0.4660, precision=0.1718, recall=0.0178, f1=0.0323, auroc=0.2785, spearman=-0.3836\n",
      "Threshold 0.71: accuracy=0.4691, precision=0.1775, recall=0.0170, f1=0.0310, auroc=0.2785, spearman=-0.3836\n",
      "Threshold 0.72: accuracy=0.4711, precision=0.1782, recall=0.0160, f1=0.0294, auroc=0.2785, spearman=-0.3836\n",
      "Threshold 0.73: accuracy=0.4726, precision=0.1691, recall=0.0140, f1=0.0259, auroc=0.2785, spearman=-0.3836\n",
      "Threshold 0.74: accuracy=0.4761, precision=0.1813, recall=0.0136, f1=0.0253, auroc=0.2785, spearman=-0.3836\n",
      "Threshold 0.75: accuracy=0.4777, precision=0.1787, recall=0.0124, f1=0.0232, auroc=0.2785, spearman=-0.3836\n",
      "Threshold 0.76: accuracy=0.4799, precision=0.1830, recall=0.0116, f1=0.0218, auroc=0.2785, spearman=-0.3836\n",
      "Threshold 0.77: accuracy=0.4811, precision=0.1797, recall=0.0106, f1=0.0200, auroc=0.2785, spearman=-0.3836\n",
      "Threshold 0.78: accuracy=0.4831, precision=0.1686, recall=0.0086, f1=0.0164, auroc=0.2785, spearman=-0.3836\n",
      "Threshold 0.79: accuracy=0.4847, precision=0.1570, recall=0.0070, f1=0.0134, auroc=0.2785, spearman=-0.3836\n",
      "Threshold 0.80: accuracy=0.4863, precision=0.1558, recall=0.0062, f1=0.0119, auroc=0.2785, spearman=-0.3836\n",
      "Threshold 0.81: accuracy=0.4874, precision=0.1461, recall=0.0052, f1=0.0100, auroc=0.2785, spearman=-0.3836\n",
      "Threshold 0.82: accuracy=0.4885, precision=0.1338, recall=0.0042, f1=0.0081, auroc=0.2785, spearman=-0.3836\n",
      "Threshold 0.83: accuracy=0.4898, precision=0.1357, recall=0.0038, f1=0.0074, auroc=0.2785, spearman=-0.3836\n",
      "Threshold 0.84: accuracy=0.4907, precision=0.1339, recall=0.0034, f1=0.0066, auroc=0.2785, spearman=-0.3836\n",
      "Threshold 0.85: accuracy=0.4917, precision=0.1327, recall=0.0030, f1=0.0059, auroc=0.2785, spearman=-0.3836\n",
      "Threshold 0.86: accuracy=0.4925, precision=0.1212, recall=0.0024, f1=0.0047, auroc=0.2785, spearman=-0.3836\n",
      "Threshold 0.87: accuracy=0.4935, precision=0.1348, recall=0.0024, f1=0.0047, auroc=0.2785, spearman=-0.3836\n",
      "Threshold 0.88: accuracy=0.4940, precision=0.1250, recall=0.0020, f1=0.0039, auroc=0.2785, spearman=-0.3836\n",
      "Threshold 0.89: accuracy=0.4945, precision=0.1233, recall=0.0018, f1=0.0035, auroc=0.2785, spearman=-0.3836\n",
      "Threshold 0.90: accuracy=0.4954, precision=0.1167, recall=0.0014, f1=0.0028, auroc=0.2785, spearman=-0.3836\n",
      "Threshold 0.91: accuracy=0.4960, precision=0.1154, recall=0.0012, f1=0.0024, auroc=0.2785, spearman=-0.3836\n",
      "Threshold 0.92: accuracy=0.4969, precision=0.1395, recall=0.0012, f1=0.0024, auroc=0.2785, spearman=-0.3836\n",
      "Threshold 0.93: accuracy=0.4972, precision=0.1500, recall=0.0012, f1=0.0024, auroc=0.2785, spearman=-0.3836\n",
      "Threshold 0.94: accuracy=0.4976, precision=0.1667, recall=0.0012, f1=0.0024, auroc=0.2785, spearman=-0.3836\n",
      "Threshold 0.95: accuracy=0.4981, precision=0.1935, recall=0.0012, f1=0.0024, auroc=0.2785, spearman=-0.3836\n",
      "Threshold 0.96: accuracy=0.4982, precision=0.2000, recall=0.0012, f1=0.0024, auroc=0.2785, spearman=-0.3836\n",
      "Threshold 0.97: accuracy=0.4983, precision=0.1304, recall=0.0006, f1=0.0012, auroc=0.2785, spearman=-0.3836\n",
      "Threshold 0.98: accuracy=0.4987, precision=0.0000, recall=0.0000, f1=0.0000, auroc=0.2785, spearman=-0.3836\n",
      "Threshold 0.99: accuracy=0.4994, precision=0.0000, recall=0.0000, f1=0.0000, auroc=0.2785, spearman=-0.3836\n",
      "Threshold 1.00: accuracy=0.5000, precision=0.0000, recall=0.0000, f1=0.0000, auroc=0.2785, spearman=-0.3836\n"
     ]
    }
   ],
   "source": [
    "model_path = os.path.join(model_dir, \"2022-06-04/Institution/Transformer/Unsup-SimCSE/01:25:51-Institution_Transformer_Unsup-SimCSE.pt\")\n",
    "model = torch.load(model_path)\n",
    "evaluate(model, test_dl)"
   ]
  },
  {
   "cell_type": "markdown",
   "id": "5afbd1a7",
   "metadata": {
    "pycharm": {
     "name": "#%% md\n"
    }
   },
   "source": [
    "## Transformer+GE-type"
   ]
  },
  {
   "cell_type": "markdown",
   "id": "69d1447f",
   "metadata": {
    "pycharm": {
     "name": "#%% md\n"
    }
   },
   "source": [
    "## Transformer+GE-type+Entity-Pooler"
   ]
  },
  {
   "cell_type": "markdown",
   "id": "2042d321",
   "metadata": {
    "pycharm": {
     "name": "#%% md\n"
    }
   },
   "source": [
    "### Institution_Transformer+GE-type+Entity-Pooler_Sup-SimCSE"
   ]
  },
  {
   "cell_type": "code",
   "execution_count": 9,
   "id": "725958eb",
   "metadata": {
    "pycharm": {
     "name": "#%%\n"
    }
   },
   "outputs": [
    {
     "name": "stdout",
     "output_type": "stream",
     "text": [
      "Threshold 0.50: accuracy=0.8149, precision=0.7337, recall=0.9886, f1=0.8423, auroc=0.9714, spearman=0.8164\n",
      "Threshold 0.51: accuracy=0.8215, precision=0.7415, recall=0.9870, f1=0.8468, auroc=0.9714, spearman=0.8164\n",
      "Threshold 0.52: accuracy=0.8286, precision=0.7499, recall=0.9860, f1=0.8519, auroc=0.9714, spearman=0.8164\n",
      "Threshold 0.53: accuracy=0.8341, precision=0.7572, recall=0.9836, f1=0.8557, auroc=0.9714, spearman=0.8164\n",
      "Threshold 0.54: accuracy=0.8408, precision=0.7660, recall=0.9814, f1=0.8604, auroc=0.9714, spearman=0.8164\n",
      "Threshold 0.55: accuracy=0.8472, precision=0.7740, recall=0.9808, f1=0.8652, auroc=0.9714, spearman=0.8164\n",
      "Threshold 0.56: accuracy=0.8532, precision=0.7821, recall=0.9792, f1=0.8696, auroc=0.9714, spearman=0.8164\n",
      "Threshold 0.57: accuracy=0.8596, precision=0.7909, recall=0.9776, f1=0.8744, auroc=0.9714, spearman=0.8164\n",
      "Threshold 0.58: accuracy=0.8642, precision=0.7983, recall=0.9746, f1=0.8777, auroc=0.9714, spearman=0.8164\n",
      "Threshold 0.59: accuracy=0.8698, precision=0.8065, recall=0.9730, f1=0.8820, auroc=0.9714, spearman=0.8164\n",
      "Threshold 0.60: accuracy=0.8761, precision=0.8163, recall=0.9706, f1=0.8868, auroc=0.9714, spearman=0.8164\n",
      "Threshold 0.61: accuracy=0.8809, precision=0.8239, recall=0.9688, f1=0.8905, auroc=0.9714, spearman=0.8164\n",
      "Threshold 0.62: accuracy=0.8864, precision=0.8329, recall=0.9668, f1=0.8949, auroc=0.9714, spearman=0.8164\n",
      "Threshold 0.63: accuracy=0.8913, precision=0.8413, recall=0.9646, f1=0.8987, auroc=0.9714, spearman=0.8164\n",
      "Threshold 0.64: accuracy=0.8938, precision=0.8462, recall=0.9626, f1=0.9006, auroc=0.9714, spearman=0.8164\n",
      "Threshold 0.65: accuracy=0.8966, precision=0.8525, recall=0.9592, f1=0.9027, auroc=0.9714, spearman=0.8164\n",
      "Threshold 0.66: accuracy=0.9000, precision=0.8596, recall=0.9562, f1=0.9053, auroc=0.9714, spearman=0.8164\n",
      "Threshold 0.67: accuracy=0.9023, precision=0.8662, recall=0.9516, f1=0.9069, auroc=0.9714, spearman=0.8164\n",
      "Threshold 0.68: accuracy=0.9054, precision=0.8734, recall=0.9482, f1=0.9093, auroc=0.9714, spearman=0.8164\n",
      "Threshold 0.69: accuracy=0.9072, precision=0.8797, recall=0.9434, f1=0.9104, auroc=0.9714, spearman=0.8164\n",
      "Threshold 0.70: accuracy=0.9089, precision=0.8857, recall=0.9390, f1=0.9116, auroc=0.9714, spearman=0.8164\n",
      "Threshold 0.71: accuracy=0.9121, precision=0.8939, recall=0.9352, f1=0.9141, auroc=0.9714, spearman=0.8164\n",
      "Threshold 0.72: accuracy=0.9133, precision=0.9007, recall=0.9290, f1=0.9146, auroc=0.9714, spearman=0.8164\n",
      "Threshold 0.73: accuracy=0.9144, precision=0.9072, recall=0.9232, f1=0.9151, auroc=0.9714, spearman=0.8164\n",
      "Threshold 0.74: accuracy=0.9156, precision=0.9130, recall=0.9188, f1=0.9159, auroc=0.9714, spearman=0.8164\n",
      "Threshold 0.75: accuracy=0.9148, precision=0.9173, recall=0.9118, f1=0.9145, auroc=0.9714, spearman=0.8164\n",
      "Threshold 0.76: accuracy=0.9140, precision=0.9216, recall=0.9050, f1=0.9132, auroc=0.9714, spearman=0.8164\n",
      "Threshold 0.77: accuracy=0.9131, precision=0.9277, recall=0.8960, f1=0.9116, auroc=0.9714, spearman=0.8164\n",
      "Threshold 0.78: accuracy=0.9122, precision=0.9332, recall=0.8880, f1=0.9100, auroc=0.9714, spearman=0.8164\n",
      "Threshold 0.79: accuracy=0.9104, precision=0.9381, recall=0.8788, f1=0.9075, auroc=0.9714, spearman=0.8164\n",
      "Threshold 0.80: accuracy=0.9095, precision=0.9433, recall=0.8714, f1=0.9059, auroc=0.9714, spearman=0.8164\n",
      "Threshold 0.81: accuracy=0.9063, precision=0.9482, recall=0.8596, f1=0.9017, auroc=0.9714, spearman=0.8164\n",
      "Threshold 0.82: accuracy=0.9024, precision=0.9521, recall=0.8474, f1=0.8967, auroc=0.9714, spearman=0.8164\n",
      "Threshold 0.83: accuracy=0.8986, precision=0.9565, recall=0.8352, f1=0.8917, auroc=0.9714, spearman=0.8164\n",
      "Threshold 0.84: accuracy=0.8950, precision=0.9617, recall=0.8228, f1=0.8868, auroc=0.9714, spearman=0.8164\n",
      "Threshold 0.85: accuracy=0.8888, precision=0.9657, recall=0.8062, f1=0.8788, auroc=0.9714, spearman=0.8164\n",
      "Threshold 0.86: accuracy=0.8821, precision=0.9691, recall=0.7894, f1=0.8701, auroc=0.9714, spearman=0.8164\n",
      "Threshold 0.87: accuracy=0.8739, precision=0.9725, recall=0.7696, f1=0.8592, auroc=0.9714, spearman=0.8164\n",
      "Threshold 0.88: accuracy=0.8660, precision=0.9771, recall=0.7496, f1=0.8483, auroc=0.9714, spearman=0.8164\n",
      "Threshold 0.89: accuracy=0.8557, precision=0.9787, recall=0.7272, f1=0.8344, auroc=0.9714, spearman=0.8164\n",
      "Threshold 0.90: accuracy=0.8443, precision=0.9802, recall=0.7028, f1=0.8186, auroc=0.9714, spearman=0.8164\n",
      "Threshold 0.91: accuracy=0.8320, precision=0.9840, recall=0.6750, f1=0.8007, auroc=0.9714, spearman=0.8164\n",
      "Threshold 0.92: accuracy=0.8159, precision=0.9856, recall=0.6412, f1=0.7769, auroc=0.9714, spearman=0.8164\n",
      "Threshold 0.93: accuracy=0.7992, precision=0.9876, recall=0.6060, f1=0.7511, auroc=0.9714, spearman=0.8164\n",
      "Threshold 0.94: accuracy=0.7796, precision=0.9881, recall=0.5660, f1=0.7197, auroc=0.9714, spearman=0.8164\n",
      "Threshold 0.95: accuracy=0.7577, precision=0.9905, recall=0.5204, f1=0.6823, auroc=0.9714, spearman=0.8164\n",
      "Threshold 0.96: accuracy=0.7312, precision=0.9923, recall=0.4660, f1=0.6342, auroc=0.9714, spearman=0.8164\n",
      "Threshold 0.97: accuracy=0.6933, precision=0.9934, recall=0.3892, f1=0.5593, auroc=0.9714, spearman=0.8164\n",
      "Threshold 0.98: accuracy=0.6394, precision=0.9929, recall=0.2808, f1=0.4378, auroc=0.9714, spearman=0.8164\n",
      "Threshold 0.99: accuracy=0.5542, precision=0.9927, recall=0.1092, f1=0.1968, auroc=0.9714, spearman=0.8164\n",
      "Threshold 1.00: accuracy=0.5000, precision=0.0000, recall=0.0000, f1=0.0000, auroc=0.9714, spearman=0.8164\n"
     ]
    }
   ],
   "source": [
    "model_path = os.path.join(model_dir, \"2022-06-04/Institution/Transformer+GE-type+Entity-Pooler/Sup-SimCSE/12:20:51-Institution_Transformer+GE-type+Entity-Pooler_Sup-SimCSE.pt\")\n",
    "model = torch.load(model_path)\n",
    "evaluate(model, test_dl)"
   ]
  },
  {
   "cell_type": "markdown",
   "id": "b067213a",
   "metadata": {
    "pycharm": {
     "name": "#%% md\n"
    }
   },
   "source": [
    "### Institution_Transformer+GE-type+Entity-Pooler_Sup-Triplet"
   ]
  },
  {
   "cell_type": "code",
   "execution_count": 54,
   "id": "3596a079",
   "metadata": {
    "pycharm": {
     "name": "#%%\n"
    }
   },
   "outputs": [
    {
     "name": "stdout",
     "output_type": "stream",
     "text": [
      "Threshold 0.50: accuracy=0.8517, precision=0.8261, recall=0.8910, f1=0.8573, auroc=0.9149, spearman=0.7186\n",
      "Threshold 0.51: accuracy=0.8527, precision=0.8286, recall=0.8894, f1=0.8579, auroc=0.9149, spearman=0.7186\n",
      "Threshold 0.52: accuracy=0.8530, precision=0.8306, recall=0.8868, f1=0.8578, auroc=0.9149, spearman=0.7186\n",
      "Threshold 0.53: accuracy=0.8540, precision=0.8336, recall=0.8846, f1=0.8583, auroc=0.9149, spearman=0.7186\n",
      "Threshold 0.54: accuracy=0.8540, precision=0.8351, recall=0.8822, f1=0.8580, auroc=0.9149, spearman=0.7186\n",
      "Threshold 0.55: accuracy=0.8544, precision=0.8373, recall=0.8798, f1=0.8580, auroc=0.9149, spearman=0.7186\n",
      "Threshold 0.56: accuracy=0.8551, precision=0.8401, recall=0.8772, f1=0.8582, auroc=0.9149, spearman=0.7186\n",
      "Threshold 0.57: accuracy=0.8552, precision=0.8417, recall=0.8750, f1=0.8580, auroc=0.9149, spearman=0.7186\n",
      "Threshold 0.58: accuracy=0.8571, precision=0.8453, recall=0.8742, f1=0.8595, auroc=0.9149, spearman=0.7186\n",
      "Threshold 0.59: accuracy=0.8573, precision=0.8475, recall=0.8714, f1=0.8593, auroc=0.9149, spearman=0.7186\n",
      "Threshold 0.60: accuracy=0.8578, precision=0.8498, recall=0.8692, f1=0.8594, auroc=0.9149, spearman=0.7186\n",
      "Threshold 0.61: accuracy=0.8580, precision=0.8515, recall=0.8672, f1=0.8593, auroc=0.9149, spearman=0.7186\n",
      "Threshold 0.62: accuracy=0.8580, precision=0.8531, recall=0.8650, f1=0.8590, auroc=0.9149, spearman=0.7186\n",
      "Threshold 0.63: accuracy=0.8578, precision=0.8550, recall=0.8618, f1=0.8584, auroc=0.9149, spearman=0.7186\n",
      "Threshold 0.64: accuracy=0.8572, precision=0.8562, recall=0.8586, f1=0.8574, auroc=0.9149, spearman=0.7186\n",
      "Threshold 0.65: accuracy=0.8579, precision=0.8588, recall=0.8566, f1=0.8577, auroc=0.9149, spearman=0.7186\n",
      "Threshold 0.66: accuracy=0.8574, precision=0.8609, recall=0.8526, f1=0.8567, auroc=0.9149, spearman=0.7186\n",
      "Threshold 0.67: accuracy=0.8574, precision=0.8637, recall=0.8488, f1=0.8562, auroc=0.9149, spearman=0.7186\n",
      "Threshold 0.68: accuracy=0.8578, precision=0.8661, recall=0.8464, f1=0.8562, auroc=0.9149, spearman=0.7186\n",
      "Threshold 0.69: accuracy=0.8578, precision=0.8701, recall=0.8412, f1=0.8554, auroc=0.9149, spearman=0.7186\n",
      "Threshold 0.70: accuracy=0.8574, precision=0.8718, recall=0.8380, f1=0.8546, auroc=0.9149, spearman=0.7186\n",
      "Threshold 0.71: accuracy=0.8581, precision=0.8762, recall=0.8340, f1=0.8546, auroc=0.9149, spearman=0.7186\n",
      "Threshold 0.72: accuracy=0.8588, precision=0.8793, recall=0.8318, f1=0.8549, auroc=0.9149, spearman=0.7186\n",
      "Threshold 0.73: accuracy=0.8600, precision=0.8835, recall=0.8294, f1=0.8556, auroc=0.9149, spearman=0.7186\n",
      "Threshold 0.74: accuracy=0.8597, precision=0.8864, recall=0.8252, f1=0.8547, auroc=0.9149, spearman=0.7186\n",
      "Threshold 0.75: accuracy=0.8593, precision=0.8891, recall=0.8210, f1=0.8537, auroc=0.9149, spearman=0.7186\n",
      "Threshold 0.76: accuracy=0.8585, precision=0.8930, recall=0.8146, f1=0.8520, auroc=0.9149, spearman=0.7186\n",
      "Threshold 0.77: accuracy=0.8572, precision=0.8946, recall=0.8098, f1=0.8501, auroc=0.9149, spearman=0.7186\n",
      "Threshold 0.78: accuracy=0.8557, precision=0.8967, recall=0.8040, f1=0.8478, auroc=0.9149, spearman=0.7186\n",
      "Threshold 0.79: accuracy=0.8538, precision=0.8979, recall=0.7984, f1=0.8452, auroc=0.9149, spearman=0.7186\n",
      "Threshold 0.80: accuracy=0.8520, precision=0.8995, recall=0.7926, f1=0.8427, auroc=0.9149, spearman=0.7186\n",
      "Threshold 0.81: accuracy=0.8509, precision=0.9023, recall=0.7870, f1=0.8407, auroc=0.9149, spearman=0.7186\n",
      "Threshold 0.82: accuracy=0.8496, precision=0.9052, recall=0.7810, f1=0.8385, auroc=0.9149, spearman=0.7186\n",
      "Threshold 0.83: accuracy=0.8482, precision=0.9081, recall=0.7748, f1=0.8362, auroc=0.9149, spearman=0.7186\n",
      "Threshold 0.84: accuracy=0.8451, precision=0.9103, recall=0.7656, f1=0.8317, auroc=0.9149, spearman=0.7186\n",
      "Threshold 0.85: accuracy=0.8440, precision=0.9139, recall=0.7596, f1=0.8296, auroc=0.9149, spearman=0.7186\n",
      "Threshold 0.86: accuracy=0.8422, precision=0.9159, recall=0.7536, f1=0.8269, auroc=0.9149, spearman=0.7186\n",
      "Threshold 0.87: accuracy=0.8389, precision=0.9177, recall=0.7446, f1=0.8221, auroc=0.9149, spearman=0.7186\n",
      "Threshold 0.88: accuracy=0.8364, precision=0.9203, recall=0.7366, f1=0.8183, auroc=0.9149, spearman=0.7186\n",
      "Threshold 0.89: accuracy=0.8328, precision=0.9219, recall=0.7272, f1=0.8131, auroc=0.9149, spearman=0.7186\n",
      "Threshold 0.90: accuracy=0.8275, precision=0.9235, recall=0.7142, f1=0.8055, auroc=0.9149, spearman=0.7186\n",
      "Threshold 0.91: accuracy=0.8223, precision=0.9244, recall=0.7020, f1=0.7980, auroc=0.9149, spearman=0.7186\n",
      "Threshold 0.92: accuracy=0.8167, precision=0.9276, recall=0.6870, f1=0.7894, auroc=0.9149, spearman=0.7186\n",
      "Threshold 0.93: accuracy=0.8085, precision=0.9291, recall=0.6680, f1=0.7772, auroc=0.9149, spearman=0.7186\n",
      "Threshold 0.94: accuracy=0.8016, precision=0.9323, recall=0.6504, f1=0.7663, auroc=0.9149, spearman=0.7186\n",
      "Threshold 0.95: accuracy=0.7901, precision=0.9347, recall=0.6238, f1=0.7482, auroc=0.9149, spearman=0.7186\n",
      "Threshold 0.96: accuracy=0.7758, precision=0.9361, recall=0.5920, f1=0.7253, auroc=0.9149, spearman=0.7186\n",
      "Threshold 0.97: accuracy=0.7556, precision=0.9386, recall=0.5470, f1=0.6912, auroc=0.9149, spearman=0.7186\n",
      "Threshold 0.98: accuracy=0.7204, precision=0.9380, recall=0.4720, f1=0.6280, auroc=0.9149, spearman=0.7186\n",
      "Threshold 0.99: accuracy=0.6544, precision=0.9275, recall=0.3350, f1=0.4922, auroc=0.9149, spearman=0.7186\n",
      "Threshold 1.00: accuracy=0.5000, precision=0.0000, recall=0.0000, f1=0.0000, auroc=0.9149, spearman=0.7186\n"
     ]
    }
   ],
   "source": [
    "model_path = os.path.join(model_dir, \"2022-06-04/Institution/Transformer+GE-type+Entity-Pooler/Sup-Triplet/00:41:27-Institution_Transformer+GE-type+Entity-Pooler_Sup-Triplet.pt\")\n",
    "model = torch.load(model_path)\n",
    "evaluate(model, test_dl)"
   ]
  },
  {
   "cell_type": "markdown",
   "id": "a3b655f9",
   "metadata": {
    "pycharm": {
     "name": "#%% md\n"
    }
   },
   "source": [
    "### Institution_Transformer+GE-type+Entity-Pooler_Unsup-SimCSE"
   ]
  },
  {
   "cell_type": "code",
   "execution_count": 55,
   "id": "855092ea",
   "metadata": {
    "pycharm": {
     "name": "#%%\n"
    }
   },
   "outputs": [
    {
     "name": "stdout",
     "output_type": "stream",
     "text": [
      "Threshold 0.50: accuracy=0.3337, precision=0.2980, recall=0.2454, f1=0.2692, auroc=0.2426, spearman=-0.4457\n",
      "Threshold 0.51: accuracy=0.3333, precision=0.2933, recall=0.2366, f1=0.2619, auroc=0.2426, spearman=-0.4457\n",
      "Threshold 0.52: accuracy=0.3321, precision=0.2881, recall=0.2282, f1=0.2547, auroc=0.2426, spearman=-0.4457\n",
      "Threshold 0.53: accuracy=0.3327, precision=0.2835, recall=0.2190, f1=0.2471, auroc=0.2426, spearman=-0.4457\n",
      "Threshold 0.54: accuracy=0.3306, precision=0.2749, recall=0.2068, f1=0.2360, auroc=0.2426, spearman=-0.4457\n",
      "Threshold 0.55: accuracy=0.3319, precision=0.2713, recall=0.1994, f1=0.2299, auroc=0.2426, spearman=-0.4457\n",
      "Threshold 0.56: accuracy=0.3311, precision=0.2659, recall=0.1918, f1=0.2228, auroc=0.2426, spearman=-0.4457\n",
      "Threshold 0.57: accuracy=0.3324, precision=0.2625, recall=0.1852, f1=0.2172, auroc=0.2426, spearman=-0.4457\n",
      "Threshold 0.58: accuracy=0.3321, precision=0.2574, recall=0.1782, f1=0.2106, auroc=0.2426, spearman=-0.4457\n",
      "Threshold 0.59: accuracy=0.3317, precision=0.2526, recall=0.1718, f1=0.2045, auroc=0.2426, spearman=-0.4457\n",
      "Threshold 0.60: accuracy=0.3307, precision=0.2457, recall=0.1636, f1=0.1964, auroc=0.2426, spearman=-0.4457\n",
      "Threshold 0.61: accuracy=0.3293, precision=0.2379, recall=0.1550, f1=0.1877, auroc=0.2426, spearman=-0.4457\n",
      "Threshold 0.62: accuracy=0.3292, precision=0.2326, recall=0.1486, f1=0.1814, auroc=0.2426, spearman=-0.4457\n",
      "Threshold 0.63: accuracy=0.3301, precision=0.2271, recall=0.1414, f1=0.1743, auroc=0.2426, spearman=-0.4457\n",
      "Threshold 0.64: accuracy=0.3305, precision=0.2213, recall=0.1346, f1=0.1674, auroc=0.2426, spearman=-0.4457\n",
      "Threshold 0.65: accuracy=0.3313, precision=0.2167, recall=0.1290, f1=0.1617, auroc=0.2426, spearman=-0.4457\n",
      "Threshold 0.66: accuracy=0.3325, precision=0.2113, recall=0.1226, f1=0.1552, auroc=0.2426, spearman=-0.4457\n",
      "Threshold 0.67: accuracy=0.3320, precision=0.2042, recall=0.1160, f1=0.1480, auroc=0.2426, spearman=-0.4457\n",
      "Threshold 0.68: accuracy=0.3333, precision=0.1994, recall=0.1106, f1=0.1423, auroc=0.2426, spearman=-0.4457\n",
      "Threshold 0.69: accuracy=0.3334, precision=0.1922, recall=0.1040, f1=0.1350, auroc=0.2426, spearman=-0.4457\n",
      "Threshold 0.70: accuracy=0.3342, precision=0.1838, recall=0.0964, f1=0.1265, auroc=0.2426, spearman=-0.4457\n",
      "Threshold 0.71: accuracy=0.3357, precision=0.1780, recall=0.0908, f1=0.1202, auroc=0.2426, spearman=-0.4457\n",
      "Threshold 0.72: accuracy=0.3366, precision=0.1711, recall=0.0850, f1=0.1136, auroc=0.2426, spearman=-0.4457\n",
      "Threshold 0.73: accuracy=0.3388, precision=0.1650, recall=0.0794, f1=0.1072, auroc=0.2426, spearman=-0.4457\n",
      "Threshold 0.74: accuracy=0.3412, precision=0.1607, recall=0.0752, f1=0.1025, auroc=0.2426, spearman=-0.4457\n",
      "Threshold 0.75: accuracy=0.3444, precision=0.1561, recall=0.0706, f1=0.0972, auroc=0.2426, spearman=-0.4457\n",
      "Threshold 0.76: accuracy=0.3465, precision=0.1468, recall=0.0638, f1=0.0889, auroc=0.2426, spearman=-0.4457\n",
      "Threshold 0.77: accuracy=0.3499, precision=0.1407, recall=0.0588, f1=0.0829, auroc=0.2426, spearman=-0.4457\n",
      "Threshold 0.78: accuracy=0.3539, precision=0.1346, recall=0.0538, f1=0.0769, auroc=0.2426, spearman=-0.4457\n",
      "Threshold 0.79: accuracy=0.3572, precision=0.1273, recall=0.0488, f1=0.0706, auroc=0.2426, spearman=-0.4457\n",
      "Threshold 0.80: accuracy=0.3600, precision=0.1196, recall=0.0440, f1=0.0643, auroc=0.2426, spearman=-0.4457\n",
      "Threshold 0.81: accuracy=0.3617, precision=0.1095, recall=0.0388, f1=0.0573, auroc=0.2426, spearman=-0.4457\n",
      "Threshold 0.82: accuracy=0.3654, precision=0.1013, recall=0.0342, f1=0.0511, auroc=0.2426, spearman=-0.4457\n",
      "Threshold 0.83: accuracy=0.3682, precision=0.0957, recall=0.0312, f1=0.0471, auroc=0.2426, spearman=-0.4457\n",
      "Threshold 0.84: accuracy=0.3704, precision=0.0857, recall=0.0268, f1=0.0408, auroc=0.2426, spearman=-0.4457\n",
      "Threshold 0.85: accuracy=0.3749, precision=0.0833, recall=0.0250, f1=0.0385, auroc=0.2426, spearman=-0.4457\n",
      "Threshold 0.86: accuracy=0.3773, precision=0.0737, recall=0.0212, f1=0.0329, auroc=0.2426, spearman=-0.4457\n",
      "Threshold 0.87: accuracy=0.3800, precision=0.0665, recall=0.0184, f1=0.0288, auroc=0.2426, spearman=-0.4457\n",
      "Threshold 0.88: accuracy=0.3824, precision=0.0559, recall=0.0148, f1=0.0234, auroc=0.2426, spearman=-0.4457\n",
      "Threshold 0.89: accuracy=0.3866, precision=0.0486, recall=0.0122, f1=0.0195, auroc=0.2426, spearman=-0.4457\n",
      "Threshold 0.90: accuracy=0.3900, precision=0.0386, recall=0.0092, f1=0.0149, auroc=0.2426, spearman=-0.4457\n",
      "Threshold 0.91: accuracy=0.3929, precision=0.0323, recall=0.0074, f1=0.0120, auroc=0.2426, spearman=-0.4457\n",
      "Threshold 0.92: accuracy=0.3965, precision=0.0265, recall=0.0058, f1=0.0095, auroc=0.2426, spearman=-0.4457\n",
      "Threshold 0.93: accuracy=0.3991, precision=0.0227, recall=0.0048, f1=0.0079, auroc=0.2426, spearman=-0.4457\n",
      "Threshold 0.94: accuracy=0.4026, precision=0.0197, recall=0.0040, f1=0.0067, auroc=0.2426, spearman=-0.4457\n",
      "Threshold 0.95: accuracy=0.4052, precision=0.0123, recall=0.0024, f1=0.0040, auroc=0.2426, spearman=-0.4457\n",
      "Threshold 0.96: accuracy=0.4082, precision=0.0117, recall=0.0022, f1=0.0037, auroc=0.2426, spearman=-0.4457\n",
      "Threshold 0.97: accuracy=0.4109, precision=0.0099, recall=0.0018, f1=0.0030, auroc=0.2426, spearman=-0.4457\n",
      "Threshold 0.98: accuracy=0.4132, precision=0.0090, recall=0.0016, f1=0.0027, auroc=0.2426, spearman=-0.4457\n",
      "Threshold 0.99: accuracy=0.4153, precision=0.0070, recall=0.0012, f1=0.0020, auroc=0.2426, spearman=-0.4457\n",
      "Threshold 1.00: accuracy=0.5000, precision=0.0000, recall=0.0000, f1=0.0000, auroc=0.2426, spearman=-0.4457\n"
     ]
    }
   ],
   "source": [
    "model_path = os.path.join(model_dir, \"2022-06-04/Institution/Transformer+GE-type+Entity-Pooler/Unsup-SimCSE/01:25:45-Institution_Transformer+GE-type+Entity-Pooler_Unsup-SimCSE.pt\")\n",
    "model = torch.load(model_path)\n",
    "evaluate(model, test_dl)"
   ]
  },
  {
   "cell_type": "markdown",
   "id": "0523b0b3",
   "metadata": {
    "pycharm": {
     "name": "#%% md\n"
    }
   },
   "source": [
    "# Federated"
   ]
  },
  {
   "cell_type": "markdown",
   "id": "aec0e44c",
   "metadata": {
    "pycharm": {
     "name": "#%% md\n"
    }
   },
   "source": [
    "## Transformer"
   ]
  },
  {
   "cell_type": "markdown",
   "id": "f85f8960",
   "metadata": {
    "pycharm": {
     "name": "#%% md\n"
    }
   },
   "source": [
    "### Federated_Transformer_Sup-SimCSE"
   ]
  },
  {
   "cell_type": "code",
   "execution_count": 56,
   "id": "88aa94b8",
   "metadata": {
    "pycharm": {
     "name": "#%%\n"
    }
   },
   "outputs": [
    {
     "name": "stdout",
     "output_type": "stream",
     "text": [
      "Threshold 0.50: accuracy=0.7151, precision=0.6393, recall=0.9870, f1=0.7760, auroc=0.9548, spearman=0.7878\n",
      "Threshold 0.51: accuracy=0.7239, precision=0.6471, recall=0.9852, f1=0.7811, auroc=0.9548, spearman=0.7878\n",
      "Threshold 0.52: accuracy=0.7348, precision=0.6567, recall=0.9842, f1=0.7877, auroc=0.9548, spearman=0.7878\n",
      "Threshold 0.53: accuracy=0.7458, precision=0.6667, recall=0.9830, f1=0.7945, auroc=0.9548, spearman=0.7878\n",
      "Threshold 0.54: accuracy=0.7546, precision=0.6753, recall=0.9806, f1=0.7998, auroc=0.9548, spearman=0.7878\n",
      "Threshold 0.55: accuracy=0.7661, precision=0.6867, recall=0.9788, f1=0.8071, auroc=0.9548, spearman=0.7878\n",
      "Threshold 0.56: accuracy=0.7767, precision=0.6974, recall=0.9776, f1=0.8141, auroc=0.9548, spearman=0.7878\n",
      "Threshold 0.57: accuracy=0.7869, precision=0.7083, recall=0.9756, f1=0.8207, auroc=0.9548, spearman=0.7878\n",
      "Threshold 0.58: accuracy=0.7975, precision=0.7199, recall=0.9740, f1=0.8279, auroc=0.9548, spearman=0.7878\n",
      "Threshold 0.59: accuracy=0.8064, precision=0.7299, recall=0.9728, f1=0.8340, auroc=0.9548, spearman=0.7878\n",
      "Threshold 0.60: accuracy=0.8152, precision=0.7401, recall=0.9716, f1=0.8402, auroc=0.9548, spearman=0.7878\n",
      "Threshold 0.61: accuracy=0.8246, precision=0.7523, recall=0.9680, f1=0.8466, auroc=0.9548, spearman=0.7878\n",
      "Threshold 0.62: accuracy=0.8334, precision=0.7638, recall=0.9654, f1=0.8528, auroc=0.9548, spearman=0.7878\n",
      "Threshold 0.63: accuracy=0.8416, precision=0.7761, recall=0.9602, f1=0.8584, auroc=0.9548, spearman=0.7878\n",
      "Threshold 0.64: accuracy=0.8492, precision=0.7875, recall=0.9564, f1=0.8638, auroc=0.9548, spearman=0.7878\n",
      "Threshold 0.65: accuracy=0.8582, precision=0.8012, recall=0.9528, f1=0.8705, auroc=0.9548, spearman=0.7878\n",
      "Threshold 0.66: accuracy=0.8644, precision=0.8120, recall=0.9484, f1=0.8749, auroc=0.9548, spearman=0.7878\n",
      "Threshold 0.67: accuracy=0.8712, precision=0.8237, recall=0.9446, f1=0.8800, auroc=0.9548, spearman=0.7878\n",
      "Threshold 0.68: accuracy=0.8771, precision=0.8357, recall=0.9388, f1=0.8842, auroc=0.9548, spearman=0.7878\n",
      "Threshold 0.69: accuracy=0.8818, precision=0.8463, recall=0.9330, f1=0.8876, auroc=0.9548, spearman=0.7878\n",
      "Threshold 0.70: accuracy=0.8855, precision=0.8561, recall=0.9268, f1=0.8900, auroc=0.9548, spearman=0.7878\n",
      "Threshold 0.71: accuracy=0.8903, precision=0.8680, recall=0.9206, f1=0.8935, auroc=0.9548, spearman=0.7878\n",
      "Threshold 0.72: accuracy=0.8936, precision=0.8779, recall=0.9144, f1=0.8958, auroc=0.9548, spearman=0.7878\n",
      "Threshold 0.73: accuracy=0.8951, precision=0.8849, recall=0.9084, f1=0.8965, auroc=0.9548, spearman=0.7878\n",
      "Threshold 0.74: accuracy=0.8960, precision=0.8944, recall=0.8980, f1=0.8962, auroc=0.9548, spearman=0.7878\n",
      "Threshold 0.75: accuracy=0.8948, precision=0.9011, recall=0.8870, f1=0.8940, auroc=0.9548, spearman=0.7878\n",
      "Threshold 0.76: accuracy=0.8938, precision=0.9068, recall=0.8778, f1=0.8921, auroc=0.9548, spearman=0.7878\n",
      "Threshold 0.77: accuracy=0.8922, precision=0.9144, recall=0.8654, f1=0.8892, auroc=0.9548, spearman=0.7878\n",
      "Threshold 0.78: accuracy=0.8897, precision=0.9198, recall=0.8538, f1=0.8856, auroc=0.9548, spearman=0.7878\n",
      "Threshold 0.79: accuracy=0.8879, precision=0.9294, recall=0.8396, f1=0.8822, auroc=0.9548, spearman=0.7878\n",
      "Threshold 0.80: accuracy=0.8844, precision=0.9378, recall=0.8234, f1=0.8769, auroc=0.9548, spearman=0.7878\n",
      "Threshold 0.81: accuracy=0.8796, precision=0.9435, recall=0.8076, f1=0.8703, auroc=0.9548, spearman=0.7878\n",
      "Threshold 0.82: accuracy=0.8754, precision=0.9493, recall=0.7932, f1=0.8642, auroc=0.9548, spearman=0.7878\n",
      "Threshold 0.83: accuracy=0.8692, precision=0.9545, recall=0.7754, f1=0.8557, auroc=0.9548, spearman=0.7878\n",
      "Threshold 0.84: accuracy=0.8620, precision=0.9603, recall=0.7552, f1=0.8455, auroc=0.9548, spearman=0.7878\n",
      "Threshold 0.85: accuracy=0.8526, precision=0.9639, recall=0.7326, f1=0.8325, auroc=0.9548, spearman=0.7878\n",
      "Threshold 0.86: accuracy=0.8424, precision=0.9662, recall=0.7096, f1=0.8183, auroc=0.9548, spearman=0.7878\n",
      "Threshold 0.87: accuracy=0.8323, precision=0.9703, recall=0.6856, f1=0.8035, auroc=0.9548, spearman=0.7878\n",
      "Threshold 0.88: accuracy=0.8195, precision=0.9750, recall=0.6558, f1=0.7842, auroc=0.9548, spearman=0.7878\n",
      "Threshold 0.89: accuracy=0.8055, precision=0.9781, recall=0.6250, f1=0.7627, auroc=0.9548, spearman=0.7878\n",
      "Threshold 0.90: accuracy=0.7896, precision=0.9807, recall=0.5908, f1=0.7374, auroc=0.9548, spearman=0.7878\n",
      "Threshold 0.91: accuracy=0.7727, precision=0.9806, recall=0.5564, f1=0.7100, auroc=0.9548, spearman=0.7878\n",
      "Threshold 0.92: accuracy=0.7536, precision=0.9825, recall=0.5164, f1=0.6770, auroc=0.9548, spearman=0.7878\n",
      "Threshold 0.93: accuracy=0.7296, precision=0.9836, recall=0.4670, f1=0.6333, auroc=0.9548, spearman=0.7878\n",
      "Threshold 0.94: accuracy=0.7031, precision=0.9871, recall=0.4116, f1=0.5809, auroc=0.9548, spearman=0.7878\n",
      "Threshold 0.95: accuracy=0.6711, precision=0.9858, recall=0.3472, f1=0.5135, auroc=0.9548, spearman=0.7878\n",
      "Threshold 0.96: accuracy=0.6353, precision=0.9849, recall=0.2748, f1=0.4297, auroc=0.9548, spearman=0.7878\n",
      "Threshold 0.97: accuracy=0.5915, precision=0.9841, recall=0.1860, f1=0.3129, auroc=0.9548, spearman=0.7878\n",
      "Threshold 0.98: accuracy=0.5420, precision=0.9839, recall=0.0854, f1=0.1572, auroc=0.9548, spearman=0.7878\n",
      "Threshold 0.99: accuracy=0.5099, precision=0.9714, recall=0.0204, f1=0.0400, auroc=0.9548, spearman=0.7878\n",
      "Threshold 1.00: accuracy=0.5000, precision=0.0000, recall=0.0000, f1=0.0000, auroc=0.9548, spearman=0.7878\n"
     ]
    }
   ],
   "source": [
    "model_path = os.path.join(model_dir, \"2022-06-03/Federated/Transformer/Sup-SimCSE/23:52:29-Federated_Transformer_Sup-SimCSE-global.pt\")\n",
    "model = torch.load(model_path)\n",
    "evaluate(model, test_dl)"
   ]
  },
  {
   "cell_type": "markdown",
   "id": "39d9b50d",
   "metadata": {
    "pycharm": {
     "name": "#%% md\n"
    }
   },
   "source": [
    "### Federated_Transformer_Sup-Triplet"
   ]
  },
  {
   "cell_type": "code",
   "execution_count": 57,
   "id": "939f9789",
   "metadata": {
    "pycharm": {
     "name": "#%%\n"
    }
   },
   "outputs": [
    {
     "name": "stdout",
     "output_type": "stream",
     "text": [
      "Threshold 0.50: accuracy=0.5000, precision=0.5000, recall=1.0000, f1=0.6667, auroc=0.4885, spearman=-0.0230\n",
      "Threshold 0.51: accuracy=0.5000, precision=0.5000, recall=1.0000, f1=0.6667, auroc=0.4885, spearman=-0.0230\n",
      "Threshold 0.52: accuracy=0.5000, precision=0.5000, recall=1.0000, f1=0.6667, auroc=0.4885, spearman=-0.0230\n",
      "Threshold 0.53: accuracy=0.5000, precision=0.5000, recall=1.0000, f1=0.6667, auroc=0.4885, spearman=-0.0230\n",
      "Threshold 0.54: accuracy=0.5000, precision=0.5000, recall=1.0000, f1=0.6667, auroc=0.4885, spearman=-0.0230\n",
      "Threshold 0.55: accuracy=0.5000, precision=0.5000, recall=1.0000, f1=0.6667, auroc=0.4885, spearman=-0.0230\n",
      "Threshold 0.56: accuracy=0.5000, precision=0.5000, recall=1.0000, f1=0.6667, auroc=0.4885, spearman=-0.0230\n",
      "Threshold 0.57: accuracy=0.5000, precision=0.5000, recall=1.0000, f1=0.6667, auroc=0.4885, spearman=-0.0230\n",
      "Threshold 0.58: accuracy=0.5000, precision=0.5000, recall=1.0000, f1=0.6667, auroc=0.4885, spearman=-0.0230\n",
      "Threshold 0.59: accuracy=0.5000, precision=0.5000, recall=1.0000, f1=0.6667, auroc=0.4885, spearman=-0.0230\n",
      "Threshold 0.60: accuracy=0.5000, precision=0.5000, recall=1.0000, f1=0.6667, auroc=0.4885, spearman=-0.0230\n",
      "Threshold 0.61: accuracy=0.5000, precision=0.5000, recall=1.0000, f1=0.6667, auroc=0.4885, spearman=-0.0230\n",
      "Threshold 0.62: accuracy=0.5000, precision=0.5000, recall=1.0000, f1=0.6667, auroc=0.4885, spearman=-0.0230\n",
      "Threshold 0.63: accuracy=0.5000, precision=0.5000, recall=1.0000, f1=0.6667, auroc=0.4885, spearman=-0.0230\n",
      "Threshold 0.64: accuracy=0.5000, precision=0.5000, recall=1.0000, f1=0.6667, auroc=0.4885, spearman=-0.0230\n",
      "Threshold 0.65: accuracy=0.5000, precision=0.5000, recall=1.0000, f1=0.6667, auroc=0.4885, spearman=-0.0230\n",
      "Threshold 0.66: accuracy=0.5000, precision=0.5000, recall=1.0000, f1=0.6667, auroc=0.4885, spearman=-0.0230\n",
      "Threshold 0.67: accuracy=0.5000, precision=0.5000, recall=1.0000, f1=0.6667, auroc=0.4885, spearman=-0.0230\n",
      "Threshold 0.68: accuracy=0.5000, precision=0.5000, recall=1.0000, f1=0.6667, auroc=0.4885, spearman=-0.0230\n",
      "Threshold 0.69: accuracy=0.5000, precision=0.5000, recall=1.0000, f1=0.6667, auroc=0.4885, spearman=-0.0230\n",
      "Threshold 0.70: accuracy=0.5000, precision=0.5000, recall=1.0000, f1=0.6667, auroc=0.4885, spearman=-0.0230\n",
      "Threshold 0.71: accuracy=0.5000, precision=0.5000, recall=1.0000, f1=0.6667, auroc=0.4885, spearman=-0.0230\n",
      "Threshold 0.72: accuracy=0.5000, precision=0.5000, recall=1.0000, f1=0.6667, auroc=0.4885, spearman=-0.0230\n",
      "Threshold 0.73: accuracy=0.5000, precision=0.5000, recall=1.0000, f1=0.6667, auroc=0.4885, spearman=-0.0230\n",
      "Threshold 0.74: accuracy=0.5000, precision=0.5000, recall=1.0000, f1=0.6667, auroc=0.4885, spearman=-0.0230\n",
      "Threshold 0.75: accuracy=0.5000, precision=0.5000, recall=1.0000, f1=0.6667, auroc=0.4885, spearman=-0.0230\n",
      "Threshold 0.76: accuracy=0.5000, precision=0.5000, recall=1.0000, f1=0.6667, auroc=0.4885, spearman=-0.0230\n",
      "Threshold 0.77: accuracy=0.5000, precision=0.5000, recall=1.0000, f1=0.6667, auroc=0.4885, spearman=-0.0230\n",
      "Threshold 0.78: accuracy=0.5000, precision=0.5000, recall=1.0000, f1=0.6667, auroc=0.4885, spearman=-0.0230\n",
      "Threshold 0.79: accuracy=0.5000, precision=0.5000, recall=1.0000, f1=0.6667, auroc=0.4885, spearman=-0.0230\n",
      "Threshold 0.80: accuracy=0.5000, precision=0.5000, recall=1.0000, f1=0.6667, auroc=0.4885, spearman=-0.0230\n",
      "Threshold 0.81: accuracy=0.5000, precision=0.5000, recall=1.0000, f1=0.6667, auroc=0.4885, spearman=-0.0230\n",
      "Threshold 0.82: accuracy=0.5000, precision=0.5000, recall=1.0000, f1=0.6667, auroc=0.4885, spearman=-0.0230\n",
      "Threshold 0.83: accuracy=0.5000, precision=0.5000, recall=1.0000, f1=0.6667, auroc=0.4885, spearman=-0.0230\n",
      "Threshold 0.84: accuracy=0.5000, precision=0.5000, recall=1.0000, f1=0.6667, auroc=0.4885, spearman=-0.0230\n",
      "Threshold 0.85: accuracy=0.5000, precision=0.5000, recall=1.0000, f1=0.6667, auroc=0.4885, spearman=-0.0230\n",
      "Threshold 0.86: accuracy=0.5000, precision=0.5000, recall=1.0000, f1=0.6667, auroc=0.4885, spearman=-0.0230\n",
      "Threshold 0.87: accuracy=0.5000, precision=0.5000, recall=1.0000, f1=0.6667, auroc=0.4885, spearman=-0.0230\n",
      "Threshold 0.88: accuracy=0.5000, precision=0.5000, recall=1.0000, f1=0.6667, auroc=0.4885, spearman=-0.0230\n",
      "Threshold 0.89: accuracy=0.5000, precision=0.5000, recall=1.0000, f1=0.6667, auroc=0.4885, spearman=-0.0230\n",
      "Threshold 0.90: accuracy=0.5000, precision=0.5000, recall=1.0000, f1=0.6667, auroc=0.4885, spearman=-0.0230\n",
      "Threshold 0.91: accuracy=0.5000, precision=0.5000, recall=1.0000, f1=0.6667, auroc=0.4885, spearman=-0.0230\n",
      "Threshold 0.92: accuracy=0.5000, precision=0.5000, recall=1.0000, f1=0.6667, auroc=0.4885, spearman=-0.0230\n",
      "Threshold 0.93: accuracy=0.5000, precision=0.5000, recall=1.0000, f1=0.6667, auroc=0.4885, spearman=-0.0230\n",
      "Threshold 0.94: accuracy=0.5000, precision=0.5000, recall=1.0000, f1=0.6667, auroc=0.4885, spearman=-0.0230\n",
      "Threshold 0.95: accuracy=0.5000, precision=0.5000, recall=1.0000, f1=0.6667, auroc=0.4885, spearman=-0.0230\n",
      "Threshold 0.96: accuracy=0.5000, precision=0.5000, recall=1.0000, f1=0.6667, auroc=0.4885, spearman=-0.0230\n",
      "Threshold 0.97: accuracy=0.5000, precision=0.5000, recall=1.0000, f1=0.6667, auroc=0.4885, spearman=-0.0230\n",
      "Threshold 0.98: accuracy=0.5000, precision=0.5000, recall=1.0000, f1=0.6667, auroc=0.4885, spearman=-0.0230\n",
      "Threshold 0.99: accuracy=0.5000, precision=0.5000, recall=1.0000, f1=0.6667, auroc=0.4885, spearman=-0.0230\n",
      "Threshold 1.00: accuracy=0.4992, precision=0.4545, recall=0.0080, f1=0.0157, auroc=0.4885, spearman=-0.0230\n"
     ]
    }
   ],
   "source": [
    "model_path = os.path.join(model_dir, \"2022-05-30/Federated/Transformer/Sup-Triplet/22:24:51-Federated_Transformer_Sup-Triplet-global.pt\")\n",
    "model = torch.load(model_path)\n",
    "evaluate(model, test_dl)"
   ]
  },
  {
   "cell_type": "markdown",
   "id": "5ab9f73d",
   "metadata": {
    "pycharm": {
     "name": "#%% md\n"
    }
   },
   "source": [
    "### Federated_Transformer_Unsup-SimCSE"
   ]
  },
  {
   "cell_type": "code",
   "execution_count": 5,
   "id": "c3ff07dc",
   "metadata": {
    "pycharm": {
     "name": "#%%\n"
    }
   },
   "outputs": [
    {
     "name": "stdout",
     "output_type": "stream",
     "text": [
      "Threshold 0.50: accuracy=0.4103, precision=0.2059, recall=0.0628, f1=0.0962, auroc=0.2820, spearman=-0.3776\n",
      "Threshold 0.51: accuracy=0.4160, precision=0.2079, recall=0.0598, f1=0.0929, auroc=0.2820, spearman=-0.3776\n",
      "Threshold 0.52: accuracy=0.4220, precision=0.2124, recall=0.0576, f1=0.0906, auroc=0.2820, spearman=-0.3776\n",
      "Threshold 0.53: accuracy=0.4277, precision=0.2160, recall=0.0550, f1=0.0877, auroc=0.2820, spearman=-0.3776\n",
      "Threshold 0.54: accuracy=0.4318, precision=0.2130, recall=0.0506, f1=0.0818, auroc=0.2820, spearman=-0.3776\n",
      "Threshold 0.55: accuracy=0.4339, precision=0.2067, recall=0.0466, f1=0.0761, auroc=0.2820, spearman=-0.3776\n",
      "Threshold 0.56: accuracy=0.4378, precision=0.2066, recall=0.0438, f1=0.0723, auroc=0.2820, spearman=-0.3776\n",
      "Threshold 0.57: accuracy=0.4423, precision=0.2047, recall=0.0400, f1=0.0669, auroc=0.2820, spearman=-0.3776\n",
      "Threshold 0.58: accuracy=0.4447, precision=0.2049, recall=0.0384, f1=0.0647, auroc=0.2820, spearman=-0.3776\n",
      "Threshold 0.59: accuracy=0.4479, precision=0.2009, recall=0.0350, f1=0.0596, auroc=0.2820, spearman=-0.3776\n",
      "Threshold 0.60: accuracy=0.4513, precision=0.2041, recall=0.0336, f1=0.0577, auroc=0.2820, spearman=-0.3776\n",
      "Threshold 0.61: accuracy=0.4556, precision=0.2071, recall=0.0314, f1=0.0545, auroc=0.2820, spearman=-0.3776\n",
      "Threshold 0.62: accuracy=0.4589, precision=0.2110, recall=0.0300, f1=0.0525, auroc=0.2820, spearman=-0.3776\n",
      "Threshold 0.63: accuracy=0.4618, precision=0.2123, recall=0.0282, f1=0.0498, auroc=0.2820, spearman=-0.3776\n",
      "Threshold 0.64: accuracy=0.4641, precision=0.2110, recall=0.0262, f1=0.0466, auroc=0.2820, spearman=-0.3776\n",
      "Threshold 0.65: accuracy=0.4663, precision=0.2090, recall=0.0242, f1=0.0434, auroc=0.2820, spearman=-0.3776\n",
      "Threshold 0.66: accuracy=0.4686, precision=0.2060, recall=0.0220, f1=0.0398, auroc=0.2820, spearman=-0.3776\n",
      "Threshold 0.67: accuracy=0.4710, precision=0.2088, recall=0.0208, f1=0.0378, auroc=0.2820, spearman=-0.3776\n",
      "Threshold 0.68: accuracy=0.4733, precision=0.2079, recall=0.0190, f1=0.0348, auroc=0.2820, spearman=-0.3776\n",
      "Threshold 0.69: accuracy=0.4746, precision=0.2019, recall=0.0172, f1=0.0317, auroc=0.2820, spearman=-0.3776\n",
      "Threshold 0.70: accuracy=0.4768, precision=0.2010, recall=0.0156, f1=0.0290, auroc=0.2820, spearman=-0.3776\n",
      "Threshold 0.71: accuracy=0.4783, precision=0.1961, recall=0.0140, f1=0.0261, auroc=0.2820, spearman=-0.3776\n",
      "Threshold 0.72: accuracy=0.4800, precision=0.1933, recall=0.0126, f1=0.0237, auroc=0.2820, spearman=-0.3776\n",
      "Threshold 0.73: accuracy=0.4819, precision=0.1932, recall=0.0114, f1=0.0215, auroc=0.2820, spearman=-0.3776\n",
      "Threshold 0.74: accuracy=0.4831, precision=0.1882, recall=0.0102, f1=0.0194, auroc=0.2820, spearman=-0.3776\n",
      "Threshold 0.75: accuracy=0.4851, precision=0.2008, recall=0.0100, f1=0.0191, auroc=0.2820, spearman=-0.3776\n",
      "Threshold 0.76: accuracy=0.4868, precision=0.2080, recall=0.0094, f1=0.0180, auroc=0.2820, spearman=-0.3776\n",
      "Threshold 0.77: accuracy=0.4875, precision=0.2066, recall=0.0088, f1=0.0169, auroc=0.2820, spearman=-0.3776\n",
      "Threshold 0.78: accuracy=0.4882, precision=0.1990, recall=0.0078, f1=0.0150, auroc=0.2820, spearman=-0.3776\n",
      "Threshold 0.79: accuracy=0.4891, precision=0.1989, recall=0.0072, f1=0.0139, auroc=0.2820, spearman=-0.3776\n",
      "Threshold 0.80: accuracy=0.4909, precision=0.2174, recall=0.0070, f1=0.0136, auroc=0.2820, spearman=-0.3776\n",
      "Threshold 0.81: accuracy=0.4915, precision=0.2069, recall=0.0060, f1=0.0117, auroc=0.2820, spearman=-0.3776\n",
      "Threshold 0.82: accuracy=0.4921, precision=0.1890, recall=0.0048, f1=0.0094, auroc=0.2820, spearman=-0.3776\n",
      "Threshold 0.83: accuracy=0.4929, precision=0.1802, recall=0.0040, f1=0.0078, auroc=0.2820, spearman=-0.3776\n",
      "Threshold 0.84: accuracy=0.4932, precision=0.1531, recall=0.0030, f1=0.0059, auroc=0.2820, spearman=-0.3776\n",
      "Threshold 0.85: accuracy=0.4934, precision=0.1250, recall=0.0022, f1=0.0043, auroc=0.2820, spearman=-0.3776\n",
      "Threshold 0.86: accuracy=0.4945, precision=0.1429, recall=0.0022, f1=0.0043, auroc=0.2820, spearman=-0.3776\n",
      "Threshold 0.87: accuracy=0.4956, precision=0.1667, recall=0.0022, f1=0.0043, auroc=0.2820, spearman=-0.3776\n",
      "Threshold 0.88: accuracy=0.4962, precision=0.1724, recall=0.0020, f1=0.0040, auroc=0.2820, spearman=-0.3776\n",
      "Threshold 0.89: accuracy=0.4967, precision=0.1765, recall=0.0018, f1=0.0036, auroc=0.2820, spearman=-0.3776\n",
      "Threshold 0.90: accuracy=0.4968, precision=0.1667, recall=0.0016, f1=0.0032, auroc=0.2820, spearman=-0.3776\n",
      "Threshold 0.91: accuracy=0.4974, precision=0.1750, recall=0.0014, f1=0.0028, auroc=0.2820, spearman=-0.3776\n",
      "Threshold 0.92: accuracy=0.4975, precision=0.1429, recall=0.0010, f1=0.0020, auroc=0.2820, spearman=-0.3776\n",
      "Threshold 0.93: accuracy=0.4980, precision=0.1667, recall=0.0010, f1=0.0020, auroc=0.2820, spearman=-0.3776\n",
      "Threshold 0.94: accuracy=0.4986, precision=0.2083, recall=0.0010, f1=0.0020, auroc=0.2820, spearman=-0.3776\n",
      "Threshold 0.95: accuracy=0.4991, precision=0.2632, recall=0.0010, f1=0.0020, auroc=0.2820, spearman=-0.3776\n",
      "Threshold 0.96: accuracy=0.4992, precision=0.2500, recall=0.0008, f1=0.0016, auroc=0.2820, spearman=-0.3776\n",
      "Threshold 0.97: accuracy=0.4995, precision=0.2727, recall=0.0006, f1=0.0012, auroc=0.2820, spearman=-0.3776\n",
      "Threshold 0.98: accuracy=0.4999, precision=0.4286, recall=0.0006, f1=0.0012, auroc=0.2820, spearman=-0.3776\n",
      "Threshold 0.99: accuracy=0.4998, precision=0.2500, recall=0.0002, f1=0.0004, auroc=0.2820, spearman=-0.3776\n",
      "Threshold 1.00: accuracy=0.5000, precision=0.0000, recall=0.0000, f1=0.0000, auroc=0.2820, spearman=-0.3776\n"
     ]
    }
   ],
   "source": [
    "model_path = os.path.join(model_dir, \"2022-06-04/Federated/Transformer/Unsup-SimCSE/12:51:14-Federated_Transformer_Unsup-SimCSE-global.pt\")\n",
    "model = torch.load(model_path)\n",
    "evaluate(model, test_dl)"
   ]
  },
  {
   "cell_type": "markdown",
   "id": "83da813f",
   "metadata": {
    "pycharm": {
     "name": "#%% md\n"
    }
   },
   "source": [
    "## Transformer+GE-type_Sup"
   ]
  },
  {
   "cell_type": "markdown",
   "id": "8b0ef1c6",
   "metadata": {
    "pycharm": {
     "name": "#%% md\n"
    }
   },
   "source": [
    "### Federated_Transformer+GE-type_Sup-SimCSE"
   ]
  },
  {
   "cell_type": "code",
   "execution_count": 14,
   "id": "294fbdc8",
   "metadata": {
    "pycharm": {
     "name": "#%%\n"
    }
   },
   "outputs": [
    {
     "name": "stdout",
     "output_type": "stream",
     "text": [
      "Threshold 0.50: accuracy=0.8000, precision=0.7185, recall=0.9864, f1=0.8314, auroc=0.9725, spearman=0.8183\n",
      "Threshold 0.51: accuracy=0.8075, precision=0.7268, recall=0.9854, f1=0.8366, auroc=0.9725, spearman=0.8183\n",
      "Threshold 0.52: accuracy=0.8146, precision=0.7347, recall=0.9848, f1=0.8416, auroc=0.9725, spearman=0.8183\n",
      "Threshold 0.53: accuracy=0.8210, precision=0.7419, recall=0.9844, f1=0.8461, auroc=0.9725, spearman=0.8183\n",
      "Threshold 0.54: accuracy=0.8272, precision=0.7493, recall=0.9834, f1=0.8505, auroc=0.9725, spearman=0.8183\n",
      "Threshold 0.55: accuracy=0.8348, precision=0.7586, recall=0.9822, f1=0.8560, auroc=0.9725, spearman=0.8183\n",
      "Threshold 0.56: accuracy=0.8425, precision=0.7683, recall=0.9808, f1=0.8616, auroc=0.9725, spearman=0.8183\n",
      "Threshold 0.57: accuracy=0.8480, precision=0.7757, recall=0.9792, f1=0.8656, auroc=0.9725, spearman=0.8183\n",
      "Threshold 0.58: accuracy=0.8545, precision=0.7842, recall=0.9782, f1=0.8705, auroc=0.9725, spearman=0.8183\n",
      "Threshold 0.59: accuracy=0.8600, precision=0.7921, recall=0.9762, f1=0.8746, auroc=0.9725, spearman=0.8183\n",
      "Threshold 0.60: accuracy=0.8650, precision=0.7995, recall=0.9744, f1=0.8783, auroc=0.9725, spearman=0.8183\n",
      "Threshold 0.61: accuracy=0.8702, precision=0.8071, recall=0.9730, f1=0.8823, auroc=0.9725, spearman=0.8183\n",
      "Threshold 0.62: accuracy=0.8765, precision=0.8170, recall=0.9704, f1=0.8871, auroc=0.9725, spearman=0.8183\n",
      "Threshold 0.63: accuracy=0.8830, precision=0.8269, recall=0.9688, f1=0.8922, auroc=0.9725, spearman=0.8183\n",
      "Threshold 0.64: accuracy=0.8895, precision=0.8373, recall=0.9668, f1=0.8974, auroc=0.9725, spearman=0.8183\n",
      "Threshold 0.65: accuracy=0.8935, precision=0.8455, recall=0.9630, f1=0.9004, auroc=0.9725, spearman=0.8183\n",
      "Threshold 0.66: accuracy=0.8983, precision=0.8539, recall=0.9610, f1=0.9043, auroc=0.9725, spearman=0.8183\n",
      "Threshold 0.67: accuracy=0.9007, precision=0.8599, recall=0.9574, f1=0.9060, auroc=0.9725, spearman=0.8183\n",
      "Threshold 0.68: accuracy=0.9037, precision=0.8675, recall=0.9530, f1=0.9082, auroc=0.9725, spearman=0.8183\n",
      "Threshold 0.69: accuracy=0.9076, precision=0.8763, recall=0.9492, f1=0.9113, auroc=0.9725, spearman=0.8183\n",
      "Threshold 0.70: accuracy=0.9112, precision=0.8850, recall=0.9452, f1=0.9141, auroc=0.9725, spearman=0.8183\n",
      "Threshold 0.71: accuracy=0.9132, precision=0.8917, recall=0.9406, f1=0.9155, auroc=0.9725, spearman=0.8183\n",
      "Threshold 0.72: accuracy=0.9147, precision=0.8979, recall=0.9358, f1=0.9165, auroc=0.9725, spearman=0.8183\n",
      "Threshold 0.73: accuracy=0.9168, precision=0.9053, recall=0.9310, f1=0.9180, auroc=0.9725, spearman=0.8183\n",
      "Threshold 0.74: accuracy=0.9176, precision=0.9096, recall=0.9274, f1=0.9184, auroc=0.9725, spearman=0.8183\n",
      "Threshold 0.75: accuracy=0.9189, precision=0.9178, recall=0.9202, f1=0.9190, auroc=0.9725, spearman=0.8183\n",
      "Threshold 0.76: accuracy=0.9188, precision=0.9242, recall=0.9124, f1=0.9183, auroc=0.9725, spearman=0.8183\n",
      "Threshold 0.77: accuracy=0.9181, precision=0.9290, recall=0.9054, f1=0.9170, auroc=0.9725, spearman=0.8183\n",
      "Threshold 0.78: accuracy=0.9173, precision=0.9346, recall=0.8974, f1=0.9156, auroc=0.9725, spearman=0.8183\n",
      "Threshold 0.79: accuracy=0.9163, precision=0.9403, recall=0.8890, f1=0.9140, auroc=0.9725, spearman=0.8183\n",
      "Threshold 0.80: accuracy=0.9148, precision=0.9449, recall=0.8810, f1=0.9118, auroc=0.9725, spearman=0.8183\n",
      "Threshold 0.81: accuracy=0.9132, precision=0.9509, recall=0.8714, f1=0.9094, auroc=0.9725, spearman=0.8183\n",
      "Threshold 0.82: accuracy=0.9092, precision=0.9563, recall=0.8576, f1=0.9043, auroc=0.9725, spearman=0.8183\n",
      "Threshold 0.83: accuracy=0.9068, precision=0.9606, recall=0.8484, f1=0.9010, auroc=0.9725, spearman=0.8183\n",
      "Threshold 0.84: accuracy=0.9028, precision=0.9656, recall=0.8354, f1=0.8958, auroc=0.9725, spearman=0.8183\n",
      "Threshold 0.85: accuracy=0.8980, precision=0.9676, recall=0.8236, f1=0.8898, auroc=0.9725, spearman=0.8183\n",
      "Threshold 0.86: accuracy=0.8935, precision=0.9704, recall=0.8118, f1=0.8840, auroc=0.9725, spearman=0.8183\n",
      "Threshold 0.87: accuracy=0.8860, precision=0.9733, recall=0.7938, f1=0.8744, auroc=0.9725, spearman=0.8183\n",
      "Threshold 0.88: accuracy=0.8791, precision=0.9766, recall=0.7768, f1=0.8653, auroc=0.9725, spearman=0.8183\n",
      "Threshold 0.89: accuracy=0.8726, precision=0.9804, recall=0.7604, f1=0.8565, auroc=0.9725, spearman=0.8183\n",
      "Threshold 0.90: accuracy=0.8638, precision=0.9830, recall=0.7404, f1=0.8446, auroc=0.9725, spearman=0.8183\n",
      "Threshold 0.91: accuracy=0.8536, precision=0.9849, recall=0.7182, f1=0.8307, auroc=0.9725, spearman=0.8183\n",
      "Threshold 0.92: accuracy=0.8420, precision=0.9875, recall=0.6928, f1=0.8143, auroc=0.9725, spearman=0.8183\n",
      "Threshold 0.93: accuracy=0.8279, precision=0.9895, recall=0.6628, f1=0.7939, auroc=0.9725, spearman=0.8183\n",
      "Threshold 0.94: accuracy=0.8109, precision=0.9905, recall=0.6278, f1=0.7685, auroc=0.9725, spearman=0.8183\n",
      "Threshold 0.95: accuracy=0.7901, precision=0.9925, recall=0.5846, f1=0.7358, auroc=0.9725, spearman=0.8183\n",
      "Threshold 0.96: accuracy=0.7650, precision=0.9926, recall=0.5340, f1=0.6944, auroc=0.9725, spearman=0.8183\n",
      "Threshold 0.97: accuracy=0.7279, precision=0.9922, recall=0.4594, f1=0.6280, auroc=0.9725, spearman=0.8183\n",
      "Threshold 0.98: accuracy=0.6798, precision=0.9923, recall=0.3624, f1=0.5309, auroc=0.9725, spearman=0.8183\n",
      "Threshold 0.99: accuracy=0.5943, precision=0.9937, recall=0.1898, f1=0.3187, auroc=0.9725, spearman=0.8183\n",
      "Threshold 1.00: accuracy=0.5000, precision=0.0000, recall=0.0000, f1=0.0000, auroc=0.9725, spearman=0.8183\n",
      "max_f1=0.919\n"
     ]
    }
   ],
   "source": [
    "model_path = os.path.join(model_dir, \"2022-05-29/configs/global-4Transformer_Type-Sup_SimCSE-Federated-2022.05.29-13:26:13.pt\")\n",
    "model = torch.load(model_path)\n",
    "evaluate(model, test_dl)"
   ]
  },
  {
   "cell_type": "markdown",
   "id": "eb1d8409",
   "metadata": {
    "pycharm": {
     "name": "#%% md\n"
    }
   },
   "source": [
    "### Federated_Transformer+GE-type_Sup-Triplet"
   ]
  },
  {
   "cell_type": "code",
   "execution_count": 58,
   "id": "2a41f909",
   "metadata": {
    "pycharm": {
     "name": "#%%\n"
    }
   },
   "outputs": [
    {
     "name": "stdout",
     "output_type": "stream",
     "text": [
      "Threshold 0.50: accuracy=0.9082, precision=0.9016, recall=0.9164, f1=0.9089, auroc=0.9691, spearman=0.8125\n",
      "Threshold 0.51: accuracy=0.9083, precision=0.9047, recall=0.9128, f1=0.9087, auroc=0.9691, spearman=0.8125\n",
      "Threshold 0.52: accuracy=0.9087, precision=0.9073, recall=0.9104, f1=0.9089, auroc=0.9691, spearman=0.8125\n",
      "Threshold 0.53: accuracy=0.9087, precision=0.9094, recall=0.9078, f1=0.9086, auroc=0.9691, spearman=0.8125\n",
      "Threshold 0.54: accuracy=0.9085, precision=0.9115, recall=0.9048, f1=0.9082, auroc=0.9691, spearman=0.8125\n",
      "Threshold 0.55: accuracy=0.9083, precision=0.9138, recall=0.9016, f1=0.9077, auroc=0.9691, spearman=0.8125\n",
      "Threshold 0.56: accuracy=0.9088, precision=0.9171, recall=0.8988, f1=0.9079, auroc=0.9691, spearman=0.8125\n",
      "Threshold 0.57: accuracy=0.9092, precision=0.9198, recall=0.8966, f1=0.9080, auroc=0.9691, spearman=0.8125\n",
      "Threshold 0.58: accuracy=0.9101, precision=0.9232, recall=0.8946, f1=0.9087, auroc=0.9691, spearman=0.8125\n",
      "Threshold 0.59: accuracy=0.9100, precision=0.9262, recall=0.8910, f1=0.9083, auroc=0.9691, spearman=0.8125\n",
      "Threshold 0.60: accuracy=0.9100, precision=0.9290, recall=0.8878, f1=0.9080, auroc=0.9691, spearman=0.8125\n",
      "Threshold 0.61: accuracy=0.9087, precision=0.9303, recall=0.8836, f1=0.9063, auroc=0.9691, spearman=0.8125\n",
      "Threshold 0.62: accuracy=0.9070, precision=0.9310, recall=0.8792, f1=0.9043, auroc=0.9691, spearman=0.8125\n",
      "Threshold 0.63: accuracy=0.9072, precision=0.9330, recall=0.8774, f1=0.9043, auroc=0.9691, spearman=0.8125\n",
      "Threshold 0.64: accuracy=0.9067, precision=0.9359, recall=0.8732, f1=0.9035, auroc=0.9691, spearman=0.8125\n",
      "Threshold 0.65: accuracy=0.9056, precision=0.9380, recall=0.8686, f1=0.9020, auroc=0.9691, spearman=0.8125\n",
      "Threshold 0.66: accuracy=0.9051, precision=0.9398, recall=0.8656, f1=0.9012, auroc=0.9691, spearman=0.8125\n",
      "Threshold 0.67: accuracy=0.9047, precision=0.9423, recall=0.8622, f1=0.9005, auroc=0.9691, spearman=0.8125\n",
      "Threshold 0.68: accuracy=0.9040, precision=0.9440, recall=0.8590, f1=0.8995, auroc=0.9691, spearman=0.8125\n",
      "Threshold 0.69: accuracy=0.9029, precision=0.9450, recall=0.8556, f1=0.8981, auroc=0.9691, spearman=0.8125\n",
      "Threshold 0.70: accuracy=0.9014, precision=0.9462, recall=0.8512, f1=0.8962, auroc=0.9691, spearman=0.8125\n",
      "Threshold 0.71: accuracy=0.9009, precision=0.9491, recall=0.8472, f1=0.8953, auroc=0.9691, spearman=0.8125\n",
      "Threshold 0.72: accuracy=0.8989, precision=0.9507, recall=0.8414, f1=0.8927, auroc=0.9691, spearman=0.8125\n",
      "Threshold 0.73: accuracy=0.8973, precision=0.9522, recall=0.8366, f1=0.8907, auroc=0.9691, spearman=0.8125\n",
      "Threshold 0.74: accuracy=0.8953, precision=0.9534, recall=0.8312, f1=0.8881, auroc=0.9691, spearman=0.8125\n",
      "Threshold 0.75: accuracy=0.8930, precision=0.9547, recall=0.8252, f1=0.8852, auroc=0.9691, spearman=0.8125\n",
      "Threshold 0.76: accuracy=0.8905, precision=0.9559, recall=0.8188, f1=0.8820, auroc=0.9691, spearman=0.8125\n",
      "Threshold 0.77: accuracy=0.8884, precision=0.9582, recall=0.8122, f1=0.8792, auroc=0.9691, spearman=0.8125\n",
      "Threshold 0.78: accuracy=0.8861, precision=0.9600, recall=0.8058, f1=0.8762, auroc=0.9691, spearman=0.8125\n",
      "Threshold 0.79: accuracy=0.8847, precision=0.9614, recall=0.8016, f1=0.8743, auroc=0.9691, spearman=0.8125\n",
      "Threshold 0.80: accuracy=0.8814, precision=0.9624, recall=0.7938, f1=0.8700, auroc=0.9691, spearman=0.8125\n",
      "Threshold 0.81: accuracy=0.8791, precision=0.9647, recall=0.7870, f1=0.8668, auroc=0.9691, spearman=0.8125\n",
      "Threshold 0.82: accuracy=0.8755, precision=0.9660, recall=0.7784, f1=0.8621, auroc=0.9691, spearman=0.8125\n",
      "Threshold 0.83: accuracy=0.8729, precision=0.9681, recall=0.7712, f1=0.8585, auroc=0.9691, spearman=0.8125\n",
      "Threshold 0.84: accuracy=0.8694, precision=0.9688, recall=0.7634, f1=0.8539, auroc=0.9691, spearman=0.8125\n",
      "Threshold 0.85: accuracy=0.8660, precision=0.9709, recall=0.7546, f1=0.8492, auroc=0.9691, spearman=0.8125\n",
      "Threshold 0.86: accuracy=0.8616, precision=0.9723, recall=0.7444, f1=0.8432, auroc=0.9691, spearman=0.8125\n",
      "Threshold 0.87: accuracy=0.8576, precision=0.9740, recall=0.7348, f1=0.8377, auroc=0.9691, spearman=0.8125\n",
      "Threshold 0.88: accuracy=0.8521, precision=0.9752, recall=0.7226, f1=0.8301, auroc=0.9691, spearman=0.8125\n",
      "Threshold 0.89: accuracy=0.8463, precision=0.9763, recall=0.7098, f1=0.8220, auroc=0.9691, spearman=0.8125\n",
      "Threshold 0.90: accuracy=0.8415, precision=0.9779, recall=0.6988, f1=0.8151, auroc=0.9691, spearman=0.8125\n",
      "Threshold 0.91: accuracy=0.8362, precision=0.9800, recall=0.6864, f1=0.8073, auroc=0.9691, spearman=0.8125\n",
      "Threshold 0.92: accuracy=0.8295, precision=0.9813, recall=0.6718, f1=0.7976, auroc=0.9691, spearman=0.8125\n",
      "Threshold 0.93: accuracy=0.8220, precision=0.9835, recall=0.6550, f1=0.7863, auroc=0.9691, spearman=0.8125\n",
      "Threshold 0.94: accuracy=0.8132, precision=0.9845, recall=0.6364, f1=0.7731, auroc=0.9691, spearman=0.8125\n",
      "Threshold 0.95: accuracy=0.8039, precision=0.9872, recall=0.6158, f1=0.7585, auroc=0.9691, spearman=0.8125\n",
      "Threshold 0.96: accuracy=0.7915, precision=0.9883, recall=0.5900, f1=0.7389, auroc=0.9691, spearman=0.8125\n",
      "Threshold 0.97: accuracy=0.7755, precision=0.9890, recall=0.5572, f1=0.7128, auroc=0.9691, spearman=0.8125\n",
      "Threshold 0.98: accuracy=0.7504, precision=0.9910, recall=0.5054, f1=0.6694, auroc=0.9691, spearman=0.8125\n",
      "Threshold 0.99: accuracy=0.7037, precision=0.9927, recall=0.4104, f1=0.5807, auroc=0.9691, spearman=0.8125\n",
      "Threshold 1.00: accuracy=0.5000, precision=0.0000, recall=0.0000, f1=0.0000, auroc=0.9691, spearman=0.8125\n"
     ]
    }
   ],
   "source": [
    "model_path = os.path.join(model_dir, \"2022-05-30/Federated/Transformer+GE-type/Sup-Triplet/22:24:34-Federated_Transformer+GE-type_Sup-Triplet-global.pt\")\n",
    "model = torch.load(model_path)\n",
    "evaluate(model, test_dl)"
   ]
  },
  {
   "cell_type": "markdown",
   "id": "4f3db31f",
   "metadata": {
    "pycharm": {
     "name": "#%% md\n"
    }
   },
   "source": [
    "## Transformer+GE-type+Entity-Pooler"
   ]
  },
  {
   "cell_type": "markdown",
   "id": "86e41e7d",
   "metadata": {
    "pycharm": {
     "name": "#%% md\n"
    }
   },
   "source": [
    "### Federated_Transformer+GE-type+Entity-Pooler_Sup-SimCSE"
   ]
  },
  {
   "cell_type": "code",
   "execution_count": 59,
   "id": "63c68df8",
   "metadata": {
    "pycharm": {
     "name": "#%%\n"
    }
   },
   "outputs": [
    {
     "name": "stdout",
     "output_type": "stream",
     "text": [
      "Threshold 0.50: accuracy=0.7964, precision=0.7113, recall=0.9978, f1=0.8305, auroc=0.9842, spearman=0.8387\n",
      "Threshold 0.51: accuracy=0.8058, precision=0.7211, recall=0.9974, f1=0.8370, auroc=0.9842, spearman=0.8387\n",
      "Threshold 0.52: accuracy=0.8155, precision=0.7313, recall=0.9974, f1=0.8439, auroc=0.9842, spearman=0.8387\n",
      "Threshold 0.53: accuracy=0.8242, precision=0.7409, recall=0.9970, f1=0.8501, auroc=0.9842, spearman=0.8387\n",
      "Threshold 0.54: accuracy=0.8322, precision=0.7501, recall=0.9964, f1=0.8559, auroc=0.9842, spearman=0.8387\n",
      "Threshold 0.55: accuracy=0.8415, precision=0.7610, recall=0.9956, f1=0.8627, auroc=0.9842, spearman=0.8387\n",
      "Threshold 0.56: accuracy=0.8518, precision=0.7736, recall=0.9946, f1=0.8703, auroc=0.9842, spearman=0.8387\n",
      "Threshold 0.57: accuracy=0.8594, precision=0.7832, recall=0.9940, f1=0.8761, auroc=0.9842, spearman=0.8387\n",
      "Threshold 0.58: accuracy=0.8669, precision=0.7931, recall=0.9928, f1=0.8818, auroc=0.9842, spearman=0.8387\n",
      "Threshold 0.59: accuracy=0.8732, precision=0.8019, recall=0.9912, f1=0.8866, auroc=0.9842, spearman=0.8387\n",
      "Threshold 0.60: accuracy=0.8806, precision=0.8123, recall=0.9900, f1=0.8924, auroc=0.9842, spearman=0.8387\n",
      "Threshold 0.61: accuracy=0.8864, precision=0.8207, recall=0.9888, f1=0.8970, auroc=0.9842, spearman=0.8387\n",
      "Threshold 0.62: accuracy=0.8917, precision=0.8294, recall=0.9862, f1=0.9011, auroc=0.9842, spearman=0.8387\n",
      "Threshold 0.63: accuracy=0.8970, precision=0.8378, recall=0.9846, f1=0.9053, auroc=0.9842, spearman=0.8387\n",
      "Threshold 0.64: accuracy=0.9033, precision=0.8476, recall=0.9834, f1=0.9105, auroc=0.9842, spearman=0.8387\n",
      "Threshold 0.65: accuracy=0.9078, precision=0.8552, recall=0.9818, f1=0.9142, auroc=0.9842, spearman=0.8387\n",
      "Threshold 0.66: accuracy=0.9139, precision=0.8657, recall=0.9798, f1=0.9192, auroc=0.9842, spearman=0.8387\n",
      "Threshold 0.67: accuracy=0.9186, precision=0.8750, recall=0.9768, f1=0.9231, auroc=0.9842, spearman=0.8387\n",
      "Threshold 0.68: accuracy=0.9207, precision=0.8811, recall=0.9726, f1=0.9246, auroc=0.9842, spearman=0.8387\n",
      "Threshold 0.69: accuracy=0.9245, precision=0.8891, recall=0.9700, f1=0.9278, auroc=0.9842, spearman=0.8387\n",
      "Threshold 0.70: accuracy=0.9290, precision=0.8981, recall=0.9678, f1=0.9317, auroc=0.9842, spearman=0.8387\n",
      "Threshold 0.71: accuracy=0.9311, precision=0.9042, recall=0.9644, f1=0.9333, auroc=0.9842, spearman=0.8387\n",
      "Threshold 0.72: accuracy=0.9322, precision=0.9094, recall=0.9600, f1=0.9340, auroc=0.9842, spearman=0.8387\n",
      "Threshold 0.73: accuracy=0.9343, precision=0.9162, recall=0.9560, f1=0.9357, auroc=0.9842, spearman=0.8387\n",
      "Threshold 0.74: accuracy=0.9354, precision=0.9224, recall=0.9508, f1=0.9364, auroc=0.9842, spearman=0.8387\n",
      "Threshold 0.75: accuracy=0.9357, precision=0.9286, recall=0.9440, f1=0.9362, auroc=0.9842, spearman=0.8387\n",
      "Threshold 0.76: accuracy=0.9362, precision=0.9343, recall=0.9384, f1=0.9363, auroc=0.9842, spearman=0.8387\n",
      "Threshold 0.77: accuracy=0.9369, precision=0.9425, recall=0.9306, f1=0.9365, auroc=0.9842, spearman=0.8387\n",
      "Threshold 0.78: accuracy=0.9368, precision=0.9486, recall=0.9236, f1=0.9360, auroc=0.9842, spearman=0.8387\n",
      "Threshold 0.79: accuracy=0.9356, precision=0.9521, recall=0.9174, f1=0.9344, auroc=0.9842, spearman=0.8387\n",
      "Threshold 0.80: accuracy=0.9339, precision=0.9584, recall=0.9072, f1=0.9321, auroc=0.9842, spearman=0.8387\n",
      "Threshold 0.81: accuracy=0.9312, precision=0.9625, recall=0.8974, f1=0.9288, auroc=0.9842, spearman=0.8387\n",
      "Threshold 0.82: accuracy=0.9286, precision=0.9661, recall=0.8884, f1=0.9256, auroc=0.9842, spearman=0.8387\n",
      "Threshold 0.83: accuracy=0.9242, precision=0.9701, recall=0.8754, f1=0.9203, auroc=0.9842, spearman=0.8387\n",
      "Threshold 0.84: accuracy=0.9176, precision=0.9728, recall=0.8592, f1=0.9125, auroc=0.9842, spearman=0.8387\n",
      "Threshold 0.85: accuracy=0.9117, precision=0.9766, recall=0.8436, f1=0.9052, auroc=0.9842, spearman=0.8387\n",
      "Threshold 0.86: accuracy=0.9050, precision=0.9789, recall=0.8278, f1=0.8971, auroc=0.9842, spearman=0.8387\n",
      "Threshold 0.87: accuracy=0.8972, precision=0.9813, recall=0.8098, f1=0.8874, auroc=0.9842, spearman=0.8387\n",
      "Threshold 0.88: accuracy=0.8880, precision=0.9831, recall=0.7896, f1=0.8758, auroc=0.9842, spearman=0.8387\n",
      "Threshold 0.89: accuracy=0.8777, precision=0.9846, recall=0.7674, f1=0.8625, auroc=0.9842, spearman=0.8387\n",
      "Threshold 0.90: accuracy=0.8693, precision=0.9881, recall=0.7476, f1=0.8512, auroc=0.9842, spearman=0.8387\n",
      "Threshold 0.91: accuracy=0.8571, precision=0.9896, recall=0.7218, f1=0.8347, auroc=0.9842, spearman=0.8387\n",
      "Threshold 0.92: accuracy=0.8420, precision=0.9917, recall=0.6898, f1=0.8136, auroc=0.9842, spearman=0.8387\n",
      "Threshold 0.93: accuracy=0.8217, precision=0.9926, recall=0.6482, f1=0.7843, auroc=0.9842, spearman=0.8387\n",
      "Threshold 0.94: accuracy=0.8027, precision=0.9938, recall=0.6092, f1=0.7554, auroc=0.9842, spearman=0.8387\n",
      "Threshold 0.95: accuracy=0.7805, precision=0.9940, recall=0.5644, f1=0.7200, auroc=0.9842, spearman=0.8387\n",
      "Threshold 0.96: accuracy=0.7563, precision=0.9954, recall=0.5150, f1=0.6788, auroc=0.9842, spearman=0.8387\n",
      "Threshold 0.97: accuracy=0.7248, precision=0.9956, recall=0.4516, f1=0.6214, auroc=0.9842, spearman=0.8387\n",
      "Threshold 0.98: accuracy=0.6791, precision=0.9972, recall=0.3592, f1=0.5282, auroc=0.9842, spearman=0.8387\n",
      "Threshold 0.99: accuracy=0.5916, precision=0.9978, recall=0.1836, f1=0.3101, auroc=0.9842, spearman=0.8387\n",
      "Threshold 1.00: accuracy=0.5000, precision=0.0000, recall=0.0000, f1=0.0000, auroc=0.9842, spearman=0.8387\n"
     ]
    }
   ],
   "source": [
    "model_path = os.path.join(model_dir, \"2022-06-03/Federated/Transformer+GE-type+Entity-Pooler/Sup-SimCSE/21:17:10-Federated_Transformer+GE-type+Entity-Pooler_Sup-SimCSE-global.pt\")\n",
    "model = torch.load(model_path)\n",
    "evaluate(model, test_dl)"
   ]
  },
  {
   "cell_type": "markdown",
   "id": "d378777c",
   "metadata": {
    "pycharm": {
     "name": "#%% md\n"
    }
   },
   "source": [
    "### Federated_Transformer+GE-type+Entity-Pooler_Sup-Triplet"
   ]
  },
  {
   "cell_type": "code",
   "execution_count": 12,
   "id": "f233d090",
   "metadata": {
    "pycharm": {
     "name": "#%%\n"
    }
   },
   "outputs": [
    {
     "name": "stdout",
     "output_type": "stream",
     "text": [
      "Threshold 0.50: accuracy=0.8979, precision=0.8865, recall=0.9126, f1=0.8994, auroc=0.9628, spearman=0.8016\n",
      "Threshold 0.51: accuracy=0.8979, precision=0.8882, recall=0.9104, f1=0.8992, auroc=0.9628, spearman=0.8016\n",
      "Threshold 0.52: accuracy=0.8990, precision=0.8918, recall=0.9082, f1=0.8999, auroc=0.9628, spearman=0.8016\n",
      "Threshold 0.53: accuracy=0.8992, precision=0.8946, recall=0.9050, f1=0.8998, auroc=0.9628, spearman=0.8016\n",
      "Threshold 0.54: accuracy=0.8997, precision=0.8976, recall=0.9024, f1=0.9000, auroc=0.9628, spearman=0.8016\n",
      "Threshold 0.55: accuracy=0.8990, precision=0.8992, recall=0.8988, f1=0.8990, auroc=0.9628, spearman=0.8016\n",
      "Threshold 0.56: accuracy=0.8990, precision=0.9027, recall=0.8944, f1=0.8985, auroc=0.9628, spearman=0.8016\n",
      "Threshold 0.57: accuracy=0.8989, precision=0.9038, recall=0.8928, f1=0.8983, auroc=0.9628, spearman=0.8016\n",
      "Threshold 0.58: accuracy=0.8983, precision=0.9062, recall=0.8886, f1=0.8973, auroc=0.9628, spearman=0.8016\n",
      "Threshold 0.59: accuracy=0.8980, precision=0.9081, recall=0.8856, f1=0.8967, auroc=0.9628, spearman=0.8016\n",
      "Threshold 0.60: accuracy=0.8972, precision=0.9107, recall=0.8808, f1=0.8955, auroc=0.9628, spearman=0.8016\n",
      "Threshold 0.61: accuracy=0.8970, precision=0.9120, recall=0.8788, f1=0.8951, auroc=0.9628, spearman=0.8016\n",
      "Threshold 0.62: accuracy=0.8958, precision=0.9128, recall=0.8752, f1=0.8936, auroc=0.9628, spearman=0.8016\n",
      "Threshold 0.63: accuracy=0.8961, precision=0.9156, recall=0.8726, f1=0.8936, auroc=0.9628, spearman=0.8016\n",
      "Threshold 0.64: accuracy=0.8966, precision=0.9180, recall=0.8710, f1=0.8939, auroc=0.9628, spearman=0.8016\n",
      "Threshold 0.65: accuracy=0.8955, precision=0.9199, recall=0.8664, f1=0.8924, auroc=0.9628, spearman=0.8016\n",
      "Threshold 0.66: accuracy=0.8945, precision=0.9217, recall=0.8622, f1=0.8910, auroc=0.9628, spearman=0.8016\n",
      "Threshold 0.67: accuracy=0.8943, precision=0.9235, recall=0.8598, f1=0.8905, auroc=0.9628, spearman=0.8016\n",
      "Threshold 0.68: accuracy=0.8938, precision=0.9251, recall=0.8570, f1=0.8897, auroc=0.9628, spearman=0.8016\n",
      "Threshold 0.69: accuracy=0.8930, precision=0.9274, recall=0.8528, f1=0.8885, auroc=0.9628, spearman=0.8016\n",
      "Threshold 0.70: accuracy=0.8923, precision=0.9295, recall=0.8490, f1=0.8874, auroc=0.9628, spearman=0.8016\n",
      "Threshold 0.71: accuracy=0.8916, precision=0.9311, recall=0.8458, f1=0.8864, auroc=0.9628, spearman=0.8016\n",
      "Threshold 0.72: accuracy=0.8915, precision=0.9334, recall=0.8432, f1=0.8860, auroc=0.9628, spearman=0.8016\n",
      "Threshold 0.73: accuracy=0.8904, precision=0.9347, recall=0.8394, f1=0.8845, auroc=0.9628, spearman=0.8016\n",
      "Threshold 0.74: accuracy=0.8883, precision=0.9356, recall=0.8340, f1=0.8819, auroc=0.9628, spearman=0.8016\n",
      "Threshold 0.75: accuracy=0.8874, precision=0.9392, recall=0.8284, f1=0.8803, auroc=0.9628, spearman=0.8016\n",
      "Threshold 0.76: accuracy=0.8861, precision=0.9415, recall=0.8234, f1=0.8785, auroc=0.9628, spearman=0.8016\n",
      "Threshold 0.77: accuracy=0.8840, precision=0.9428, recall=0.8176, f1=0.8757, auroc=0.9628, spearman=0.8016\n",
      "Threshold 0.78: accuracy=0.8833, precision=0.9448, recall=0.8142, f1=0.8746, auroc=0.9628, spearman=0.8016\n",
      "Threshold 0.79: accuracy=0.8828, precision=0.9476, recall=0.8104, f1=0.8737, auroc=0.9628, spearman=0.8016\n",
      "Threshold 0.80: accuracy=0.8800, precision=0.9496, recall=0.8026, f1=0.8699, auroc=0.9628, spearman=0.8016\n",
      "Threshold 0.81: accuracy=0.8791, precision=0.9523, recall=0.7982, f1=0.8685, auroc=0.9628, spearman=0.8016\n",
      "Threshold 0.82: accuracy=0.8773, precision=0.9538, recall=0.7930, f1=0.8660, auroc=0.9628, spearman=0.8016\n",
      "Threshold 0.83: accuracy=0.8757, precision=0.9567, recall=0.7870, f1=0.8636, auroc=0.9628, spearman=0.8016\n",
      "Threshold 0.84: accuracy=0.8738, precision=0.9590, recall=0.7810, f1=0.8609, auroc=0.9628, spearman=0.8016\n",
      "Threshold 0.85: accuracy=0.8714, precision=0.9608, recall=0.7744, f1=0.8576, auroc=0.9628, spearman=0.8016\n",
      "Threshold 0.86: accuracy=0.8686, precision=0.9617, recall=0.7678, f1=0.8539, auroc=0.9628, spearman=0.8016\n",
      "Threshold 0.87: accuracy=0.8655, precision=0.9630, recall=0.7602, f1=0.8497, auroc=0.9628, spearman=0.8016\n",
      "Threshold 0.88: accuracy=0.8633, precision=0.9661, recall=0.7530, f1=0.8464, auroc=0.9628, spearman=0.8016\n",
      "Threshold 0.89: accuracy=0.8605, precision=0.9685, recall=0.7452, f1=0.8423, auroc=0.9628, spearman=0.8016\n",
      "Threshold 0.90: accuracy=0.8578, precision=0.9700, recall=0.7384, f1=0.8385, auroc=0.9628, spearman=0.8016\n",
      "Threshold 0.91: accuracy=0.8538, precision=0.9725, recall=0.7282, f1=0.8328, auroc=0.9628, spearman=0.8016\n",
      "Threshold 0.92: accuracy=0.8487, precision=0.9739, recall=0.7166, f1=0.8257, auroc=0.9628, spearman=0.8016\n",
      "Threshold 0.93: accuracy=0.8432, precision=0.9767, recall=0.7032, f1=0.8177, auroc=0.9628, spearman=0.8016\n",
      "Threshold 0.94: accuracy=0.8353, precision=0.9783, recall=0.6858, f1=0.8063, auroc=0.9628, spearman=0.8016\n",
      "Threshold 0.95: accuracy=0.8276, precision=0.9795, recall=0.6692, f1=0.7952, auroc=0.9628, spearman=0.8016\n",
      "Threshold 0.96: accuracy=0.8181, precision=0.9821, recall=0.6480, f1=0.7808, auroc=0.9628, spearman=0.8016\n",
      "Threshold 0.97: accuracy=0.8016, precision=0.9836, recall=0.6134, f1=0.7556, auroc=0.9628, spearman=0.8016\n",
      "Threshold 0.98: accuracy=0.7736, precision=0.9868, recall=0.5546, f1=0.7101, auroc=0.9628, spearman=0.8016\n",
      "Threshold 0.99: accuracy=0.7098, precision=0.9906, recall=0.4236, f1=0.5934, auroc=0.9628, spearman=0.8016\n",
      "Threshold 1.00: accuracy=0.5000, precision=0.0000, recall=0.0000, f1=0.0000, auroc=0.9628, spearman=0.8016\n",
      "max_f1=0.9\n"
     ]
    }
   ],
   "source": [
    "model_path = os.path.join(model_dir, \"2022-06-04/Federated/Transformer+GE-type+Entity-Pooler/Sup-Triplet/12:45:15-Federated_Transformer+GE-type+Entity-Pooler_Sup-Triplet-global.pt\")\n",
    "model = torch.load(model_path)\n",
    "evaluate(model, test_dl)"
   ]
  },
  {
   "cell_type": "markdown",
   "id": "393760e8",
   "metadata": {
    "pycharm": {
     "name": "#%% md\n"
    }
   },
   "source": [
    "### Federated_Transformer+GE-type+Entity-Pooler_Unsup-SimCSE"
   ]
  },
  {
   "cell_type": "code",
   "execution_count": 6,
   "id": "c87a6e12",
   "metadata": {
    "pycharm": {
     "name": "#%%\n"
    }
   },
   "outputs": [
    {
     "name": "stdout",
     "output_type": "stream",
     "text": [
      "Threshold 0.50: accuracy=0.3320, precision=0.2965, recall=0.2448, f1=0.2682, auroc=0.2427, spearman=-0.4456\n",
      "Threshold 0.51: accuracy=0.3310, precision=0.2914, recall=0.2360, f1=0.2608, auroc=0.2427, spearman=-0.4456\n",
      "Threshold 0.52: accuracy=0.3321, precision=0.2884, recall=0.2288, f1=0.2552, auroc=0.2427, spearman=-0.4456\n",
      "Threshold 0.53: accuracy=0.3311, precision=0.2825, recall=0.2194, f1=0.2470, auroc=0.2427, spearman=-0.4456\n",
      "Threshold 0.54: accuracy=0.3287, precision=0.2742, recall=0.2080, f1=0.2366, auroc=0.2427, spearman=-0.4456\n",
      "Threshold 0.55: accuracy=0.3295, precision=0.2698, recall=0.1998, f1=0.2296, auroc=0.2427, spearman=-0.4456\n",
      "Threshold 0.56: accuracy=0.3285, precision=0.2623, recall=0.1892, f1=0.2198, auroc=0.2427, spearman=-0.4456\n",
      "Threshold 0.57: accuracy=0.3281, precision=0.2569, recall=0.1816, f1=0.2128, auroc=0.2427, spearman=-0.4456\n",
      "Threshold 0.58: accuracy=0.3264, precision=0.2497, recall=0.1732, f1=0.2045, auroc=0.2427, spearman=-0.4456\n",
      "Threshold 0.59: accuracy=0.3269, precision=0.2463, recall=0.1680, f1=0.1997, auroc=0.2427, spearman=-0.4456\n",
      "Threshold 0.60: accuracy=0.3268, precision=0.2407, recall=0.1608, f1=0.1928, auroc=0.2427, spearman=-0.4456\n",
      "Threshold 0.61: accuracy=0.3261, precision=0.2343, recall=0.1534, f1=0.1854, auroc=0.2427, spearman=-0.4456\n",
      "Threshold 0.62: accuracy=0.3255, precision=0.2262, recall=0.1442, f1=0.1761, auroc=0.2427, spearman=-0.4456\n",
      "Threshold 0.63: accuracy=0.3259, precision=0.2195, recall=0.1362, f1=0.1681, auroc=0.2427, spearman=-0.4456\n",
      "Threshold 0.64: accuracy=0.3263, precision=0.2135, recall=0.1294, f1=0.1611, auroc=0.2427, spearman=-0.4456\n",
      "Threshold 0.65: accuracy=0.3250, precision=0.2054, recall=0.1220, f1=0.1531, auroc=0.2427, spearman=-0.4456\n",
      "Threshold 0.66: accuracy=0.3240, precision=0.1976, recall=0.1150, f1=0.1454, auroc=0.2427, spearman=-0.4456\n",
      "Threshold 0.67: accuracy=0.3255, precision=0.1925, recall=0.1092, f1=0.1393, auroc=0.2427, spearman=-0.4456\n",
      "Threshold 0.68: accuracy=0.3269, precision=0.1883, recall=0.1046, f1=0.1345, auroc=0.2427, spearman=-0.4456\n",
      "Threshold 0.69: accuracy=0.3280, precision=0.1838, recall=0.1000, f1=0.1295, auroc=0.2427, spearman=-0.4456\n",
      "Threshold 0.70: accuracy=0.3286, precision=0.1764, recall=0.0934, f1=0.1221, auroc=0.2427, spearman=-0.4456\n",
      "Threshold 0.71: accuracy=0.3300, precision=0.1718, recall=0.0890, f1=0.1173, auroc=0.2427, spearman=-0.4456\n",
      "Threshold 0.72: accuracy=0.3301, precision=0.1630, recall=0.0822, f1=0.1093, auroc=0.2427, spearman=-0.4456\n",
      "Threshold 0.73: accuracy=0.3311, precision=0.1571, recall=0.0774, f1=0.1037, auroc=0.2427, spearman=-0.4456\n",
      "Threshold 0.74: accuracy=0.3324, precision=0.1494, recall=0.0714, f1=0.0966, auroc=0.2427, spearman=-0.4456\n",
      "Threshold 0.75: accuracy=0.3343, precision=0.1403, recall=0.0646, f1=0.0885, auroc=0.2427, spearman=-0.4456\n",
      "Threshold 0.76: accuracy=0.3360, precision=0.1320, recall=0.0588, f1=0.0814, auroc=0.2427, spearman=-0.4456\n",
      "Threshold 0.77: accuracy=0.3390, precision=0.1249, recall=0.0536, f1=0.0750, auroc=0.2427, spearman=-0.4456\n",
      "Threshold 0.78: accuracy=0.3421, precision=0.1195, recall=0.0496, f1=0.0701, auroc=0.2427, spearman=-0.4456\n",
      "Threshold 0.79: accuracy=0.3451, precision=0.1114, recall=0.0444, f1=0.0635, auroc=0.2427, spearman=-0.4456\n",
      "Threshold 0.80: accuracy=0.3478, precision=0.1032, recall=0.0396, f1=0.0572, auroc=0.2427, spearman=-0.4456\n",
      "Threshold 0.81: accuracy=0.3516, precision=0.0972, recall=0.0358, f1=0.0523, auroc=0.2427, spearman=-0.4456\n",
      "Threshold 0.82: accuracy=0.3549, precision=0.0880, recall=0.0310, f1=0.0459, auroc=0.2427, spearman=-0.4456\n",
      "Threshold 0.83: accuracy=0.3587, precision=0.0797, recall=0.0268, f1=0.0401, auroc=0.2427, spearman=-0.4456\n",
      "Threshold 0.84: accuracy=0.3640, precision=0.0718, recall=0.0228, f1=0.0346, auroc=0.2427, spearman=-0.4456\n",
      "Threshold 0.85: accuracy=0.3665, precision=0.0582, recall=0.0176, f1=0.0270, auroc=0.2427, spearman=-0.4456\n",
      "Threshold 0.86: accuracy=0.3714, precision=0.0559, recall=0.0162, f1=0.0251, auroc=0.2427, spearman=-0.4456\n",
      "Threshold 0.87: accuracy=0.3760, precision=0.0461, recall=0.0126, f1=0.0198, auroc=0.2427, spearman=-0.4456\n",
      "Threshold 0.88: accuracy=0.3805, precision=0.0386, recall=0.0100, f1=0.0159, auroc=0.2427, spearman=-0.4456\n",
      "Threshold 0.89: accuracy=0.3849, precision=0.0340, recall=0.0084, f1=0.0135, auroc=0.2427, spearman=-0.4456\n",
      "Threshold 0.90: accuracy=0.3891, precision=0.0281, recall=0.0066, f1=0.0107, auroc=0.2427, spearman=-0.4456\n",
      "Threshold 0.91: accuracy=0.3931, precision=0.0223, recall=0.0050, f1=0.0082, auroc=0.2427, spearman=-0.4456\n",
      "Threshold 0.92: accuracy=0.3966, precision=0.0168, recall=0.0036, f1=0.0059, auroc=0.2427, spearman=-0.4456\n",
      "Threshold 0.93: accuracy=0.4004, precision=0.0137, recall=0.0028, f1=0.0046, auroc=0.2427, spearman=-0.4456\n",
      "Threshold 0.94: accuracy=0.4042, precision=0.0112, recall=0.0022, f1=0.0037, auroc=0.2427, spearman=-0.4456\n",
      "Threshold 0.95: accuracy=0.4064, precision=0.0094, recall=0.0018, f1=0.0030, auroc=0.2427, spearman=-0.4456\n",
      "Threshold 0.96: accuracy=0.4113, precision=0.0078, recall=0.0014, f1=0.0024, auroc=0.2427, spearman=-0.4456\n",
      "Threshold 0.97: accuracy=0.4138, precision=0.0080, recall=0.0014, f1=0.0024, auroc=0.2427, spearman=-0.4456\n",
      "Threshold 0.98: accuracy=0.4157, precision=0.0070, recall=0.0012, f1=0.0020, auroc=0.2427, spearman=-0.4456\n",
      "Threshold 0.99: accuracy=0.4165, precision=0.0071, recall=0.0012, f1=0.0021, auroc=0.2427, spearman=-0.4456\n",
      "Threshold 1.00: accuracy=0.5000, precision=0.0000, recall=0.0000, f1=0.0000, auroc=0.2427, spearman=-0.4456\n"
     ]
    }
   ],
   "source": [
    "model_path = os.path.join(model_dir, \"2022-06-04/Federated/Transformer+GE-type+Entity-Pooler/Unsup-SimCSE/12:56:14-Federated_Transformer+GE-type+Entity-Pooler_Unsup-SimCSE-global.pt\")\n",
    "model = torch.load(model_path)\n",
    "evaluate(model, test_dl)"
   ]
  },
  {
   "cell_type": "code",
   "execution_count": null,
   "id": "8c473c50",
   "metadata": {
    "pycharm": {
     "name": "#%%\n"
    }
   },
   "outputs": [],
   "source": []
  }
 ],
 "metadata": {
  "kernelspec": {
   "display_name": "main",
   "language": "python",
   "name": "main"
  },
  "language_info": {
   "codemirror_mode": {
    "name": "ipython",
    "version": 3
   },
   "file_extension": ".py",
   "mimetype": "text/x-python",
   "name": "python",
   "nbconvert_exporter": "python",
   "pygments_lexer": "ipython3",
   "version": "3.8.13"
  },
  "toc-autonumbering": true,
  "toc-showmarkdowntxt": false,
  "toc-showtags": false
 },
 "nbformat": 4,
 "nbformat_minor": 5
}